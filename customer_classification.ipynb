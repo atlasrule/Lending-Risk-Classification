{
 "cells": [
  {
   "cell_type": "markdown",
   "id": "f801ff7e",
   "metadata": {},
   "source": [
    "# Customer Lending Risk Classification\n",
    "\n",
    "<br>\n",
    "<br>\n",
    "\n",
    "### Introduction\n",
    "\n",
    ">This is a personal study made on credit dataset.\n",
    ">The problem is binary classification, to classify bank customers as their lending ratings.\n",
    "\n",
    "<br>\n",
    "\n",
    "### Data Preprocessing\n",
    ">First I've analysed the dataset by reading through the CSV.\n",
    ">Checked for any unknown values, the data had no empty cells.\n",
    ">Used label encoding\n",
    "\n",
    "<br>\n",
    "\n",
    "### Dataset Observations\n",
    ">Examined the correlation matrix, this helped tweaking the bayesian network nodes.\n",
    ">\n",
    ">The target class is imbalanced, while there is 700 'good' credit samples,\n",
    ">there is only 300 'bad' credit samples included.\n",
    ">\n",
    ">The data didn't have any null/NaN/? values.\n",
    ">\n",
    ">All data were categorical, while evaluation, I took that into account.\n",
    ">\n",
    ">The dataset was lack of any single females. This particular data must be gathered\n",
    ">in case of any single female prediction need.\n",
    "\n",
    "<br>\n",
    "\n",
    "### Tested algorithms:\n",
    "<ul>\n",
    "<li> Categorical Naive Bayes </li> \n",
    "<li> DecisionTreeClassifier </li>\n",
    "<li> GaussianNB </li>\n",
    "<li> KNeighborsClassifier </li>\n",
    "<li> LGBMClassifier </li>\n",
    "<li> LinearDiscriminantAnalysis </li>\n",
    "<li> LogisticRegression </li>\n",
    "<li> RandomForestClassifier </li>\n",
    "<li> Support Vector Classifier\n",
    "<li> XGBClassifier </li>\n",
    "<li> Bayesian  Network </li>\n",
    "</ul>"
   ]
  },
  {
   "cell_type": "code",
   "execution_count": 176,
   "id": "b3c4a039",
   "metadata": {},
   "outputs": [
    {
     "data": {
      "text/html": [
       "        <script type=\"text/javascript\">\n",
       "        window.PlotlyConfig = {MathJaxConfig: 'local'};\n",
       "        if (window.MathJax && window.MathJax.Hub && window.MathJax.Hub.Config) {window.MathJax.Hub.Config({SVG: {font: \"STIX-Web\"}});}\n",
       "        if (typeof require !== 'undefined') {\n",
       "        require.undef(\"plotly\");\n",
       "        requirejs.config({\n",
       "            paths: {\n",
       "                'plotly': ['https://cdn.plot.ly/plotly-2.12.1.min']\n",
       "            }\n",
       "        });\n",
       "        require(['plotly'], function(Plotly) {\n",
       "            window._Plotly = Plotly;\n",
       "        });\n",
       "        }\n",
       "        </script>\n",
       "        "
      ]
     },
     "metadata": {},
     "output_type": "display_data"
    }
   ],
   "source": [
    "from sklearn.naive_bayes import CategoricalNB\n",
    "import pandas as pd\n",
    "import numpy as np\n",
    "from sklearn import metrics\n",
    "from sklearn.metrics import confusion_matrix, accuracy_score\n",
    "\n",
    "import seaborn as sns\n",
    "import matplotlib.pyplot as plt\n",
    "\n",
    "# PLotly\n",
    "import plotly.offline as py\n",
    "py.init_notebook_mode(connected=True)\n",
    "import plotly.tools as tls\n",
    "import plotly.graph_objs as go\n",
    "import plotly.express as px\n",
    "\n",
    "from sklearn.model_selection import train_test_split, KFold, cross_val_score, GridSearchCV                                         # to split the data\n",
    "from sklearn.metrics import mean_squared_error, r2_score, accuracy_score, confusion_matrix, classification_report, fbeta_score     # to evaluate our model\n",
    "\n",
    "# Algorithmns models to be compared\n",
    "from sklearn.tree import DecisionTreeClassifier\n",
    "from sklearn.naive_bayes import GaussianNB\n",
    "from sklearn.neighbors import KNeighborsClassifier\n",
    "from lightgbm import LGBMClassifier\n",
    "from sklearn.discriminant_analysis import LinearDiscriminantAnalysis\n",
    "from sklearn.linear_model import LogisticRegression\n",
    "from sklearn.ensemble import RandomForestClassifier\n",
    "from sklearn.svm import SVC\n",
    "from xgboost import XGBClassifier\n",
    "from pgmpy.models import BayesianNetwork"
   ]
  },
  {
   "cell_type": "code",
   "execution_count": 177,
   "id": "623b9dcd",
   "metadata": {},
   "outputs": [
    {
     "data": {
      "text/html": [
       "<div>\n",
       "<style scoped>\n",
       "    .dataframe tbody tr th:only-of-type {\n",
       "        vertical-align: middle;\n",
       "    }\n",
       "\n",
       "    .dataframe tbody tr th {\n",
       "        vertical-align: top;\n",
       "    }\n",
       "\n",
       "    .dataframe thead th {\n",
       "        text-align: right;\n",
       "    }\n",
       "</style>\n",
       "<table border=\"1\" class=\"dataframe\">\n",
       "  <thead>\n",
       "    <tr style=\"text-align: right;\">\n",
       "      <th></th>\n",
       "      <th>credit_history</th>\n",
       "      <th>purpose</th>\n",
       "      <th>employment</th>\n",
       "      <th>personal_status</th>\n",
       "      <th>property_magnitude</th>\n",
       "      <th>housing</th>\n",
       "      <th>job</th>\n",
       "      <th>own_telephone</th>\n",
       "      <th>class</th>\n",
       "    </tr>\n",
       "  </thead>\n",
       "  <tbody>\n",
       "    <tr>\n",
       "      <th>0</th>\n",
       "      <td>critical/other existing credit</td>\n",
       "      <td>furniture/equipment</td>\n",
       "      <td>1&lt;=X&lt;4</td>\n",
       "      <td>male div/sep</td>\n",
       "      <td>real estate</td>\n",
       "      <td>rent</td>\n",
       "      <td>high qualif/self emp/mgmt</td>\n",
       "      <td>yes</td>\n",
       "      <td>bad</td>\n",
       "    </tr>\n",
       "    <tr>\n",
       "      <th>1</th>\n",
       "      <td>delayed previously</td>\n",
       "      <td>repairs</td>\n",
       "      <td>1&lt;=X&lt;4</td>\n",
       "      <td>male mar/wid</td>\n",
       "      <td>life insurance</td>\n",
       "      <td>own</td>\n",
       "      <td>skilled</td>\n",
       "      <td>none</td>\n",
       "      <td>bad</td>\n",
       "    </tr>\n",
       "    <tr>\n",
       "      <th>2</th>\n",
       "      <td>existing paid</td>\n",
       "      <td>new car</td>\n",
       "      <td>1&lt;=X&lt;4</td>\n",
       "      <td>male single</td>\n",
       "      <td>no known property</td>\n",
       "      <td>for free</td>\n",
       "      <td>skilled</td>\n",
       "      <td>yes</td>\n",
       "      <td>good</td>\n",
       "    </tr>\n",
       "    <tr>\n",
       "      <th>3</th>\n",
       "      <td>delayed previously</td>\n",
       "      <td>radio/tv</td>\n",
       "      <td>&gt;=7</td>\n",
       "      <td>male single</td>\n",
       "      <td>car</td>\n",
       "      <td>own</td>\n",
       "      <td>skilled</td>\n",
       "      <td>none</td>\n",
       "      <td>good</td>\n",
       "    </tr>\n",
       "    <tr>\n",
       "      <th>4</th>\n",
       "      <td>critical/other existing credit</td>\n",
       "      <td>repairs</td>\n",
       "      <td>&gt;=7</td>\n",
       "      <td>male single</td>\n",
       "      <td>no known property</td>\n",
       "      <td>for free</td>\n",
       "      <td>skilled</td>\n",
       "      <td>none</td>\n",
       "      <td>good</td>\n",
       "    </tr>\n",
       "  </tbody>\n",
       "</table>\n",
       "</div>"
      ],
      "text/plain": [
       "                   credit_history              purpose employment  \\\n",
       "0  critical/other existing credit  furniture/equipment     1<=X<4   \n",
       "1              delayed previously              repairs     1<=X<4   \n",
       "2                   existing paid              new car     1<=X<4   \n",
       "3              delayed previously             radio/tv        >=7   \n",
       "4  critical/other existing credit              repairs        >=7   \n",
       "\n",
       "  personal_status property_magnitude   housing                        job  \\\n",
       "0    male div/sep        real estate      rent  high qualif/self emp/mgmt   \n",
       "1    male mar/wid     life insurance       own                    skilled   \n",
       "2     male single  no known property  for free                    skilled   \n",
       "3     male single                car       own                    skilled   \n",
       "4     male single  no known property  for free                    skilled   \n",
       "\n",
       "  own_telephone class  \n",
       "0           yes   bad  \n",
       "1          none   bad  \n",
       "2           yes  good  \n",
       "3          none  good  \n",
       "4          none  good  "
      ]
     },
     "execution_count": 177,
     "metadata": {},
     "output_type": "execute_result"
    }
   ],
   "source": [
    "train_data = pd.read_csv('C:/Users/Berkay/Desktop/train.csv')\n",
    "test_data = pd.read_csv('C:/Users/Berkay/Desktop/test.csv')\n",
    "all_data = train_data.append(test_data, ignore_index=True)\n",
    "all_data.head()"
   ]
  },
  {
   "cell_type": "code",
   "execution_count": 178,
   "id": "f6a32180",
   "metadata": {
    "scrolled": true
   },
   "outputs": [
    {
     "name": "stdout",
     "output_type": "stream",
     "text": [
      "<class 'pandas.core.frame.DataFrame'>\n",
      "RangeIndex: 1000 entries, 0 to 999\n",
      "Data columns (total 9 columns):\n",
      " #   Column              Non-Null Count  Dtype \n",
      "---  ------              --------------  ----- \n",
      " 0   credit_history      1000 non-null   object\n",
      " 1   purpose             1000 non-null   object\n",
      " 2   employment          1000 non-null   object\n",
      " 3   personal_status     1000 non-null   object\n",
      " 4   property_magnitude  1000 non-null   object\n",
      " 5   housing             1000 non-null   object\n",
      " 6   job                 1000 non-null   object\n",
      " 7   own_telephone       1000 non-null   object\n",
      " 8   class               1000 non-null   object\n",
      "dtypes: object(9)\n",
      "memory usage: 70.4+ KB\n"
     ]
    }
   ],
   "source": [
    "#Looking for any inconvenient values in all data\n",
    "all_data.info()"
   ]
  },
  {
   "cell_type": "code",
   "execution_count": 179,
   "id": "c490fdd4",
   "metadata": {},
   "outputs": [
    {
     "name": "stdout",
     "output_type": "stream",
     "text": [
      "- Correlations to credit risk:\n",
      "class                 1.000000\n",
      "purpose               0.139263\n",
      "personal_status       0.089535\n",
      "property_magnitude    0.055529\n",
      "own_telephone         0.036466\n",
      "job                   0.032756\n",
      "employment           -0.008932\n",
      "housing              -0.019315\n",
      "credit_history       -0.097054\n",
      "Name: class, dtype: float64\n"
     ]
    },
    {
     "data": {
      "application/vnd.plotly.v1+json": {
       "config": {
        "plotlyServerURL": "https://plot.ly"
       },
       "data": [
        {
         "coloraxis": "coloraxis",
         "hovertemplate": "x: %{x}<br>y: %{y}<br>color: %{z}<extra></extra>",
         "name": "0",
         "type": "heatmap",
         "x": [
          "credit_history",
          "purpose",
          "employment",
          "personal_status",
          "property_magnitude",
          "housing",
          "job",
          "own_telephone",
          "class"
         ],
         "xaxis": "x",
         "y": [
          "credit_history",
          "purpose",
          "employment",
          "personal_status",
          "property_magnitude",
          "housing",
          "job",
          "own_telephone",
          "class"
         ],
         "yaxis": "y",
         "z": [
          [
           1,
           -0.007650596649906779,
           -0.08815802755609257,
           -0.08028151525933878,
           -0.040034615122100145,
           0.08402598231948137,
           -0.01392137891298818,
           -0.039236704006607295,
           -0.09705383552732562
          ],
          [
           -0.007650596649906779,
           1,
           0.07067731604366927,
           0.05214216337136985,
           -0.01181441405709029,
           -0.059696367258278565,
           -0.07275718314632794,
           0.006522146214345334,
           0.13926252645069093
          ],
          [
           -0.08815802755609257,
           0.07067731604366927,
           1,
           0.048533151921102594,
           -0.022535690089732413,
           -0.12652921223746474,
           -0.14227930117290152,
           0.11056813997499408,
           -0.008932424004718904
          ],
          [
           -0.08028151525933878,
           0.05214216337136985,
           0.048533151921102594,
           1,
           0.015353546985130782,
           -0.24594940638687793,
           -0.04037511247433954,
           0.07891890791476668,
           0.08953502641930441
          ],
          [
           -0.040034615122100145,
           -0.01181441405709029,
           -0.022535690089732413,
           0.015353546985130782,
           1,
           -0.10021066442699851,
           0.21155641730448338,
           -0.10597931804108839,
           0.05552923160549701
          ],
          [
           0.08402598231948137,
           -0.059696367258278565,
           -0.12652921223746474,
           -0.24594940638687793,
           -0.10021066442699851,
           1,
           0.10659601647788136,
           -0.10241041799457563,
           -0.019315023005581855
          ],
          [
           -0.01392137891298818,
           -0.07275718314632794,
           -0.14227930117290152,
           -0.04037511247433954,
           0.21155641730448338,
           0.10659601647788136,
           1,
           -0.3655650898284262,
           0.03275560455847897
          ],
          [
           -0.039236704006607295,
           0.006522146214345334,
           0.11056813997499408,
           0.07891890791476668,
           -0.10597931804108839,
           -0.10241041799457563,
           -0.3655650898284262,
           1,
           0.036466190179963054
          ],
          [
           -0.09705383552732562,
           0.13926252645069093,
           -0.008932424004718904,
           0.08953502641930441,
           0.05552923160549701,
           -0.019315023005581855,
           0.03275560455847897,
           0.036466190179963054,
           1
          ]
         ]
        }
       ],
       "layout": {
        "coloraxis": {
         "colorscale": [
          [
           0,
           "#0d0887"
          ],
          [
           0.1111111111111111,
           "#46039f"
          ],
          [
           0.2222222222222222,
           "#7201a8"
          ],
          [
           0.3333333333333333,
           "#9c179e"
          ],
          [
           0.4444444444444444,
           "#bd3786"
          ],
          [
           0.5555555555555556,
           "#d8576b"
          ],
          [
           0.6666666666666666,
           "#ed7953"
          ],
          [
           0.7777777777777778,
           "#fb9f3a"
          ],
          [
           0.8888888888888888,
           "#fdca26"
          ],
          [
           1,
           "#f0f921"
          ]
         ]
        },
        "template": {
         "data": {
          "bar": [
           {
            "error_x": {
             "color": "#2a3f5f"
            },
            "error_y": {
             "color": "#2a3f5f"
            },
            "marker": {
             "line": {
              "color": "#E5ECF6",
              "width": 0.5
             },
             "pattern": {
              "fillmode": "overlay",
              "size": 10,
              "solidity": 0.2
             }
            },
            "type": "bar"
           }
          ],
          "barpolar": [
           {
            "marker": {
             "line": {
              "color": "#E5ECF6",
              "width": 0.5
             },
             "pattern": {
              "fillmode": "overlay",
              "size": 10,
              "solidity": 0.2
             }
            },
            "type": "barpolar"
           }
          ],
          "carpet": [
           {
            "aaxis": {
             "endlinecolor": "#2a3f5f",
             "gridcolor": "white",
             "linecolor": "white",
             "minorgridcolor": "white",
             "startlinecolor": "#2a3f5f"
            },
            "baxis": {
             "endlinecolor": "#2a3f5f",
             "gridcolor": "white",
             "linecolor": "white",
             "minorgridcolor": "white",
             "startlinecolor": "#2a3f5f"
            },
            "type": "carpet"
           }
          ],
          "choropleth": [
           {
            "colorbar": {
             "outlinewidth": 0,
             "ticks": ""
            },
            "type": "choropleth"
           }
          ],
          "contour": [
           {
            "colorbar": {
             "outlinewidth": 0,
             "ticks": ""
            },
            "colorscale": [
             [
              0,
              "#0d0887"
             ],
             [
              0.1111111111111111,
              "#46039f"
             ],
             [
              0.2222222222222222,
              "#7201a8"
             ],
             [
              0.3333333333333333,
              "#9c179e"
             ],
             [
              0.4444444444444444,
              "#bd3786"
             ],
             [
              0.5555555555555556,
              "#d8576b"
             ],
             [
              0.6666666666666666,
              "#ed7953"
             ],
             [
              0.7777777777777778,
              "#fb9f3a"
             ],
             [
              0.8888888888888888,
              "#fdca26"
             ],
             [
              1,
              "#f0f921"
             ]
            ],
            "type": "contour"
           }
          ],
          "contourcarpet": [
           {
            "colorbar": {
             "outlinewidth": 0,
             "ticks": ""
            },
            "type": "contourcarpet"
           }
          ],
          "heatmap": [
           {
            "colorbar": {
             "outlinewidth": 0,
             "ticks": ""
            },
            "colorscale": [
             [
              0,
              "#0d0887"
             ],
             [
              0.1111111111111111,
              "#46039f"
             ],
             [
              0.2222222222222222,
              "#7201a8"
             ],
             [
              0.3333333333333333,
              "#9c179e"
             ],
             [
              0.4444444444444444,
              "#bd3786"
             ],
             [
              0.5555555555555556,
              "#d8576b"
             ],
             [
              0.6666666666666666,
              "#ed7953"
             ],
             [
              0.7777777777777778,
              "#fb9f3a"
             ],
             [
              0.8888888888888888,
              "#fdca26"
             ],
             [
              1,
              "#f0f921"
             ]
            ],
            "type": "heatmap"
           }
          ],
          "heatmapgl": [
           {
            "colorbar": {
             "outlinewidth": 0,
             "ticks": ""
            },
            "colorscale": [
             [
              0,
              "#0d0887"
             ],
             [
              0.1111111111111111,
              "#46039f"
             ],
             [
              0.2222222222222222,
              "#7201a8"
             ],
             [
              0.3333333333333333,
              "#9c179e"
             ],
             [
              0.4444444444444444,
              "#bd3786"
             ],
             [
              0.5555555555555556,
              "#d8576b"
             ],
             [
              0.6666666666666666,
              "#ed7953"
             ],
             [
              0.7777777777777778,
              "#fb9f3a"
             ],
             [
              0.8888888888888888,
              "#fdca26"
             ],
             [
              1,
              "#f0f921"
             ]
            ],
            "type": "heatmapgl"
           }
          ],
          "histogram": [
           {
            "marker": {
             "pattern": {
              "fillmode": "overlay",
              "size": 10,
              "solidity": 0.2
             }
            },
            "type": "histogram"
           }
          ],
          "histogram2d": [
           {
            "colorbar": {
             "outlinewidth": 0,
             "ticks": ""
            },
            "colorscale": [
             [
              0,
              "#0d0887"
             ],
             [
              0.1111111111111111,
              "#46039f"
             ],
             [
              0.2222222222222222,
              "#7201a8"
             ],
             [
              0.3333333333333333,
              "#9c179e"
             ],
             [
              0.4444444444444444,
              "#bd3786"
             ],
             [
              0.5555555555555556,
              "#d8576b"
             ],
             [
              0.6666666666666666,
              "#ed7953"
             ],
             [
              0.7777777777777778,
              "#fb9f3a"
             ],
             [
              0.8888888888888888,
              "#fdca26"
             ],
             [
              1,
              "#f0f921"
             ]
            ],
            "type": "histogram2d"
           }
          ],
          "histogram2dcontour": [
           {
            "colorbar": {
             "outlinewidth": 0,
             "ticks": ""
            },
            "colorscale": [
             [
              0,
              "#0d0887"
             ],
             [
              0.1111111111111111,
              "#46039f"
             ],
             [
              0.2222222222222222,
              "#7201a8"
             ],
             [
              0.3333333333333333,
              "#9c179e"
             ],
             [
              0.4444444444444444,
              "#bd3786"
             ],
             [
              0.5555555555555556,
              "#d8576b"
             ],
             [
              0.6666666666666666,
              "#ed7953"
             ],
             [
              0.7777777777777778,
              "#fb9f3a"
             ],
             [
              0.8888888888888888,
              "#fdca26"
             ],
             [
              1,
              "#f0f921"
             ]
            ],
            "type": "histogram2dcontour"
           }
          ],
          "mesh3d": [
           {
            "colorbar": {
             "outlinewidth": 0,
             "ticks": ""
            },
            "type": "mesh3d"
           }
          ],
          "parcoords": [
           {
            "line": {
             "colorbar": {
              "outlinewidth": 0,
              "ticks": ""
             }
            },
            "type": "parcoords"
           }
          ],
          "pie": [
           {
            "automargin": true,
            "type": "pie"
           }
          ],
          "scatter": [
           {
            "fillpattern": {
             "fillmode": "overlay",
             "size": 10,
             "solidity": 0.2
            },
            "type": "scatter"
           }
          ],
          "scatter3d": [
           {
            "line": {
             "colorbar": {
              "outlinewidth": 0,
              "ticks": ""
             }
            },
            "marker": {
             "colorbar": {
              "outlinewidth": 0,
              "ticks": ""
             }
            },
            "type": "scatter3d"
           }
          ],
          "scattercarpet": [
           {
            "marker": {
             "colorbar": {
              "outlinewidth": 0,
              "ticks": ""
             }
            },
            "type": "scattercarpet"
           }
          ],
          "scattergeo": [
           {
            "marker": {
             "colorbar": {
              "outlinewidth": 0,
              "ticks": ""
             }
            },
            "type": "scattergeo"
           }
          ],
          "scattergl": [
           {
            "marker": {
             "colorbar": {
              "outlinewidth": 0,
              "ticks": ""
             }
            },
            "type": "scattergl"
           }
          ],
          "scattermapbox": [
           {
            "marker": {
             "colorbar": {
              "outlinewidth": 0,
              "ticks": ""
             }
            },
            "type": "scattermapbox"
           }
          ],
          "scatterpolar": [
           {
            "marker": {
             "colorbar": {
              "outlinewidth": 0,
              "ticks": ""
             }
            },
            "type": "scatterpolar"
           }
          ],
          "scatterpolargl": [
           {
            "marker": {
             "colorbar": {
              "outlinewidth": 0,
              "ticks": ""
             }
            },
            "type": "scatterpolargl"
           }
          ],
          "scatterternary": [
           {
            "marker": {
             "colorbar": {
              "outlinewidth": 0,
              "ticks": ""
             }
            },
            "type": "scatterternary"
           }
          ],
          "surface": [
           {
            "colorbar": {
             "outlinewidth": 0,
             "ticks": ""
            },
            "colorscale": [
             [
              0,
              "#0d0887"
             ],
             [
              0.1111111111111111,
              "#46039f"
             ],
             [
              0.2222222222222222,
              "#7201a8"
             ],
             [
              0.3333333333333333,
              "#9c179e"
             ],
             [
              0.4444444444444444,
              "#bd3786"
             ],
             [
              0.5555555555555556,
              "#d8576b"
             ],
             [
              0.6666666666666666,
              "#ed7953"
             ],
             [
              0.7777777777777778,
              "#fb9f3a"
             ],
             [
              0.8888888888888888,
              "#fdca26"
             ],
             [
              1,
              "#f0f921"
             ]
            ],
            "type": "surface"
           }
          ],
          "table": [
           {
            "cells": {
             "fill": {
              "color": "#EBF0F8"
             },
             "line": {
              "color": "white"
             }
            },
            "header": {
             "fill": {
              "color": "#C8D4E3"
             },
             "line": {
              "color": "white"
             }
            },
            "type": "table"
           }
          ]
         },
         "layout": {
          "annotationdefaults": {
           "arrowcolor": "#2a3f5f",
           "arrowhead": 0,
           "arrowwidth": 1
          },
          "autotypenumbers": "strict",
          "coloraxis": {
           "colorbar": {
            "outlinewidth": 0,
            "ticks": ""
           }
          },
          "colorscale": {
           "diverging": [
            [
             0,
             "#8e0152"
            ],
            [
             0.1,
             "#c51b7d"
            ],
            [
             0.2,
             "#de77ae"
            ],
            [
             0.3,
             "#f1b6da"
            ],
            [
             0.4,
             "#fde0ef"
            ],
            [
             0.5,
             "#f7f7f7"
            ],
            [
             0.6,
             "#e6f5d0"
            ],
            [
             0.7,
             "#b8e186"
            ],
            [
             0.8,
             "#7fbc41"
            ],
            [
             0.9,
             "#4d9221"
            ],
            [
             1,
             "#276419"
            ]
           ],
           "sequential": [
            [
             0,
             "#0d0887"
            ],
            [
             0.1111111111111111,
             "#46039f"
            ],
            [
             0.2222222222222222,
             "#7201a8"
            ],
            [
             0.3333333333333333,
             "#9c179e"
            ],
            [
             0.4444444444444444,
             "#bd3786"
            ],
            [
             0.5555555555555556,
             "#d8576b"
            ],
            [
             0.6666666666666666,
             "#ed7953"
            ],
            [
             0.7777777777777778,
             "#fb9f3a"
            ],
            [
             0.8888888888888888,
             "#fdca26"
            ],
            [
             1,
             "#f0f921"
            ]
           ],
           "sequentialminus": [
            [
             0,
             "#0d0887"
            ],
            [
             0.1111111111111111,
             "#46039f"
            ],
            [
             0.2222222222222222,
             "#7201a8"
            ],
            [
             0.3333333333333333,
             "#9c179e"
            ],
            [
             0.4444444444444444,
             "#bd3786"
            ],
            [
             0.5555555555555556,
             "#d8576b"
            ],
            [
             0.6666666666666666,
             "#ed7953"
            ],
            [
             0.7777777777777778,
             "#fb9f3a"
            ],
            [
             0.8888888888888888,
             "#fdca26"
            ],
            [
             1,
             "#f0f921"
            ]
           ]
          },
          "colorway": [
           "#636efa",
           "#EF553B",
           "#00cc96",
           "#ab63fa",
           "#FFA15A",
           "#19d3f3",
           "#FF6692",
           "#B6E880",
           "#FF97FF",
           "#FECB52"
          ],
          "font": {
           "color": "#2a3f5f"
          },
          "geo": {
           "bgcolor": "white",
           "lakecolor": "white",
           "landcolor": "#E5ECF6",
           "showlakes": true,
           "showland": true,
           "subunitcolor": "white"
          },
          "hoverlabel": {
           "align": "left"
          },
          "hovermode": "closest",
          "mapbox": {
           "style": "light"
          },
          "paper_bgcolor": "white",
          "plot_bgcolor": "#E5ECF6",
          "polar": {
           "angularaxis": {
            "gridcolor": "white",
            "linecolor": "white",
            "ticks": ""
           },
           "bgcolor": "#E5ECF6",
           "radialaxis": {
            "gridcolor": "white",
            "linecolor": "white",
            "ticks": ""
           }
          },
          "scene": {
           "xaxis": {
            "backgroundcolor": "#E5ECF6",
            "gridcolor": "white",
            "gridwidth": 2,
            "linecolor": "white",
            "showbackground": true,
            "ticks": "",
            "zerolinecolor": "white"
           },
           "yaxis": {
            "backgroundcolor": "#E5ECF6",
            "gridcolor": "white",
            "gridwidth": 2,
            "linecolor": "white",
            "showbackground": true,
            "ticks": "",
            "zerolinecolor": "white"
           },
           "zaxis": {
            "backgroundcolor": "#E5ECF6",
            "gridcolor": "white",
            "gridwidth": 2,
            "linecolor": "white",
            "showbackground": true,
            "ticks": "",
            "zerolinecolor": "white"
           }
          },
          "shapedefaults": {
           "line": {
            "color": "#2a3f5f"
           }
          },
          "ternary": {
           "aaxis": {
            "gridcolor": "white",
            "linecolor": "white",
            "ticks": ""
           },
           "baxis": {
            "gridcolor": "white",
            "linecolor": "white",
            "ticks": ""
           },
           "bgcolor": "#E5ECF6",
           "caxis": {
            "gridcolor": "white",
            "linecolor": "white",
            "ticks": ""
           }
          },
          "title": {
           "x": 0.05
          },
          "xaxis": {
           "automargin": true,
           "gridcolor": "white",
           "linecolor": "white",
           "ticks": "",
           "title": {
            "standoff": 15
           },
           "zerolinecolor": "white",
           "zerolinewidth": 2
          },
          "yaxis": {
           "automargin": true,
           "gridcolor": "white",
           "linecolor": "white",
           "ticks": "",
           "title": {
            "standoff": 15
           },
           "zerolinecolor": "white",
           "zerolinewidth": 2
          }
         }
        },
        "title": {
         "text": "Data Correlations"
        },
        "xaxis": {
         "anchor": "y",
         "constrain": "domain",
         "domain": [
          0,
          1
         ],
         "scaleanchor": "y"
        },
        "yaxis": {
         "anchor": "x",
         "autorange": "reversed",
         "constrain": "domain",
         "domain": [
          0,
          1
         ]
        }
       }
      },
      "text/html": [
       "<div>                            <div id=\"76dfd63a-7219-478e-837d-d836bc7fa338\" class=\"plotly-graph-div\" style=\"height:525px; width:100%;\"></div>            <script type=\"text/javascript\">                require([\"plotly\"], function(Plotly) {                    window.PLOTLYENV=window.PLOTLYENV || {};                                    if (document.getElementById(\"76dfd63a-7219-478e-837d-d836bc7fa338\")) {                    Plotly.newPlot(                        \"76dfd63a-7219-478e-837d-d836bc7fa338\",                        [{\"coloraxis\":\"coloraxis\",\"name\":\"0\",\"x\":[\"credit_history\",\"purpose\",\"employment\",\"personal_status\",\"property_magnitude\",\"housing\",\"job\",\"own_telephone\",\"class\"],\"y\":[\"credit_history\",\"purpose\",\"employment\",\"personal_status\",\"property_magnitude\",\"housing\",\"job\",\"own_telephone\",\"class\"],\"z\":[[1.0,-0.007650596649906779,-0.08815802755609257,-0.08028151525933878,-0.040034615122100145,0.08402598231948137,-0.01392137891298818,-0.039236704006607295,-0.09705383552732562],[-0.007650596649906779,1.0,0.07067731604366927,0.05214216337136985,-0.01181441405709029,-0.059696367258278565,-0.07275718314632794,0.006522146214345334,0.13926252645069093],[-0.08815802755609257,0.07067731604366927,1.0,0.048533151921102594,-0.022535690089732413,-0.12652921223746474,-0.14227930117290152,0.11056813997499408,-0.008932424004718904],[-0.08028151525933878,0.05214216337136985,0.048533151921102594,1.0,0.015353546985130782,-0.24594940638687793,-0.04037511247433954,0.07891890791476668,0.08953502641930441],[-0.040034615122100145,-0.01181441405709029,-0.022535690089732413,0.015353546985130782,1.0,-0.10021066442699851,0.21155641730448338,-0.10597931804108839,0.05552923160549701],[0.08402598231948137,-0.059696367258278565,-0.12652921223746474,-0.24594940638687793,-0.10021066442699851,1.0,0.10659601647788136,-0.10241041799457563,-0.019315023005581855],[-0.01392137891298818,-0.07275718314632794,-0.14227930117290152,-0.04037511247433954,0.21155641730448338,0.10659601647788136,1.0,-0.3655650898284262,0.03275560455847897],[-0.039236704006607295,0.006522146214345334,0.11056813997499408,0.07891890791476668,-0.10597931804108839,-0.10241041799457563,-0.3655650898284262,1.0,0.036466190179963054],[-0.09705383552732562,0.13926252645069093,-0.008932424004718904,0.08953502641930441,0.05552923160549701,-0.019315023005581855,0.03275560455847897,0.036466190179963054,1.0]],\"type\":\"heatmap\",\"xaxis\":\"x\",\"yaxis\":\"y\",\"hovertemplate\":\"x: %{x}<br>y: %{y}<br>color: %{z}<extra></extra>\"}],                        {\"template\":{\"data\":{\"histogram2dcontour\":[{\"type\":\"histogram2dcontour\",\"colorbar\":{\"outlinewidth\":0,\"ticks\":\"\"},\"colorscale\":[[0.0,\"#0d0887\"],[0.1111111111111111,\"#46039f\"],[0.2222222222222222,\"#7201a8\"],[0.3333333333333333,\"#9c179e\"],[0.4444444444444444,\"#bd3786\"],[0.5555555555555556,\"#d8576b\"],[0.6666666666666666,\"#ed7953\"],[0.7777777777777778,\"#fb9f3a\"],[0.8888888888888888,\"#fdca26\"],[1.0,\"#f0f921\"]]}],\"choropleth\":[{\"type\":\"choropleth\",\"colorbar\":{\"outlinewidth\":0,\"ticks\":\"\"}}],\"histogram2d\":[{\"type\":\"histogram2d\",\"colorbar\":{\"outlinewidth\":0,\"ticks\":\"\"},\"colorscale\":[[0.0,\"#0d0887\"],[0.1111111111111111,\"#46039f\"],[0.2222222222222222,\"#7201a8\"],[0.3333333333333333,\"#9c179e\"],[0.4444444444444444,\"#bd3786\"],[0.5555555555555556,\"#d8576b\"],[0.6666666666666666,\"#ed7953\"],[0.7777777777777778,\"#fb9f3a\"],[0.8888888888888888,\"#fdca26\"],[1.0,\"#f0f921\"]]}],\"heatmap\":[{\"type\":\"heatmap\",\"colorbar\":{\"outlinewidth\":0,\"ticks\":\"\"},\"colorscale\":[[0.0,\"#0d0887\"],[0.1111111111111111,\"#46039f\"],[0.2222222222222222,\"#7201a8\"],[0.3333333333333333,\"#9c179e\"],[0.4444444444444444,\"#bd3786\"],[0.5555555555555556,\"#d8576b\"],[0.6666666666666666,\"#ed7953\"],[0.7777777777777778,\"#fb9f3a\"],[0.8888888888888888,\"#fdca26\"],[1.0,\"#f0f921\"]]}],\"heatmapgl\":[{\"type\":\"heatmapgl\",\"colorbar\":{\"outlinewidth\":0,\"ticks\":\"\"},\"colorscale\":[[0.0,\"#0d0887\"],[0.1111111111111111,\"#46039f\"],[0.2222222222222222,\"#7201a8\"],[0.3333333333333333,\"#9c179e\"],[0.4444444444444444,\"#bd3786\"],[0.5555555555555556,\"#d8576b\"],[0.6666666666666666,\"#ed7953\"],[0.7777777777777778,\"#fb9f3a\"],[0.8888888888888888,\"#fdca26\"],[1.0,\"#f0f921\"]]}],\"contourcarpet\":[{\"type\":\"contourcarpet\",\"colorbar\":{\"outlinewidth\":0,\"ticks\":\"\"}}],\"contour\":[{\"type\":\"contour\",\"colorbar\":{\"outlinewidth\":0,\"ticks\":\"\"},\"colorscale\":[[0.0,\"#0d0887\"],[0.1111111111111111,\"#46039f\"],[0.2222222222222222,\"#7201a8\"],[0.3333333333333333,\"#9c179e\"],[0.4444444444444444,\"#bd3786\"],[0.5555555555555556,\"#d8576b\"],[0.6666666666666666,\"#ed7953\"],[0.7777777777777778,\"#fb9f3a\"],[0.8888888888888888,\"#fdca26\"],[1.0,\"#f0f921\"]]}],\"surface\":[{\"type\":\"surface\",\"colorbar\":{\"outlinewidth\":0,\"ticks\":\"\"},\"colorscale\":[[0.0,\"#0d0887\"],[0.1111111111111111,\"#46039f\"],[0.2222222222222222,\"#7201a8\"],[0.3333333333333333,\"#9c179e\"],[0.4444444444444444,\"#bd3786\"],[0.5555555555555556,\"#d8576b\"],[0.6666666666666666,\"#ed7953\"],[0.7777777777777778,\"#fb9f3a\"],[0.8888888888888888,\"#fdca26\"],[1.0,\"#f0f921\"]]}],\"mesh3d\":[{\"type\":\"mesh3d\",\"colorbar\":{\"outlinewidth\":0,\"ticks\":\"\"}}],\"scatter\":[{\"fillpattern\":{\"fillmode\":\"overlay\",\"size\":10,\"solidity\":0.2},\"type\":\"scatter\"}],\"parcoords\":[{\"type\":\"parcoords\",\"line\":{\"colorbar\":{\"outlinewidth\":0,\"ticks\":\"\"}}}],\"scatterpolargl\":[{\"type\":\"scatterpolargl\",\"marker\":{\"colorbar\":{\"outlinewidth\":0,\"ticks\":\"\"}}}],\"bar\":[{\"error_x\":{\"color\":\"#2a3f5f\"},\"error_y\":{\"color\":\"#2a3f5f\"},\"marker\":{\"line\":{\"color\":\"#E5ECF6\",\"width\":0.5},\"pattern\":{\"fillmode\":\"overlay\",\"size\":10,\"solidity\":0.2}},\"type\":\"bar\"}],\"scattergeo\":[{\"type\":\"scattergeo\",\"marker\":{\"colorbar\":{\"outlinewidth\":0,\"ticks\":\"\"}}}],\"scatterpolar\":[{\"type\":\"scatterpolar\",\"marker\":{\"colorbar\":{\"outlinewidth\":0,\"ticks\":\"\"}}}],\"histogram\":[{\"marker\":{\"pattern\":{\"fillmode\":\"overlay\",\"size\":10,\"solidity\":0.2}},\"type\":\"histogram\"}],\"scattergl\":[{\"type\":\"scattergl\",\"marker\":{\"colorbar\":{\"outlinewidth\":0,\"ticks\":\"\"}}}],\"scatter3d\":[{\"type\":\"scatter3d\",\"line\":{\"colorbar\":{\"outlinewidth\":0,\"ticks\":\"\"}},\"marker\":{\"colorbar\":{\"outlinewidth\":0,\"ticks\":\"\"}}}],\"scattermapbox\":[{\"type\":\"scattermapbox\",\"marker\":{\"colorbar\":{\"outlinewidth\":0,\"ticks\":\"\"}}}],\"scatterternary\":[{\"type\":\"scatterternary\",\"marker\":{\"colorbar\":{\"outlinewidth\":0,\"ticks\":\"\"}}}],\"scattercarpet\":[{\"type\":\"scattercarpet\",\"marker\":{\"colorbar\":{\"outlinewidth\":0,\"ticks\":\"\"}}}],\"carpet\":[{\"aaxis\":{\"endlinecolor\":\"#2a3f5f\",\"gridcolor\":\"white\",\"linecolor\":\"white\",\"minorgridcolor\":\"white\",\"startlinecolor\":\"#2a3f5f\"},\"baxis\":{\"endlinecolor\":\"#2a3f5f\",\"gridcolor\":\"white\",\"linecolor\":\"white\",\"minorgridcolor\":\"white\",\"startlinecolor\":\"#2a3f5f\"},\"type\":\"carpet\"}],\"table\":[{\"cells\":{\"fill\":{\"color\":\"#EBF0F8\"},\"line\":{\"color\":\"white\"}},\"header\":{\"fill\":{\"color\":\"#C8D4E3\"},\"line\":{\"color\":\"white\"}},\"type\":\"table\"}],\"barpolar\":[{\"marker\":{\"line\":{\"color\":\"#E5ECF6\",\"width\":0.5},\"pattern\":{\"fillmode\":\"overlay\",\"size\":10,\"solidity\":0.2}},\"type\":\"barpolar\"}],\"pie\":[{\"automargin\":true,\"type\":\"pie\"}]},\"layout\":{\"autotypenumbers\":\"strict\",\"colorway\":[\"#636efa\",\"#EF553B\",\"#00cc96\",\"#ab63fa\",\"#FFA15A\",\"#19d3f3\",\"#FF6692\",\"#B6E880\",\"#FF97FF\",\"#FECB52\"],\"font\":{\"color\":\"#2a3f5f\"},\"hovermode\":\"closest\",\"hoverlabel\":{\"align\":\"left\"},\"paper_bgcolor\":\"white\",\"plot_bgcolor\":\"#E5ECF6\",\"polar\":{\"bgcolor\":\"#E5ECF6\",\"angularaxis\":{\"gridcolor\":\"white\",\"linecolor\":\"white\",\"ticks\":\"\"},\"radialaxis\":{\"gridcolor\":\"white\",\"linecolor\":\"white\",\"ticks\":\"\"}},\"ternary\":{\"bgcolor\":\"#E5ECF6\",\"aaxis\":{\"gridcolor\":\"white\",\"linecolor\":\"white\",\"ticks\":\"\"},\"baxis\":{\"gridcolor\":\"white\",\"linecolor\":\"white\",\"ticks\":\"\"},\"caxis\":{\"gridcolor\":\"white\",\"linecolor\":\"white\",\"ticks\":\"\"}},\"coloraxis\":{\"colorbar\":{\"outlinewidth\":0,\"ticks\":\"\"}},\"colorscale\":{\"sequential\":[[0.0,\"#0d0887\"],[0.1111111111111111,\"#46039f\"],[0.2222222222222222,\"#7201a8\"],[0.3333333333333333,\"#9c179e\"],[0.4444444444444444,\"#bd3786\"],[0.5555555555555556,\"#d8576b\"],[0.6666666666666666,\"#ed7953\"],[0.7777777777777778,\"#fb9f3a\"],[0.8888888888888888,\"#fdca26\"],[1.0,\"#f0f921\"]],\"sequentialminus\":[[0.0,\"#0d0887\"],[0.1111111111111111,\"#46039f\"],[0.2222222222222222,\"#7201a8\"],[0.3333333333333333,\"#9c179e\"],[0.4444444444444444,\"#bd3786\"],[0.5555555555555556,\"#d8576b\"],[0.6666666666666666,\"#ed7953\"],[0.7777777777777778,\"#fb9f3a\"],[0.8888888888888888,\"#fdca26\"],[1.0,\"#f0f921\"]],\"diverging\":[[0,\"#8e0152\"],[0.1,\"#c51b7d\"],[0.2,\"#de77ae\"],[0.3,\"#f1b6da\"],[0.4,\"#fde0ef\"],[0.5,\"#f7f7f7\"],[0.6,\"#e6f5d0\"],[0.7,\"#b8e186\"],[0.8,\"#7fbc41\"],[0.9,\"#4d9221\"],[1,\"#276419\"]]},\"xaxis\":{\"gridcolor\":\"white\",\"linecolor\":\"white\",\"ticks\":\"\",\"title\":{\"standoff\":15},\"zerolinecolor\":\"white\",\"automargin\":true,\"zerolinewidth\":2},\"yaxis\":{\"gridcolor\":\"white\",\"linecolor\":\"white\",\"ticks\":\"\",\"title\":{\"standoff\":15},\"zerolinecolor\":\"white\",\"automargin\":true,\"zerolinewidth\":2},\"scene\":{\"xaxis\":{\"backgroundcolor\":\"#E5ECF6\",\"gridcolor\":\"white\",\"linecolor\":\"white\",\"showbackground\":true,\"ticks\":\"\",\"zerolinecolor\":\"white\",\"gridwidth\":2},\"yaxis\":{\"backgroundcolor\":\"#E5ECF6\",\"gridcolor\":\"white\",\"linecolor\":\"white\",\"showbackground\":true,\"ticks\":\"\",\"zerolinecolor\":\"white\",\"gridwidth\":2},\"zaxis\":{\"backgroundcolor\":\"#E5ECF6\",\"gridcolor\":\"white\",\"linecolor\":\"white\",\"showbackground\":true,\"ticks\":\"\",\"zerolinecolor\":\"white\",\"gridwidth\":2}},\"shapedefaults\":{\"line\":{\"color\":\"#2a3f5f\"}},\"annotationdefaults\":{\"arrowcolor\":\"#2a3f5f\",\"arrowhead\":0,\"arrowwidth\":1},\"geo\":{\"bgcolor\":\"white\",\"landcolor\":\"#E5ECF6\",\"subunitcolor\":\"white\",\"showland\":true,\"showlakes\":true,\"lakecolor\":\"white\"},\"title\":{\"x\":0.05},\"mapbox\":{\"style\":\"light\"}}},\"xaxis\":{\"anchor\":\"y\",\"domain\":[0.0,1.0],\"scaleanchor\":\"y\",\"constrain\":\"domain\"},\"yaxis\":{\"anchor\":\"x\",\"domain\":[0.0,1.0],\"autorange\":\"reversed\",\"constrain\":\"domain\"},\"coloraxis\":{\"colorscale\":[[0.0,\"#0d0887\"],[0.1111111111111111,\"#46039f\"],[0.2222222222222222,\"#7201a8\"],[0.3333333333333333,\"#9c179e\"],[0.4444444444444444,\"#bd3786\"],[0.5555555555555556,\"#d8576b\"],[0.6666666666666666,\"#ed7953\"],[0.7777777777777778,\"#fb9f3a\"],[0.8888888888888888,\"#fdca26\"],[1.0,\"#f0f921\"]]},\"title\":{\"text\":\"Data Correlations\"}},                        {\"responsive\": true}                    ).then(function(){\n",
       "                            \n",
       "var gd = document.getElementById('76dfd63a-7219-478e-837d-d836bc7fa338');\n",
       "var x = new MutationObserver(function (mutations, observer) {{\n",
       "        var display = window.getComputedStyle(gd).display;\n",
       "        if (!display || display === 'none') {{\n",
       "            console.log([gd, 'removed!']);\n",
       "            Plotly.purge(gd);\n",
       "            observer.disconnect();\n",
       "        }}\n",
       "}});\n",
       "\n",
       "// Listen for the removal of the full notebook cells\n",
       "var notebookContainer = gd.closest('#notebook-container');\n",
       "if (notebookContainer) {{\n",
       "    x.observe(notebookContainer, {childList: true});\n",
       "}}\n",
       "\n",
       "// Listen for the clearing of the current output cell\n",
       "var outputEl = gd.closest('.output');\n",
       "if (outputEl) {{\n",
       "    x.observe(outputEl, {childList: true});\n",
       "}}\n",
       "\n",
       "                        })                };                });            </script>        </div>"
      ]
     },
     "metadata": {},
     "output_type": "display_data"
    }
   ],
   "source": [
    "from sklearn.preprocessing import LabelEncoder\n",
    "\n",
    "encoded_train_data = train_data.apply( LabelEncoder().fit_transform )\n",
    "encoded_test_data = test_data.apply( LabelEncoder().fit_transform )\n",
    "encoded_all_data = all_data.apply( LabelEncoder().fit_transform )\n",
    "\n",
    "correlation_matrix = encoded_all_data.corr()\n",
    "\n",
    "print('- Correlations to credit risk:')\n",
    "print(correlation_matrix['class'].sort_values().iloc[::-1])\n",
    "\n",
    "fig = px.imshow(correlation_matrix, title='Data Correlations')\n",
    "fig.show()"
   ]
  },
  {
   "cell_type": "code",
   "execution_count": 180,
   "id": "91c65dda",
   "metadata": {},
   "outputs": [
    {
     "name": "stdout",
     "output_type": "stream",
     "text": [
      "<class 'pandas.core.frame.DataFrame'>\n",
      "RangeIndex: 1000 entries, 0 to 999\n",
      "Data columns (total 9 columns):\n",
      " #   Column              Non-Null Count  Dtype \n",
      "---  ------              --------------  ----- \n",
      " 0   credit_history      1000 non-null   object\n",
      " 1   purpose             1000 non-null   object\n",
      " 2   employment          1000 non-null   object\n",
      " 3   personal_status     1000 non-null   object\n",
      " 4   property_magnitude  1000 non-null   object\n",
      " 5   housing             1000 non-null   object\n",
      " 6   job                 1000 non-null   object\n",
      " 7   own_telephone       1000 non-null   object\n",
      " 8   class               1000 non-null   object\n",
      "dtypes: object(9)\n",
      "memory usage: 70.4+ KB\n"
     ]
    }
   ],
   "source": [
    "all_data.info()"
   ]
  },
  {
   "cell_type": "code",
   "execution_count": 181,
   "id": "faafe17c",
   "metadata": {},
   "outputs": [
    {
     "name": "stdout",
     "output_type": "stream",
     "text": [
      "existing paid                     436\n",
      "critical/other existing credit    228\n",
      "delayed previously                 65\n",
      "all paid                           39\n",
      "no credits/all paid                32\n",
      "Name: credit_history, dtype: int64 \n",
      "\n",
      "\n",
      "radio/tv               211\n",
      "new car                187\n",
      "furniture/equipment    156\n",
      "used car                87\n",
      "business                75\n",
      "education               38\n",
      "other                   27\n",
      "repairs                 19\n",
      "Name: purpose, dtype: int64 \n",
      "\n",
      "\n",
      "1<=X<4        267\n",
      ">=7           207\n",
      "4<=X<7        141\n",
      "<1            136\n",
      "unemployed     49\n",
      "Name: employment, dtype: int64 \n",
      "\n",
      "\n",
      "male single           438\n",
      "female div/dep/mar    253\n",
      "male mar/wid           72\n",
      "male div/sep           37\n",
      "Name: personal_status, dtype: int64 \n",
      "\n",
      "\n",
      "car                  270\n",
      "real estate          227\n",
      "life insurance       182\n",
      "no known property    121\n",
      "Name: property_magnitude, dtype: int64 \n",
      "\n",
      "\n",
      "own         566\n",
      "rent        149\n",
      "for free     85\n",
      "Name: housing, dtype: int64 \n",
      "\n",
      "\n",
      "skilled                      504\n",
      "unskilled resident           156\n",
      "high qualif/self emp/mgmt    122\n",
      "unemp/unskilled non res       18\n",
      "Name: job, dtype: int64 \n",
      "\n",
      "\n",
      "none    481\n",
      "yes     319\n",
      "Name: own_telephone, dtype: int64 \n",
      "\n",
      "\n",
      "good    566\n",
      "bad     234\n",
      "Name: class, dtype: int64 \n",
      "\n",
      "\n"
     ]
    }
   ],
   "source": [
    "cat_cols = [col for col in train_data.columns if train_data[col].dtypes == 'O']\n",
    "\n",
    "for col in cat_cols:\n",
    "    print(train_data[col].value_counts(), \"\\n\\n\")"
   ]
  },
  {
   "cell_type": "code",
   "execution_count": 182,
   "id": "f7c167d0",
   "metadata": {},
   "outputs": [
    {
     "data": {
      "application/vnd.plotly.v1+json": {
       "config": {
        "linkText": "Export to plot.ly",
        "plotlyServerURL": "https://plot.ly",
        "showLink": false
       },
       "data": [
        {
         "marker": {
          "color": "turquoise"
         },
         "name": "Good credit",
         "type": "bar",
         "x": [
          "good"
         ],
         "y": [
          700
         ]
        },
        {
         "marker": {
          "color": "#FF4365"
         },
         "name": "Bad credit",
         "type": "bar",
         "x": [
          "bad"
         ],
         "y": [
          300
         ]
        }
       ],
       "layout": {
        "template": {
         "data": {
          "bar": [
           {
            "error_x": {
             "color": "#2a3f5f"
            },
            "error_y": {
             "color": "#2a3f5f"
            },
            "marker": {
             "line": {
              "color": "#E5ECF6",
              "width": 0.5
             },
             "pattern": {
              "fillmode": "overlay",
              "size": 10,
              "solidity": 0.2
             }
            },
            "type": "bar"
           }
          ],
          "barpolar": [
           {
            "marker": {
             "line": {
              "color": "#E5ECF6",
              "width": 0.5
             },
             "pattern": {
              "fillmode": "overlay",
              "size": 10,
              "solidity": 0.2
             }
            },
            "type": "barpolar"
           }
          ],
          "carpet": [
           {
            "aaxis": {
             "endlinecolor": "#2a3f5f",
             "gridcolor": "white",
             "linecolor": "white",
             "minorgridcolor": "white",
             "startlinecolor": "#2a3f5f"
            },
            "baxis": {
             "endlinecolor": "#2a3f5f",
             "gridcolor": "white",
             "linecolor": "white",
             "minorgridcolor": "white",
             "startlinecolor": "#2a3f5f"
            },
            "type": "carpet"
           }
          ],
          "choropleth": [
           {
            "colorbar": {
             "outlinewidth": 0,
             "ticks": ""
            },
            "type": "choropleth"
           }
          ],
          "contour": [
           {
            "colorbar": {
             "outlinewidth": 0,
             "ticks": ""
            },
            "colorscale": [
             [
              0,
              "#0d0887"
             ],
             [
              0.1111111111111111,
              "#46039f"
             ],
             [
              0.2222222222222222,
              "#7201a8"
             ],
             [
              0.3333333333333333,
              "#9c179e"
             ],
             [
              0.4444444444444444,
              "#bd3786"
             ],
             [
              0.5555555555555556,
              "#d8576b"
             ],
             [
              0.6666666666666666,
              "#ed7953"
             ],
             [
              0.7777777777777778,
              "#fb9f3a"
             ],
             [
              0.8888888888888888,
              "#fdca26"
             ],
             [
              1,
              "#f0f921"
             ]
            ],
            "type": "contour"
           }
          ],
          "contourcarpet": [
           {
            "colorbar": {
             "outlinewidth": 0,
             "ticks": ""
            },
            "type": "contourcarpet"
           }
          ],
          "heatmap": [
           {
            "colorbar": {
             "outlinewidth": 0,
             "ticks": ""
            },
            "colorscale": [
             [
              0,
              "#0d0887"
             ],
             [
              0.1111111111111111,
              "#46039f"
             ],
             [
              0.2222222222222222,
              "#7201a8"
             ],
             [
              0.3333333333333333,
              "#9c179e"
             ],
             [
              0.4444444444444444,
              "#bd3786"
             ],
             [
              0.5555555555555556,
              "#d8576b"
             ],
             [
              0.6666666666666666,
              "#ed7953"
             ],
             [
              0.7777777777777778,
              "#fb9f3a"
             ],
             [
              0.8888888888888888,
              "#fdca26"
             ],
             [
              1,
              "#f0f921"
             ]
            ],
            "type": "heatmap"
           }
          ],
          "heatmapgl": [
           {
            "colorbar": {
             "outlinewidth": 0,
             "ticks": ""
            },
            "colorscale": [
             [
              0,
              "#0d0887"
             ],
             [
              0.1111111111111111,
              "#46039f"
             ],
             [
              0.2222222222222222,
              "#7201a8"
             ],
             [
              0.3333333333333333,
              "#9c179e"
             ],
             [
              0.4444444444444444,
              "#bd3786"
             ],
             [
              0.5555555555555556,
              "#d8576b"
             ],
             [
              0.6666666666666666,
              "#ed7953"
             ],
             [
              0.7777777777777778,
              "#fb9f3a"
             ],
             [
              0.8888888888888888,
              "#fdca26"
             ],
             [
              1,
              "#f0f921"
             ]
            ],
            "type": "heatmapgl"
           }
          ],
          "histogram": [
           {
            "marker": {
             "pattern": {
              "fillmode": "overlay",
              "size": 10,
              "solidity": 0.2
             }
            },
            "type": "histogram"
           }
          ],
          "histogram2d": [
           {
            "colorbar": {
             "outlinewidth": 0,
             "ticks": ""
            },
            "colorscale": [
             [
              0,
              "#0d0887"
             ],
             [
              0.1111111111111111,
              "#46039f"
             ],
             [
              0.2222222222222222,
              "#7201a8"
             ],
             [
              0.3333333333333333,
              "#9c179e"
             ],
             [
              0.4444444444444444,
              "#bd3786"
             ],
             [
              0.5555555555555556,
              "#d8576b"
             ],
             [
              0.6666666666666666,
              "#ed7953"
             ],
             [
              0.7777777777777778,
              "#fb9f3a"
             ],
             [
              0.8888888888888888,
              "#fdca26"
             ],
             [
              1,
              "#f0f921"
             ]
            ],
            "type": "histogram2d"
           }
          ],
          "histogram2dcontour": [
           {
            "colorbar": {
             "outlinewidth": 0,
             "ticks": ""
            },
            "colorscale": [
             [
              0,
              "#0d0887"
             ],
             [
              0.1111111111111111,
              "#46039f"
             ],
             [
              0.2222222222222222,
              "#7201a8"
             ],
             [
              0.3333333333333333,
              "#9c179e"
             ],
             [
              0.4444444444444444,
              "#bd3786"
             ],
             [
              0.5555555555555556,
              "#d8576b"
             ],
             [
              0.6666666666666666,
              "#ed7953"
             ],
             [
              0.7777777777777778,
              "#fb9f3a"
             ],
             [
              0.8888888888888888,
              "#fdca26"
             ],
             [
              1,
              "#f0f921"
             ]
            ],
            "type": "histogram2dcontour"
           }
          ],
          "mesh3d": [
           {
            "colorbar": {
             "outlinewidth": 0,
             "ticks": ""
            },
            "type": "mesh3d"
           }
          ],
          "parcoords": [
           {
            "line": {
             "colorbar": {
              "outlinewidth": 0,
              "ticks": ""
             }
            },
            "type": "parcoords"
           }
          ],
          "pie": [
           {
            "automargin": true,
            "type": "pie"
           }
          ],
          "scatter": [
           {
            "fillpattern": {
             "fillmode": "overlay",
             "size": 10,
             "solidity": 0.2
            },
            "type": "scatter"
           }
          ],
          "scatter3d": [
           {
            "line": {
             "colorbar": {
              "outlinewidth": 0,
              "ticks": ""
             }
            },
            "marker": {
             "colorbar": {
              "outlinewidth": 0,
              "ticks": ""
             }
            },
            "type": "scatter3d"
           }
          ],
          "scattercarpet": [
           {
            "marker": {
             "colorbar": {
              "outlinewidth": 0,
              "ticks": ""
             }
            },
            "type": "scattercarpet"
           }
          ],
          "scattergeo": [
           {
            "marker": {
             "colorbar": {
              "outlinewidth": 0,
              "ticks": ""
             }
            },
            "type": "scattergeo"
           }
          ],
          "scattergl": [
           {
            "marker": {
             "colorbar": {
              "outlinewidth": 0,
              "ticks": ""
             }
            },
            "type": "scattergl"
           }
          ],
          "scattermapbox": [
           {
            "marker": {
             "colorbar": {
              "outlinewidth": 0,
              "ticks": ""
             }
            },
            "type": "scattermapbox"
           }
          ],
          "scatterpolar": [
           {
            "marker": {
             "colorbar": {
              "outlinewidth": 0,
              "ticks": ""
             }
            },
            "type": "scatterpolar"
           }
          ],
          "scatterpolargl": [
           {
            "marker": {
             "colorbar": {
              "outlinewidth": 0,
              "ticks": ""
             }
            },
            "type": "scatterpolargl"
           }
          ],
          "scatterternary": [
           {
            "marker": {
             "colorbar": {
              "outlinewidth": 0,
              "ticks": ""
             }
            },
            "type": "scatterternary"
           }
          ],
          "surface": [
           {
            "colorbar": {
             "outlinewidth": 0,
             "ticks": ""
            },
            "colorscale": [
             [
              0,
              "#0d0887"
             ],
             [
              0.1111111111111111,
              "#46039f"
             ],
             [
              0.2222222222222222,
              "#7201a8"
             ],
             [
              0.3333333333333333,
              "#9c179e"
             ],
             [
              0.4444444444444444,
              "#bd3786"
             ],
             [
              0.5555555555555556,
              "#d8576b"
             ],
             [
              0.6666666666666666,
              "#ed7953"
             ],
             [
              0.7777777777777778,
              "#fb9f3a"
             ],
             [
              0.8888888888888888,
              "#fdca26"
             ],
             [
              1,
              "#f0f921"
             ]
            ],
            "type": "surface"
           }
          ],
          "table": [
           {
            "cells": {
             "fill": {
              "color": "#EBF0F8"
             },
             "line": {
              "color": "white"
             }
            },
            "header": {
             "fill": {
              "color": "#C8D4E3"
             },
             "line": {
              "color": "white"
             }
            },
            "type": "table"
           }
          ]
         },
         "layout": {
          "annotationdefaults": {
           "arrowcolor": "#2a3f5f",
           "arrowhead": 0,
           "arrowwidth": 1
          },
          "autotypenumbers": "strict",
          "coloraxis": {
           "colorbar": {
            "outlinewidth": 0,
            "ticks": ""
           }
          },
          "colorscale": {
           "diverging": [
            [
             0,
             "#8e0152"
            ],
            [
             0.1,
             "#c51b7d"
            ],
            [
             0.2,
             "#de77ae"
            ],
            [
             0.3,
             "#f1b6da"
            ],
            [
             0.4,
             "#fde0ef"
            ],
            [
             0.5,
             "#f7f7f7"
            ],
            [
             0.6,
             "#e6f5d0"
            ],
            [
             0.7,
             "#b8e186"
            ],
            [
             0.8,
             "#7fbc41"
            ],
            [
             0.9,
             "#4d9221"
            ],
            [
             1,
             "#276419"
            ]
           ],
           "sequential": [
            [
             0,
             "#0d0887"
            ],
            [
             0.1111111111111111,
             "#46039f"
            ],
            [
             0.2222222222222222,
             "#7201a8"
            ],
            [
             0.3333333333333333,
             "#9c179e"
            ],
            [
             0.4444444444444444,
             "#bd3786"
            ],
            [
             0.5555555555555556,
             "#d8576b"
            ],
            [
             0.6666666666666666,
             "#ed7953"
            ],
            [
             0.7777777777777778,
             "#fb9f3a"
            ],
            [
             0.8888888888888888,
             "#fdca26"
            ],
            [
             1,
             "#f0f921"
            ]
           ],
           "sequentialminus": [
            [
             0,
             "#0d0887"
            ],
            [
             0.1111111111111111,
             "#46039f"
            ],
            [
             0.2222222222222222,
             "#7201a8"
            ],
            [
             0.3333333333333333,
             "#9c179e"
            ],
            [
             0.4444444444444444,
             "#bd3786"
            ],
            [
             0.5555555555555556,
             "#d8576b"
            ],
            [
             0.6666666666666666,
             "#ed7953"
            ],
            [
             0.7777777777777778,
             "#fb9f3a"
            ],
            [
             0.8888888888888888,
             "#fdca26"
            ],
            [
             1,
             "#f0f921"
            ]
           ]
          },
          "colorway": [
           "#636efa",
           "#EF553B",
           "#00cc96",
           "#ab63fa",
           "#FFA15A",
           "#19d3f3",
           "#FF6692",
           "#B6E880",
           "#FF97FF",
           "#FECB52"
          ],
          "font": {
           "color": "#2a3f5f"
          },
          "geo": {
           "bgcolor": "white",
           "lakecolor": "white",
           "landcolor": "#E5ECF6",
           "showlakes": true,
           "showland": true,
           "subunitcolor": "white"
          },
          "hoverlabel": {
           "align": "left"
          },
          "hovermode": "closest",
          "mapbox": {
           "style": "light"
          },
          "paper_bgcolor": "white",
          "plot_bgcolor": "#E5ECF6",
          "polar": {
           "angularaxis": {
            "gridcolor": "white",
            "linecolor": "white",
            "ticks": ""
           },
           "bgcolor": "#E5ECF6",
           "radialaxis": {
            "gridcolor": "white",
            "linecolor": "white",
            "ticks": ""
           }
          },
          "scene": {
           "xaxis": {
            "backgroundcolor": "#E5ECF6",
            "gridcolor": "white",
            "gridwidth": 2,
            "linecolor": "white",
            "showbackground": true,
            "ticks": "",
            "zerolinecolor": "white"
           },
           "yaxis": {
            "backgroundcolor": "#E5ECF6",
            "gridcolor": "white",
            "gridwidth": 2,
            "linecolor": "white",
            "showbackground": true,
            "ticks": "",
            "zerolinecolor": "white"
           },
           "zaxis": {
            "backgroundcolor": "#E5ECF6",
            "gridcolor": "white",
            "gridwidth": 2,
            "linecolor": "white",
            "showbackground": true,
            "ticks": "",
            "zerolinecolor": "white"
           }
          },
          "shapedefaults": {
           "line": {
            "color": "#2a3f5f"
           }
          },
          "ternary": {
           "aaxis": {
            "gridcolor": "white",
            "linecolor": "white",
            "ticks": ""
           },
           "baxis": {
            "gridcolor": "white",
            "linecolor": "white",
            "ticks": ""
           },
           "bgcolor": "#E5ECF6",
           "caxis": {
            "gridcolor": "white",
            "linecolor": "white",
            "ticks": ""
           }
          },
          "title": {
           "x": 0.05
          },
          "xaxis": {
           "automargin": true,
           "gridcolor": "white",
           "linecolor": "white",
           "ticks": "",
           "title": {
            "standoff": 15
           },
           "zerolinecolor": "white",
           "zerolinewidth": 2
          },
          "yaxis": {
           "automargin": true,
           "gridcolor": "white",
           "linecolor": "white",
           "ticks": "",
           "title": {
            "standoff": 15
           },
           "zerolinecolor": "white",
           "zerolinewidth": 2
          }
         }
        },
        "title": {
         "text": "Target Class Variable Distribution"
        },
        "xaxis": {
         "title": {
          "text": "Credit Class Variable"
         }
        },
        "yaxis": {
         "title": {
          "text": "Count"
         }
        }
       }
      },
      "text/html": [
       "<div>                            <div id=\"fb693b64-01f9-4741-ad43-fda38e56b97c\" class=\"plotly-graph-div\" style=\"height:525px; width:100%;\"></div>            <script type=\"text/javascript\">                require([\"plotly\"], function(Plotly) {                    window.PLOTLYENV=window.PLOTLYENV || {};                                    if (document.getElementById(\"fb693b64-01f9-4741-ad43-fda38e56b97c\")) {                    Plotly.newPlot(                        \"fb693b64-01f9-4741-ad43-fda38e56b97c\",                        [{\"marker\":{\"color\":\"turquoise\"},\"name\":\"Good credit\",\"x\":[\"good\"],\"y\":[700],\"type\":\"bar\"},{\"marker\":{\"color\":\"#FF4365\"},\"name\":\"Bad credit\",\"x\":[\"bad\"],\"y\":[300],\"type\":\"bar\"}],                        {\"template\":{\"data\":{\"barpolar\":[{\"marker\":{\"line\":{\"color\":\"#E5ECF6\",\"width\":0.5},\"pattern\":{\"fillmode\":\"overlay\",\"size\":10,\"solidity\":0.2}},\"type\":\"barpolar\"}],\"bar\":[{\"error_x\":{\"color\":\"#2a3f5f\"},\"error_y\":{\"color\":\"#2a3f5f\"},\"marker\":{\"line\":{\"color\":\"#E5ECF6\",\"width\":0.5},\"pattern\":{\"fillmode\":\"overlay\",\"size\":10,\"solidity\":0.2}},\"type\":\"bar\"}],\"carpet\":[{\"aaxis\":{\"endlinecolor\":\"#2a3f5f\",\"gridcolor\":\"white\",\"linecolor\":\"white\",\"minorgridcolor\":\"white\",\"startlinecolor\":\"#2a3f5f\"},\"baxis\":{\"endlinecolor\":\"#2a3f5f\",\"gridcolor\":\"white\",\"linecolor\":\"white\",\"minorgridcolor\":\"white\",\"startlinecolor\":\"#2a3f5f\"},\"type\":\"carpet\"}],\"choropleth\":[{\"colorbar\":{\"outlinewidth\":0,\"ticks\":\"\"},\"type\":\"choropleth\"}],\"contourcarpet\":[{\"colorbar\":{\"outlinewidth\":0,\"ticks\":\"\"},\"type\":\"contourcarpet\"}],\"contour\":[{\"colorbar\":{\"outlinewidth\":0,\"ticks\":\"\"},\"colorscale\":[[0.0,\"#0d0887\"],[0.1111111111111111,\"#46039f\"],[0.2222222222222222,\"#7201a8\"],[0.3333333333333333,\"#9c179e\"],[0.4444444444444444,\"#bd3786\"],[0.5555555555555556,\"#d8576b\"],[0.6666666666666666,\"#ed7953\"],[0.7777777777777778,\"#fb9f3a\"],[0.8888888888888888,\"#fdca26\"],[1.0,\"#f0f921\"]],\"type\":\"contour\"}],\"heatmapgl\":[{\"colorbar\":{\"outlinewidth\":0,\"ticks\":\"\"},\"colorscale\":[[0.0,\"#0d0887\"],[0.1111111111111111,\"#46039f\"],[0.2222222222222222,\"#7201a8\"],[0.3333333333333333,\"#9c179e\"],[0.4444444444444444,\"#bd3786\"],[0.5555555555555556,\"#d8576b\"],[0.6666666666666666,\"#ed7953\"],[0.7777777777777778,\"#fb9f3a\"],[0.8888888888888888,\"#fdca26\"],[1.0,\"#f0f921\"]],\"type\":\"heatmapgl\"}],\"heatmap\":[{\"colorbar\":{\"outlinewidth\":0,\"ticks\":\"\"},\"colorscale\":[[0.0,\"#0d0887\"],[0.1111111111111111,\"#46039f\"],[0.2222222222222222,\"#7201a8\"],[0.3333333333333333,\"#9c179e\"],[0.4444444444444444,\"#bd3786\"],[0.5555555555555556,\"#d8576b\"],[0.6666666666666666,\"#ed7953\"],[0.7777777777777778,\"#fb9f3a\"],[0.8888888888888888,\"#fdca26\"],[1.0,\"#f0f921\"]],\"type\":\"heatmap\"}],\"histogram2dcontour\":[{\"colorbar\":{\"outlinewidth\":0,\"ticks\":\"\"},\"colorscale\":[[0.0,\"#0d0887\"],[0.1111111111111111,\"#46039f\"],[0.2222222222222222,\"#7201a8\"],[0.3333333333333333,\"#9c179e\"],[0.4444444444444444,\"#bd3786\"],[0.5555555555555556,\"#d8576b\"],[0.6666666666666666,\"#ed7953\"],[0.7777777777777778,\"#fb9f3a\"],[0.8888888888888888,\"#fdca26\"],[1.0,\"#f0f921\"]],\"type\":\"histogram2dcontour\"}],\"histogram2d\":[{\"colorbar\":{\"outlinewidth\":0,\"ticks\":\"\"},\"colorscale\":[[0.0,\"#0d0887\"],[0.1111111111111111,\"#46039f\"],[0.2222222222222222,\"#7201a8\"],[0.3333333333333333,\"#9c179e\"],[0.4444444444444444,\"#bd3786\"],[0.5555555555555556,\"#d8576b\"],[0.6666666666666666,\"#ed7953\"],[0.7777777777777778,\"#fb9f3a\"],[0.8888888888888888,\"#fdca26\"],[1.0,\"#f0f921\"]],\"type\":\"histogram2d\"}],\"histogram\":[{\"marker\":{\"pattern\":{\"fillmode\":\"overlay\",\"size\":10,\"solidity\":0.2}},\"type\":\"histogram\"}],\"mesh3d\":[{\"colorbar\":{\"outlinewidth\":0,\"ticks\":\"\"},\"type\":\"mesh3d\"}],\"parcoords\":[{\"line\":{\"colorbar\":{\"outlinewidth\":0,\"ticks\":\"\"}},\"type\":\"parcoords\"}],\"pie\":[{\"automargin\":true,\"type\":\"pie\"}],\"scatter3d\":[{\"line\":{\"colorbar\":{\"outlinewidth\":0,\"ticks\":\"\"}},\"marker\":{\"colorbar\":{\"outlinewidth\":0,\"ticks\":\"\"}},\"type\":\"scatter3d\"}],\"scattercarpet\":[{\"marker\":{\"colorbar\":{\"outlinewidth\":0,\"ticks\":\"\"}},\"type\":\"scattercarpet\"}],\"scattergeo\":[{\"marker\":{\"colorbar\":{\"outlinewidth\":0,\"ticks\":\"\"}},\"type\":\"scattergeo\"}],\"scattergl\":[{\"marker\":{\"colorbar\":{\"outlinewidth\":0,\"ticks\":\"\"}},\"type\":\"scattergl\"}],\"scattermapbox\":[{\"marker\":{\"colorbar\":{\"outlinewidth\":0,\"ticks\":\"\"}},\"type\":\"scattermapbox\"}],\"scatterpolargl\":[{\"marker\":{\"colorbar\":{\"outlinewidth\":0,\"ticks\":\"\"}},\"type\":\"scatterpolargl\"}],\"scatterpolar\":[{\"marker\":{\"colorbar\":{\"outlinewidth\":0,\"ticks\":\"\"}},\"type\":\"scatterpolar\"}],\"scatter\":[{\"fillpattern\":{\"fillmode\":\"overlay\",\"size\":10,\"solidity\":0.2},\"type\":\"scatter\"}],\"scatterternary\":[{\"marker\":{\"colorbar\":{\"outlinewidth\":0,\"ticks\":\"\"}},\"type\":\"scatterternary\"}],\"surface\":[{\"colorbar\":{\"outlinewidth\":0,\"ticks\":\"\"},\"colorscale\":[[0.0,\"#0d0887\"],[0.1111111111111111,\"#46039f\"],[0.2222222222222222,\"#7201a8\"],[0.3333333333333333,\"#9c179e\"],[0.4444444444444444,\"#bd3786\"],[0.5555555555555556,\"#d8576b\"],[0.6666666666666666,\"#ed7953\"],[0.7777777777777778,\"#fb9f3a\"],[0.8888888888888888,\"#fdca26\"],[1.0,\"#f0f921\"]],\"type\":\"surface\"}],\"table\":[{\"cells\":{\"fill\":{\"color\":\"#EBF0F8\"},\"line\":{\"color\":\"white\"}},\"header\":{\"fill\":{\"color\":\"#C8D4E3\"},\"line\":{\"color\":\"white\"}},\"type\":\"table\"}]},\"layout\":{\"annotationdefaults\":{\"arrowcolor\":\"#2a3f5f\",\"arrowhead\":0,\"arrowwidth\":1},\"autotypenumbers\":\"strict\",\"coloraxis\":{\"colorbar\":{\"outlinewidth\":0,\"ticks\":\"\"}},\"colorscale\":{\"diverging\":[[0,\"#8e0152\"],[0.1,\"#c51b7d\"],[0.2,\"#de77ae\"],[0.3,\"#f1b6da\"],[0.4,\"#fde0ef\"],[0.5,\"#f7f7f7\"],[0.6,\"#e6f5d0\"],[0.7,\"#b8e186\"],[0.8,\"#7fbc41\"],[0.9,\"#4d9221\"],[1,\"#276419\"]],\"sequential\":[[0.0,\"#0d0887\"],[0.1111111111111111,\"#46039f\"],[0.2222222222222222,\"#7201a8\"],[0.3333333333333333,\"#9c179e\"],[0.4444444444444444,\"#bd3786\"],[0.5555555555555556,\"#d8576b\"],[0.6666666666666666,\"#ed7953\"],[0.7777777777777778,\"#fb9f3a\"],[0.8888888888888888,\"#fdca26\"],[1.0,\"#f0f921\"]],\"sequentialminus\":[[0.0,\"#0d0887\"],[0.1111111111111111,\"#46039f\"],[0.2222222222222222,\"#7201a8\"],[0.3333333333333333,\"#9c179e\"],[0.4444444444444444,\"#bd3786\"],[0.5555555555555556,\"#d8576b\"],[0.6666666666666666,\"#ed7953\"],[0.7777777777777778,\"#fb9f3a\"],[0.8888888888888888,\"#fdca26\"],[1.0,\"#f0f921\"]]},\"colorway\":[\"#636efa\",\"#EF553B\",\"#00cc96\",\"#ab63fa\",\"#FFA15A\",\"#19d3f3\",\"#FF6692\",\"#B6E880\",\"#FF97FF\",\"#FECB52\"],\"font\":{\"color\":\"#2a3f5f\"},\"geo\":{\"bgcolor\":\"white\",\"lakecolor\":\"white\",\"landcolor\":\"#E5ECF6\",\"showlakes\":true,\"showland\":true,\"subunitcolor\":\"white\"},\"hoverlabel\":{\"align\":\"left\"},\"hovermode\":\"closest\",\"mapbox\":{\"style\":\"light\"},\"paper_bgcolor\":\"white\",\"plot_bgcolor\":\"#E5ECF6\",\"polar\":{\"angularaxis\":{\"gridcolor\":\"white\",\"linecolor\":\"white\",\"ticks\":\"\"},\"bgcolor\":\"#E5ECF6\",\"radialaxis\":{\"gridcolor\":\"white\",\"linecolor\":\"white\",\"ticks\":\"\"}},\"scene\":{\"xaxis\":{\"backgroundcolor\":\"#E5ECF6\",\"gridcolor\":\"white\",\"gridwidth\":2,\"linecolor\":\"white\",\"showbackground\":true,\"ticks\":\"\",\"zerolinecolor\":\"white\"},\"yaxis\":{\"backgroundcolor\":\"#E5ECF6\",\"gridcolor\":\"white\",\"gridwidth\":2,\"linecolor\":\"white\",\"showbackground\":true,\"ticks\":\"\",\"zerolinecolor\":\"white\"},\"zaxis\":{\"backgroundcolor\":\"#E5ECF6\",\"gridcolor\":\"white\",\"gridwidth\":2,\"linecolor\":\"white\",\"showbackground\":true,\"ticks\":\"\",\"zerolinecolor\":\"white\"}},\"shapedefaults\":{\"line\":{\"color\":\"#2a3f5f\"}},\"ternary\":{\"aaxis\":{\"gridcolor\":\"white\",\"linecolor\":\"white\",\"ticks\":\"\"},\"baxis\":{\"gridcolor\":\"white\",\"linecolor\":\"white\",\"ticks\":\"\"},\"bgcolor\":\"#E5ECF6\",\"caxis\":{\"gridcolor\":\"white\",\"linecolor\":\"white\",\"ticks\":\"\"}},\"title\":{\"x\":0.05},\"xaxis\":{\"automargin\":true,\"gridcolor\":\"white\",\"linecolor\":\"white\",\"ticks\":\"\",\"title\":{\"standoff\":15},\"zerolinecolor\":\"white\",\"zerolinewidth\":2},\"yaxis\":{\"automargin\":true,\"gridcolor\":\"white\",\"linecolor\":\"white\",\"ticks\":\"\",\"title\":{\"standoff\":15},\"zerolinecolor\":\"white\",\"zerolinewidth\":2}}},\"title\":{\"text\":\"Target Class Variable Distribution\"},\"xaxis\":{\"title\":{\"text\":\"Credit Class Variable\"}},\"yaxis\":{\"title\":{\"text\":\"Count\"}}},                        {\"responsive\": true}                    ).then(function(){\n",
       "                            \n",
       "var gd = document.getElementById('fb693b64-01f9-4741-ad43-fda38e56b97c');\n",
       "var x = new MutationObserver(function (mutations, observer) {{\n",
       "        var display = window.getComputedStyle(gd).display;\n",
       "        if (!display || display === 'none') {{\n",
       "            console.log([gd, 'removed!']);\n",
       "            Plotly.purge(gd);\n",
       "            observer.disconnect();\n",
       "        }}\n",
       "}});\n",
       "\n",
       "// Listen for the removal of the full notebook cells\n",
       "var notebookContainer = gd.closest('#notebook-container');\n",
       "if (notebookContainer) {{\n",
       "    x.observe(notebookContainer, {childList: true});\n",
       "}}\n",
       "\n",
       "// Listen for the clearing of the current output cell\n",
       "var outputEl = gd.closest('.output');\n",
       "if (outputEl) {{\n",
       "    x.observe(outputEl, {childList: true});\n",
       "}}\n",
       "\n",
       "                        })                };                });            </script>        </div>"
      ]
     },
     "metadata": {},
     "output_type": "display_data"
    }
   ],
   "source": [
    "class_good_counts = all_data[all_data[\"class\"]== 'good'][\"class\"].value_counts()\n",
    "class_bad_counts = all_data[all_data[\"class\"]== 'bad'][\"class\"].value_counts()\n",
    "\n",
    "bar0 = go.Bar(\n",
    "            x = class_good_counts.index.values,\n",
    "            y = class_good_counts.values,\n",
    "            name='Good credit',\n",
    "            marker_color='turquoise')\n",
    "\n",
    "bar1 = go.Bar(\n",
    "            x = class_bad_counts.index.values,\n",
    "            y = class_bad_counts.values,\n",
    "            name='Bad credit',\n",
    "            marker_color='#FF4365') # Radical Red\n",
    "\n",
    "data = [bar0, bar1]\n",
    "layout = go.Layout(\n",
    "    yaxis=dict( title='Count' ),\n",
    "    xaxis=dict( title='Credit Class Variable' ),\n",
    "    title='Target Class Variable Distribution')\n",
    "\n",
    "fig = go.Figure(data=data, layout=layout)\n",
    "py.iplot(fig, filename='grouped-bar')"
   ]
  },
  {
   "cell_type": "code",
   "execution_count": 172,
   "id": "42a6605e",
   "metadata": {},
   "outputs": [
    {
     "data": {
      "application/vnd.plotly.v1+json": {
       "config": {
        "linkText": "Export to plot.ly",
        "plotlyServerURL": "https://plot.ly",
        "showLink": false
       },
       "data": [
        {
         "histnorm": "probability",
         "marker": {
          "color": "turquoise"
         },
         "name": "Good Credit",
         "type": "histogram",
         "x": [
          "1<=X<4",
          ">=7",
          ">=7",
          ">=7",
          ">=7",
          ">=7",
          "<1",
          "<1",
          ">=7",
          "4<=X<7",
          "1<=X<4",
          "1<=X<4",
          ">=7",
          "4<=X<7",
          ">=7",
          "<1",
          "1<=X<4",
          ">=7",
          ">=7",
          ">=7",
          ">=7",
          ">=7",
          "4<=X<7",
          ">=7",
          "1<=X<4",
          "1<=X<4",
          ">=7",
          "<1",
          "4<=X<7",
          "unemployed",
          "1<=X<4",
          "4<=X<7",
          "4<=X<7",
          "1<=X<4",
          ">=7",
          "<1",
          "4<=X<7",
          "1<=X<4",
          "<1",
          "1<=X<4",
          "1<=X<4",
          "1<=X<4",
          ">=7",
          ">=7",
          "<1",
          "1<=X<4",
          "1<=X<4",
          "1<=X<4",
          ">=7",
          ">=7",
          "<1",
          "<1",
          "1<=X<4",
          "1<=X<4",
          ">=7",
          "1<=X<4",
          "4<=X<7",
          "1<=X<4",
          ">=7",
          "4<=X<7",
          ">=7",
          ">=7",
          "1<=X<4",
          ">=7",
          ">=7",
          "1<=X<4",
          "1<=X<4",
          "1<=X<4",
          ">=7",
          "4<=X<7",
          "unemployed",
          "4<=X<7",
          ">=7",
          "1<=X<4",
          "1<=X<4",
          ">=7",
          ">=7",
          ">=7",
          "unemployed",
          "unemployed",
          "4<=X<7",
          ">=7",
          "unemployed",
          "<1",
          ">=7",
          "1<=X<4",
          ">=7",
          "unemployed",
          "4<=X<7",
          "1<=X<4",
          "4<=X<7",
          ">=7",
          ">=7",
          "1<=X<4",
          "<1",
          "4<=X<7",
          "1<=X<4",
          "4<=X<7",
          ">=7",
          "4<=X<7",
          "1<=X<4",
          ">=7",
          "1<=X<4",
          "1<=X<4",
          "4<=X<7",
          "4<=X<7",
          "1<=X<4",
          "1<=X<4",
          "1<=X<4",
          "4<=X<7",
          "1<=X<4",
          ">=7",
          ">=7",
          ">=7",
          ">=7",
          "1<=X<4",
          "1<=X<4",
          "1<=X<4",
          ">=7",
          "1<=X<4",
          "1<=X<4",
          "unemployed",
          "<1",
          ">=7",
          "<1",
          "1<=X<4",
          "<1",
          ">=7",
          ">=7",
          "1<=X<4",
          "1<=X<4",
          "<1",
          "<1",
          ">=7",
          ">=7",
          "1<=X<4",
          "<1",
          "4<=X<7",
          "1<=X<4",
          ">=7",
          "unemployed",
          "4<=X<7",
          "<1",
          "4<=X<7",
          "1<=X<4",
          "1<=X<4",
          "<1",
          ">=7",
          "<1",
          ">=7",
          "1<=X<4",
          "1<=X<4",
          "1<=X<4",
          "4<=X<7",
          "<1",
          "1<=X<4",
          "4<=X<7",
          ">=7",
          ">=7",
          "1<=X<4",
          "<1",
          ">=7",
          ">=7",
          "<1",
          "4<=X<7",
          ">=7",
          ">=7",
          "1<=X<4",
          "1<=X<4",
          ">=7",
          "1<=X<4",
          "<1",
          ">=7",
          "<1",
          "1<=X<4",
          "1<=X<4",
          "<1",
          "1<=X<4",
          "<1",
          "4<=X<7",
          ">=7",
          ">=7",
          "4<=X<7",
          "4<=X<7",
          ">=7",
          ">=7",
          "1<=X<4",
          "<1",
          ">=7",
          "<1",
          "4<=X<7",
          "<1",
          "<1",
          ">=7",
          "1<=X<4",
          "unemployed",
          "<1",
          ">=7",
          "unemployed",
          "1<=X<4",
          ">=7",
          "1<=X<4",
          "4<=X<7",
          "1<=X<4",
          "1<=X<4",
          "1<=X<4",
          ">=7",
          "1<=X<4",
          ">=7",
          "4<=X<7",
          "unemployed",
          "unemployed",
          "1<=X<4",
          ">=7",
          "1<=X<4",
          "4<=X<7",
          "1<=X<4",
          "<1",
          "1<=X<4",
          "unemployed",
          "<1",
          "1<=X<4",
          "1<=X<4",
          ">=7",
          "1<=X<4",
          "4<=X<7",
          "1<=X<4",
          "4<=X<7",
          "1<=X<4",
          "4<=X<7",
          "1<=X<4",
          "4<=X<7",
          "<1",
          "1<=X<4",
          "1<=X<4",
          ">=7",
          ">=7",
          ">=7",
          "4<=X<7",
          "<1",
          ">=7",
          "1<=X<4",
          "1<=X<4",
          "<1",
          "4<=X<7",
          "1<=X<4",
          "1<=X<4",
          "unemployed",
          ">=7",
          "1<=X<4",
          "1<=X<4",
          "1<=X<4",
          "1<=X<4",
          "1<=X<4",
          "1<=X<4",
          ">=7",
          "4<=X<7",
          "unemployed",
          "unemployed",
          ">=7",
          "1<=X<4",
          "<1",
          "1<=X<4",
          "4<=X<7",
          "<1",
          "1<=X<4",
          "<1",
          "4<=X<7",
          "1<=X<4",
          "<1",
          "4<=X<7",
          ">=7",
          ">=7",
          ">=7",
          ">=7",
          "1<=X<4",
          "1<=X<4",
          "4<=X<7",
          "1<=X<4",
          "1<=X<4",
          "1<=X<4",
          "1<=X<4",
          "<1",
          "4<=X<7",
          ">=7",
          "1<=X<4",
          "1<=X<4",
          "4<=X<7",
          "1<=X<4",
          "<1",
          ">=7",
          "<1",
          "1<=X<4",
          "4<=X<7",
          "1<=X<4",
          "1<=X<4",
          "<1",
          "<1",
          "4<=X<7",
          ">=7",
          "4<=X<7",
          "4<=X<7",
          "4<=X<7",
          "1<=X<4",
          "4<=X<7",
          "<1",
          "<1",
          "4<=X<7",
          ">=7",
          "1<=X<4",
          "<1",
          "1<=X<4",
          ">=7",
          ">=7",
          "1<=X<4",
          "<1",
          "4<=X<7",
          "4<=X<7",
          "unemployed",
          "1<=X<4",
          "1<=X<4",
          "1<=X<4",
          ">=7",
          ">=7",
          ">=7",
          ">=7",
          ">=7",
          ">=7",
          "4<=X<7",
          "4<=X<7",
          ">=7",
          "1<=X<4",
          "1<=X<4",
          "4<=X<7",
          "1<=X<4",
          "1<=X<4",
          "4<=X<7",
          "4<=X<7",
          "1<=X<4",
          "4<=X<7",
          "<1",
          "4<=X<7",
          "<1",
          "4<=X<7",
          "4<=X<7",
          ">=7",
          ">=7",
          "<1",
          "1<=X<4",
          "4<=X<7",
          ">=7",
          "unemployed",
          "4<=X<7",
          ">=7",
          "1<=X<4",
          "<1",
          "1<=X<4",
          "1<=X<4",
          "1<=X<4",
          "<1",
          "<1",
          "4<=X<7",
          "4<=X<7",
          "1<=X<4",
          "4<=X<7",
          ">=7",
          "1<=X<4",
          "4<=X<7",
          "4<=X<7",
          "1<=X<4",
          "1<=X<4",
          "unemployed",
          "1<=X<4",
          "unemployed",
          "unemployed",
          "<1",
          ">=7",
          "<1",
          "4<=X<7",
          "4<=X<7",
          "1<=X<4",
          ">=7",
          "1<=X<4",
          ">=7",
          "4<=X<7",
          "1<=X<4",
          "1<=X<4",
          ">=7",
          ">=7",
          ">=7",
          "1<=X<4",
          "1<=X<4",
          ">=7",
          ">=7",
          "4<=X<7",
          ">=7",
          "1<=X<4",
          "4<=X<7",
          "4<=X<7",
          ">=7",
          "unemployed",
          "1<=X<4",
          "unemployed",
          ">=7",
          "4<=X<7",
          "<1",
          ">=7",
          "4<=X<7",
          ">=7",
          ">=7",
          ">=7",
          ">=7",
          "1<=X<4",
          "<1",
          "1<=X<4",
          ">=7",
          "4<=X<7",
          ">=7",
          "4<=X<7",
          "4<=X<7",
          "1<=X<4",
          "<1",
          "<1",
          ">=7",
          "1<=X<4",
          "1<=X<4",
          "<1",
          "<1",
          "4<=X<7",
          "4<=X<7",
          "4<=X<7",
          "4<=X<7",
          "4<=X<7",
          "1<=X<4",
          "<1",
          ">=7",
          "1<=X<4",
          "unemployed",
          "4<=X<7",
          "1<=X<4",
          "4<=X<7",
          "<1",
          ">=7",
          "4<=X<7",
          "1<=X<4",
          ">=7",
          "1<=X<4",
          "<1",
          ">=7",
          "1<=X<4",
          ">=7",
          "<1",
          "1<=X<4",
          "1<=X<4",
          ">=7",
          ">=7",
          ">=7",
          "1<=X<4",
          "<1",
          ">=7",
          "unemployed",
          "<1",
          "<1",
          "4<=X<7",
          "1<=X<4",
          "4<=X<7",
          "4<=X<7",
          ">=7",
          "unemployed",
          ">=7",
          ">=7",
          "1<=X<4",
          "4<=X<7",
          ">=7",
          "1<=X<4",
          "4<=X<7",
          "<1",
          "1<=X<4",
          "4<=X<7",
          "<1",
          "1<=X<4",
          "1<=X<4",
          "4<=X<7",
          "unemployed",
          "1<=X<4",
          "1<=X<4",
          "1<=X<4",
          "1<=X<4",
          "1<=X<4",
          "<1",
          "<1",
          "1<=X<4",
          ">=7",
          "4<=X<7",
          ">=7",
          "<1",
          "1<=X<4",
          "1<=X<4",
          ">=7",
          "1<=X<4",
          "1<=X<4",
          "1<=X<4",
          "1<=X<4",
          "4<=X<7",
          "1<=X<4",
          "4<=X<7",
          "4<=X<7",
          "1<=X<4",
          ">=7",
          "unemployed",
          "<1",
          ">=7",
          ">=7",
          "1<=X<4",
          ">=7",
          ">=7",
          "4<=X<7",
          "1<=X<4",
          ">=7",
          "1<=X<4",
          "4<=X<7",
          ">=7",
          "1<=X<4",
          "4<=X<7",
          "<1",
          "1<=X<4",
          "1<=X<4",
          ">=7",
          ">=7",
          "1<=X<4",
          "4<=X<7",
          ">=7",
          ">=7",
          "<1",
          "1<=X<4",
          ">=7",
          "<1",
          "1<=X<4",
          "1<=X<4",
          "1<=X<4",
          "<1",
          ">=7",
          ">=7",
          "4<=X<7",
          "<1",
          "unemployed",
          "4<=X<7",
          "<1",
          "4<=X<7",
          "unemployed",
          "4<=X<7",
          ">=7",
          ">=7",
          "<1",
          "4<=X<7",
          ">=7",
          "<1",
          ">=7",
          ">=7",
          ">=7",
          "1<=X<4",
          ">=7",
          ">=7",
          ">=7",
          "4<=X<7",
          "1<=X<4",
          ">=7",
          "<1",
          "1<=X<4",
          ">=7",
          "<1",
          "1<=X<4",
          "1<=X<4",
          ">=7",
          "4<=X<7",
          ">=7",
          "1<=X<4",
          "1<=X<4",
          "1<=X<4",
          "unemployed",
          "1<=X<4",
          "4<=X<7",
          "<1",
          "1<=X<4",
          "unemployed",
          "4<=X<7",
          "4<=X<7",
          ">=7",
          "1<=X<4",
          "1<=X<4",
          "<1",
          "4<=X<7",
          ">=7",
          "1<=X<4",
          "<1",
          "4<=X<7",
          ">=7",
          ">=7",
          "unemployed",
          "<1",
          "1<=X<4",
          "4<=X<7",
          "4<=X<7",
          "<1",
          ">=7",
          "1<=X<4",
          "4<=X<7",
          ">=7",
          "1<=X<4",
          "4<=X<7",
          ">=7",
          "1<=X<4",
          "4<=X<7",
          ">=7",
          "1<=X<4",
          ">=7",
          "1<=X<4",
          "1<=X<4",
          "1<=X<4",
          "1<=X<4",
          "1<=X<4",
          ">=7",
          "4<=X<7",
          "4<=X<7",
          ">=7",
          "1<=X<4",
          "4<=X<7",
          "<1",
          "1<=X<4",
          "unemployed",
          "1<=X<4",
          "<1",
          "<1",
          "1<=X<4",
          "1<=X<4",
          "unemployed",
          ">=7",
          "<1",
          "1<=X<4",
          "1<=X<4",
          "4<=X<7",
          "4<=X<7",
          "1<=X<4",
          "1<=X<4",
          "<1",
          "unemployed",
          ">=7",
          "unemployed",
          ">=7",
          "1<=X<4",
          "1<=X<4",
          "1<=X<4",
          ">=7",
          "4<=X<7",
          "1<=X<4",
          "1<=X<4",
          "4<=X<7",
          ">=7",
          "<1",
          "unemployed",
          "1<=X<4",
          ">=7",
          ">=7",
          "4<=X<7",
          ">=7",
          "1<=X<4",
          "1<=X<4",
          "<1",
          "4<=X<7",
          "<1",
          "4<=X<7",
          ">=7",
          "1<=X<4",
          ">=7",
          "1<=X<4",
          "1<=X<4",
          ">=7",
          "4<=X<7",
          "1<=X<4",
          "1<=X<4",
          "4<=X<7",
          ">=7",
          "<1",
          "<1",
          "1<=X<4",
          "1<=X<4",
          "4<=X<7",
          ">=7",
          ">=7",
          "unemployed",
          "1<=X<4",
          "1<=X<4",
          "1<=X<4",
          ">=7",
          ">=7",
          "1<=X<4",
          "1<=X<4",
          "1<=X<4",
          "1<=X<4",
          "1<=X<4"
         ],
         "xaxis": "x",
         "yaxis": "y"
        },
        {
         "histnorm": "probability",
         "marker": {
          "color": "#FF4365"
         },
         "name": "Bad Credit",
         "type": "histogram",
         "x": [
          "1<=X<4",
          "1<=X<4",
          "1<=X<4",
          "<1",
          "1<=X<4",
          "<1",
          "1<=X<4",
          "1<=X<4",
          "1<=X<4",
          ">=7",
          "4<=X<7",
          "1<=X<4",
          "4<=X<7",
          "1<=X<4",
          "<1",
          "1<=X<4",
          "4<=X<7",
          ">=7",
          "1<=X<4",
          "<1",
          "1<=X<4",
          ">=7",
          ">=7",
          ">=7",
          ">=7",
          "1<=X<4",
          "4<=X<7",
          ">=7",
          "1<=X<4",
          "1<=X<4",
          "4<=X<7",
          "1<=X<4",
          "<1",
          "unemployed",
          "<1",
          "1<=X<4",
          "1<=X<4",
          "<1",
          ">=7",
          "<1",
          "<1",
          "1<=X<4",
          "<1",
          "1<=X<4",
          "1<=X<4",
          ">=7",
          "1<=X<4",
          "1<=X<4",
          "1<=X<4",
          "<1",
          "unemployed",
          "4<=X<7",
          "1<=X<4",
          "<1",
          "1<=X<4",
          "4<=X<7",
          "1<=X<4",
          "1<=X<4",
          ">=7",
          ">=7",
          "4<=X<7",
          "4<=X<7",
          "1<=X<4",
          "unemployed",
          "1<=X<4",
          "4<=X<7",
          "<1",
          "<1",
          "unemployed",
          "4<=X<7",
          "1<=X<4",
          "unemployed",
          ">=7",
          "4<=X<7",
          "<1",
          ">=7",
          "unemployed",
          "4<=X<7",
          "1<=X<4",
          "1<=X<4",
          "1<=X<4",
          ">=7",
          "4<=X<7",
          "1<=X<4",
          ">=7",
          ">=7",
          "<1",
          ">=7",
          "unemployed",
          "unemployed",
          "<1",
          "<1",
          "<1",
          "unemployed",
          "1<=X<4",
          "4<=X<7",
          "unemployed",
          "4<=X<7",
          "<1",
          "1<=X<4",
          "<1",
          ">=7",
          "<1",
          ">=7",
          "4<=X<7",
          ">=7",
          ">=7",
          "1<=X<4",
          "1<=X<4",
          "1<=X<4",
          ">=7",
          ">=7",
          "1<=X<4",
          "1<=X<4",
          "<1",
          "1<=X<4",
          "1<=X<4",
          "<1",
          "4<=X<7",
          "<1",
          "1<=X<4",
          "<1",
          ">=7",
          "<1",
          "1<=X<4",
          "1<=X<4",
          "<1",
          "1<=X<4",
          "1<=X<4",
          "1<=X<4",
          ">=7",
          "1<=X<4",
          ">=7",
          "<1",
          "4<=X<7",
          "<1",
          "<1",
          "1<=X<4",
          "1<=X<4",
          "<1",
          "1<=X<4",
          "<1",
          ">=7",
          ">=7",
          "1<=X<4",
          "<1",
          "unemployed",
          "unemployed",
          ">=7",
          "4<=X<7",
          "1<=X<4",
          "1<=X<4",
          "1<=X<4",
          ">=7",
          "1<=X<4",
          ">=7",
          "<1",
          "unemployed",
          "1<=X<4",
          "1<=X<4",
          "4<=X<7",
          ">=7",
          "<1",
          "1<=X<4",
          "1<=X<4",
          ">=7",
          "<1",
          ">=7",
          "unemployed",
          ">=7",
          "1<=X<4",
          ">=7",
          "1<=X<4",
          "1<=X<4",
          "<1",
          ">=7",
          "<1",
          "<1",
          "<1",
          "1<=X<4",
          "<1",
          "<1",
          ">=7",
          "<1",
          "1<=X<4",
          "<1",
          "1<=X<4",
          "unemployed",
          "1<=X<4",
          "<1",
          "4<=X<7",
          "<1",
          "1<=X<4",
          "<1",
          "1<=X<4",
          "1<=X<4",
          "<1",
          "1<=X<4",
          ">=7",
          "4<=X<7",
          "1<=X<4",
          "unemployed",
          "unemployed",
          ">=7",
          ">=7",
          "4<=X<7",
          ">=7",
          "4<=X<7",
          "unemployed",
          "unemployed",
          "4<=X<7",
          ">=7",
          "1<=X<4",
          "4<=X<7",
          "4<=X<7",
          "1<=X<4",
          ">=7",
          "4<=X<7",
          "1<=X<4",
          "<1",
          "1<=X<4",
          ">=7",
          ">=7",
          "1<=X<4",
          "4<=X<7",
          "1<=X<4",
          ">=7",
          "1<=X<4",
          ">=7",
          ">=7",
          "1<=X<4",
          "<1",
          "1<=X<4",
          "1<=X<4",
          "1<=X<4",
          ">=7",
          ">=7",
          "1<=X<4",
          "1<=X<4",
          "<1",
          "<1",
          ">=7",
          "4<=X<7",
          "<1",
          "1<=X<4",
          "1<=X<4",
          "4<=X<7",
          "1<=X<4",
          "4<=X<7",
          ">=7",
          "<1",
          "<1",
          "<1",
          "1<=X<4",
          "<1",
          "1<=X<4",
          ">=7",
          ">=7",
          "4<=X<7",
          ">=7",
          "1<=X<4",
          "1<=X<4",
          ">=7",
          "1<=X<4",
          "<1",
          "4<=X<7",
          "1<=X<4",
          "4<=X<7",
          "unemployed",
          "<1",
          ">=7",
          "<1",
          ">=7",
          "unemployed",
          ">=7",
          "4<=X<7",
          "<1",
          "<1",
          "<1",
          "1<=X<4",
          ">=7",
          "4<=X<7",
          ">=7",
          "1<=X<4",
          "<1",
          "1<=X<4",
          "unemployed",
          "<1",
          "1<=X<4",
          "1<=X<4",
          "1<=X<4",
          ">=7",
          "unemployed",
          ">=7",
          "<1",
          "<1",
          "<1",
          "1<=X<4",
          "<1",
          "4<=X<7"
         ],
         "xaxis": "x2",
         "yaxis": "y2"
        },
        {
         "histnorm": "probability",
         "marker": {
          "color": "darkblue"
         },
         "name": "Overall Age",
         "type": "histogram",
         "x": [
          "1<=X<4",
          "1<=X<4",
          "1<=X<4",
          ">=7",
          ">=7",
          ">=7",
          ">=7",
          ">=7",
          "<1",
          "<1",
          ">=7",
          "4<=X<7",
          "1<=X<4",
          "1<=X<4",
          ">=7",
          "1<=X<4",
          "4<=X<7",
          "<1",
          "1<=X<4",
          ">=7",
          "<1",
          "1<=X<4",
          "1<=X<4",
          "<1",
          "1<=X<4",
          ">=7",
          ">=7",
          ">=7",
          ">=7",
          ">=7",
          "1<=X<4",
          "4<=X<7",
          ">=7",
          "1<=X<4",
          "1<=X<4",
          ">=7",
          ">=7",
          "<1",
          "4<=X<7",
          "unemployed",
          "4<=X<7",
          "1<=X<4",
          "1<=X<4",
          "4<=X<7",
          "4<=X<7",
          "1<=X<4",
          ">=7",
          "<1",
          "4<=X<7",
          "4<=X<7",
          "1<=X<4",
          "1<=X<4",
          "<1",
          "<1",
          "1<=X<4",
          "1<=X<4",
          "1<=X<4",
          "1<=X<4",
          "4<=X<7",
          ">=7",
          ">=7",
          "1<=X<4",
          "<1",
          "1<=X<4",
          ">=7",
          ">=7",
          "<1",
          ">=7",
          "1<=X<4",
          "1<=X<4",
          "1<=X<4",
          ">=7",
          ">=7",
          ">=7",
          "<1",
          "<1",
          "1<=X<4",
          "1<=X<4",
          ">=7",
          ">=7",
          "1<=X<4",
          "4<=X<7",
          "1<=X<4",
          ">=7",
          "4<=X<7",
          "1<=X<4",
          "4<=X<7",
          ">=7",
          ">=7",
          "1<=X<4",
          ">=7",
          ">=7",
          ">=7",
          "1<=X<4",
          "1<=X<4",
          "1<=X<4",
          "1<=X<4",
          "1<=X<4",
          "4<=X<7",
          ">=7",
          "4<=X<7",
          "unemployed",
          "1<=X<4",
          "4<=X<7",
          "<1",
          ">=7",
          "1<=X<4",
          "1<=X<4",
          "unemployed",
          "<1",
          "1<=X<4",
          ">=7",
          ">=7",
          ">=7",
          "unemployed",
          "1<=X<4",
          "unemployed",
          "4<=X<7",
          "<1",
          ">=7",
          "<1",
          ">=7",
          "<1",
          "unemployed",
          "<1",
          "1<=X<4",
          ">=7",
          "1<=X<4",
          ">=7",
          "unemployed",
          "<1",
          "4<=X<7",
          "1<=X<4",
          "4<=X<7",
          ">=7",
          ">=7",
          "1<=X<4",
          "1<=X<4",
          "1<=X<4",
          ">=7",
          "<1",
          "1<=X<4",
          "1<=X<4",
          "4<=X<7",
          "1<=X<4",
          "4<=X<7",
          ">=7",
          "1<=X<4",
          "<1",
          "4<=X<7",
          "1<=X<4",
          ">=7",
          "1<=X<4",
          "1<=X<4",
          "4<=X<7",
          "4<=X<7",
          "1<=X<4",
          "1<=X<4",
          "unemployed",
          "1<=X<4",
          "4<=X<7",
          "1<=X<4",
          ">=7",
          ">=7",
          ">=7",
          "4<=X<7",
          ">=7",
          "1<=X<4",
          "1<=X<4",
          "1<=X<4",
          "1<=X<4",
          ">=7",
          "<1",
          "1<=X<4",
          "1<=X<4",
          "unemployed",
          "<1",
          "1<=X<4",
          ">=7",
          "<1",
          "1<=X<4",
          "4<=X<7",
          "1<=X<4",
          "1<=X<4",
          ">=7",
          "<1",
          ">=7",
          ">=7",
          "1<=X<4",
          "1<=X<4",
          "<1",
          "<1",
          ">=7",
          "4<=X<7",
          ">=7",
          "4<=X<7",
          ">=7",
          "1<=X<4",
          "<1",
          "4<=X<7",
          "1<=X<4",
          ">=7",
          "unemployed",
          "4<=X<7",
          "1<=X<4",
          "<1",
          "4<=X<7",
          "1<=X<4",
          "1<=X<4",
          "<1",
          "unemployed",
          ">=7",
          "<1",
          ">=7",
          "1<=X<4",
          "1<=X<4",
          "1<=X<4",
          "1<=X<4",
          "4<=X<7",
          "4<=X<7",
          "<1",
          "<1",
          "<1",
          "1<=X<4",
          "4<=X<7",
          ">=7",
          ">=7",
          "1<=X<4",
          "unemployed",
          "4<=X<7",
          "1<=X<4",
          "<1",
          ">=7",
          "unemployed",
          ">=7",
          "<1",
          "4<=X<7",
          ">=7",
          "4<=X<7",
          ">=7",
          ">=7",
          "1<=X<4",
          "1<=X<4",
          ">=7",
          "1<=X<4",
          "<1",
          ">=7",
          "<1",
          "1<=X<4",
          "<1",
          "1<=X<4",
          "<1",
          ">=7",
          "unemployed",
          "4<=X<7",
          "1<=X<4",
          "<1",
          "4<=X<7",
          ">=7",
          ">=7",
          "4<=X<7",
          "1<=X<4",
          "4<=X<7",
          "1<=X<4",
          ">=7",
          ">=7",
          "1<=X<4",
          "1<=X<4",
          "<1",
          ">=7",
          ">=7",
          "4<=X<7",
          "<1",
          "1<=X<4",
          "4<=X<7",
          "<1",
          ">=7",
          "<1",
          ">=7",
          "1<=X<4",
          "unemployed",
          "<1",
          ">=7",
          ">=7",
          "<1",
          "unemployed",
          "1<=X<4",
          ">=7",
          ">=7",
          "1<=X<4",
          "4<=X<7",
          "1<=X<4",
          "1<=X<4",
          "1<=X<4",
          ">=7",
          "1<=X<4",
          ">=7",
          "4<=X<7",
          "unemployed",
          "unemployed",
          "unemployed",
          "1<=X<4",
          ">=7",
          "unemployed",
          "1<=X<4",
          "<1",
          "4<=X<7",
          "<1",
          "1<=X<4",
          "<1",
          "1<=X<4",
          "<1",
          "unemployed",
          "<1",
          "unemployed",
          "1<=X<4",
          "1<=X<4",
          ">=7",
          "1<=X<4",
          "4<=X<7",
          "1<=X<4",
          "1<=X<4",
          "4<=X<7",
          "1<=X<4",
          "4<=X<7",
          "1<=X<4",
          "4<=X<7",
          "<1",
          "4<=X<7",
          "unemployed",
          "4<=X<7",
          "<1",
          "1<=X<4",
          "1<=X<4",
          ">=7",
          ">=7",
          "1<=X<4",
          ">=7",
          "4<=X<7",
          "<1",
          ">=7",
          "<1",
          "1<=X<4",
          "1<=X<4",
          "<1",
          "4<=X<7",
          ">=7",
          "1<=X<4",
          "<1",
          "1<=X<4",
          "unemployed",
          ">=7",
          "1<=X<4",
          ">=7",
          "1<=X<4",
          "1<=X<4",
          "1<=X<4",
          "4<=X<7",
          "1<=X<4",
          ">=7",
          ">=7",
          "1<=X<4",
          "1<=X<4",
          ">=7",
          "1<=X<4",
          "4<=X<7",
          "1<=X<4",
          "unemployed",
          ">=7",
          ">=7",
          "unemployed",
          ">=7",
          "1<=X<4",
          "<1",
          "1<=X<4",
          "1<=X<4",
          "4<=X<7",
          "<1",
          "1<=X<4",
          "1<=X<4",
          "<1",
          "<1",
          "4<=X<7",
          "1<=X<4",
          "<1",
          "4<=X<7",
          ">=7",
          ">=7",
          ">=7",
          ">=7",
          "1<=X<4",
          "1<=X<4",
          "1<=X<4",
          "4<=X<7",
          "1<=X<4",
          "1<=X<4",
          "1<=X<4",
          "1<=X<4",
          "1<=X<4",
          "<1",
          "4<=X<7",
          ">=7",
          "<1",
          "1<=X<4",
          "4<=X<7",
          "1<=X<4",
          "4<=X<7",
          "<1",
          "1<=X<4",
          "<1",
          "1<=X<4",
          "<1",
          ">=7",
          "<1",
          "1<=X<4",
          "4<=X<7",
          ">=7",
          "1<=X<4",
          "1<=X<4",
          "<1",
          "<1",
          "<1",
          "4<=X<7",
          ">=7",
          "4<=X<7",
          "4<=X<7",
          "4<=X<7",
          "1<=X<4",
          "1<=X<4",
          "1<=X<4",
          "4<=X<7",
          "<1",
          "<1",
          "<1",
          "1<=X<4",
          "4<=X<7",
          "1<=X<4",
          ">=7",
          "1<=X<4",
          "<1",
          "1<=X<4",
          ">=7",
          "1<=X<4",
          ">=7",
          "1<=X<4",
          "<1",
          ">=7",
          "4<=X<7",
          "4<=X<7",
          "1<=X<4",
          "unemployed",
          "1<=X<4",
          "1<=X<4",
          "1<=X<4",
          ">=7",
          ">=7",
          ">=7",
          ">=7",
          ">=7",
          "<1",
          "4<=X<7",
          ">=7",
          ">=7",
          "4<=X<7",
          "4<=X<7",
          "<1",
          ">=7",
          "1<=X<4",
          "1<=X<4",
          "4<=X<7",
          "1<=X<4",
          "<1",
          "1<=X<4",
          "4<=X<7",
          "4<=X<7",
          "1<=X<4",
          "1<=X<4",
          "4<=X<7",
          "<1",
          "4<=X<7",
          "1<=X<4",
          "<1",
          "4<=X<7",
          "4<=X<7",
          "<1",
          ">=7",
          ">=7",
          "<1",
          "1<=X<4",
          "4<=X<7",
          "1<=X<4",
          ">=7",
          "unemployed",
          "4<=X<7",
          ">=7",
          "1<=X<4",
          "<1",
          "1<=X<4",
          "1<=X<4",
          "<1",
          "1<=X<4",
          "<1",
          "<1",
          "4<=X<7",
          ">=7",
          ">=7",
          "4<=X<7",
          "1<=X<4",
          "1<=X<4",
          "4<=X<7",
          "<1",
          "unemployed",
          ">=7",
          "1<=X<4",
          "4<=X<7",
          "4<=X<7",
          "1<=X<4",
          "unemployed",
          ">=7",
          "1<=X<4",
          "unemployed",
          "1<=X<4",
          "4<=X<7",
          "unemployed",
          "unemployed",
          "<1",
          ">=7",
          "<1",
          "1<=X<4",
          "4<=X<7",
          "4<=X<7",
          "1<=X<4",
          "1<=X<4",
          ">=7",
          "1<=X<4",
          ">=7",
          "1<=X<4",
          "4<=X<7",
          "1<=X<4",
          "1<=X<4",
          ">=7",
          ">=7",
          "1<=X<4",
          ">=7",
          ">=7",
          ">=7",
          "<1",
          "unemployed",
          "1<=X<4",
          "1<=X<4",
          "1<=X<4",
          ">=7",
          ">=7",
          "4<=X<7",
          "1<=X<4",
          "4<=X<7",
          ">=7",
          "1<=X<4",
          "4<=X<7",
          ">=7",
          "4<=X<7",
          ">=7",
          "unemployed",
          "<1",
          "1<=X<4",
          "unemployed",
          "1<=X<4",
          "1<=X<4",
          ">=7",
          ">=7",
          "<1",
          "4<=X<7",
          "<1",
          ">=7",
          ">=7",
          "4<=X<7",
          ">=7",
          "unemployed",
          ">=7",
          ">=7",
          ">=7",
          ">=7",
          "1<=X<4",
          "<1",
          "1<=X<4",
          ">=7",
          "1<=X<4",
          "4<=X<7",
          ">=7",
          "4<=X<7",
          "4<=X<7",
          "1<=X<4",
          ">=7",
          "1<=X<4",
          "<1",
          "<1",
          ">=7",
          "1<=X<4",
          "1<=X<4",
          "1<=X<4",
          "<1",
          "<1",
          "4<=X<7",
          "<1",
          "4<=X<7",
          ">=7",
          "<1",
          "4<=X<7",
          "4<=X<7",
          "4<=X<7",
          "<1",
          "1<=X<4",
          "<1",
          ">=7",
          "1<=X<4",
          "unemployed",
          "<1",
          "4<=X<7",
          "1<=X<4",
          "1<=X<4",
          "4<=X<7",
          "<1",
          "<1",
          ">=7",
          "4<=X<7",
          "<1",
          "1<=X<4",
          ">=7",
          "1<=X<4",
          ">=7",
          "<1",
          ">=7",
          "1<=X<4",
          ">=7",
          "<1",
          "<1",
          "1<=X<4",
          "1<=X<4",
          ">=7",
          "1<=X<4",
          ">=7",
          ">=7",
          "1<=X<4",
          "<1",
          ">=7",
          "unemployed",
          "<1",
          "<1",
          "4<=X<7",
          "1<=X<4",
          "4<=X<7",
          "4<=X<7",
          ">=7",
          "<1",
          "1<=X<4",
          "unemployed",
          ">=7",
          "unemployed",
          ">=7",
          "1<=X<4",
          "4<=X<7",
          "1<=X<4",
          ">=7",
          "1<=X<4",
          "<1",
          "4<=X<7",
          "<1",
          "1<=X<4",
          "4<=X<7",
          "<1",
          "4<=X<7",
          "<1",
          "1<=X<4",
          "<1",
          "1<=X<4",
          "1<=X<4",
          "4<=X<7",
          "unemployed",
          "1<=X<4",
          "1<=X<4",
          "1<=X<4",
          "1<=X<4",
          "1<=X<4",
          "1<=X<4",
          "<1",
          "1<=X<4",
          "<1",
          "<1",
          "1<=X<4",
          "1<=X<4",
          ">=7",
          ">=7",
          "4<=X<7",
          ">=7",
          "<1",
          "1<=X<4",
          "4<=X<7",
          "1<=X<4",
          "unemployed",
          "1<=X<4",
          ">=7",
          "1<=X<4",
          "1<=X<4",
          "1<=X<4",
          "unemployed",
          ">=7",
          "1<=X<4",
          ">=7",
          "4<=X<7",
          "1<=X<4",
          "4<=X<7",
          "4<=X<7",
          "4<=X<7",
          "1<=X<4",
          ">=7",
          "unemployed",
          "<1",
          ">=7",
          ">=7",
          "1<=X<4",
          ">=7",
          ">=7",
          "4<=X<7",
          ">=7",
          "4<=X<7",
          "unemployed",
          "1<=X<4",
          "unemployed",
          ">=7",
          "1<=X<4",
          "4<=X<7",
          ">=7",
          "4<=X<7",
          "1<=X<4",
          "4<=X<7",
          ">=7",
          "1<=X<4",
          "4<=X<7",
          "<1",
          "1<=X<4",
          "4<=X<7",
          "1<=X<4",
          "1<=X<4",
          ">=7",
          ">=7",
          ">=7",
          "4<=X<7",
          "1<=X<4",
          "4<=X<7",
          ">=7",
          "1<=X<4",
          ">=7",
          "<1",
          "1<=X<4",
          ">=7",
          "<1",
          "1<=X<4",
          "<1",
          ">=7",
          ">=7",
          "1<=X<4",
          "1<=X<4",
          "1<=X<4",
          "1<=X<4",
          "<1",
          ">=7",
          "4<=X<7",
          ">=7",
          "4<=X<7",
          "1<=X<4",
          "<1",
          "unemployed",
          "4<=X<7",
          ">=7",
          "1<=X<4",
          ">=7",
          "<1",
          "4<=X<7",
          "unemployed",
          "4<=X<7",
          ">=7",
          ">=7",
          "<1",
          "4<=X<7",
          ">=7",
          ">=7",
          "<1",
          ">=7",
          "1<=X<4",
          ">=7",
          ">=7",
          "1<=X<4",
          "<1",
          ">=7",
          "1<=X<4",
          ">=7",
          ">=7",
          "4<=X<7",
          "1<=X<4",
          "1<=X<4",
          ">=7",
          "1<=X<4",
          "<1",
          "1<=X<4",
          ">=7",
          ">=7",
          ">=7",
          "<1",
          "1<=X<4",
          "1<=X<4",
          "1<=X<4",
          ">=7",
          "4<=X<7",
          "1<=X<4",
          ">=7",
          "<1",
          "1<=X<4",
          "<1",
          "1<=X<4",
          ">=7",
          "4<=X<7",
          "1<=X<4",
          "unemployed",
          "1<=X<4",
          "4<=X<7",
          "<1",
          "1<=X<4",
          "unemployed",
          "4<=X<7",
          "4<=X<7",
          ">=7",
          "1<=X<4",
          "1<=X<4",
          "<1",
          "4<=X<7",
          ">=7",
          "1<=X<4",
          "<1",
          "<1",
          "1<=X<4",
          "1<=X<4",
          "4<=X<7",
          "4<=X<7",
          "1<=X<4",
          ">=7",
          ">=7",
          "unemployed",
          "<1",
          "1<=X<4",
          "4<=X<7",
          "4<=X<7",
          "4<=X<7",
          "<1",
          ">=7",
          "1<=X<4",
          "4<=X<7",
          ">=7",
          ">=7",
          "1<=X<4",
          "4<=X<7",
          "<1",
          ">=7",
          "1<=X<4",
          "<1",
          "4<=X<7",
          ">=7",
          "<1",
          "1<=X<4",
          ">=7",
          "1<=X<4",
          "1<=X<4",
          "1<=X<4",
          "1<=X<4",
          "1<=X<4",
          "1<=X<4",
          ">=7",
          "4<=X<7",
          "4<=X<7",
          ">=7",
          "<1",
          "1<=X<4",
          "4<=X<7",
          "1<=X<4",
          ">=7",
          "<1",
          ">=7",
          "1<=X<4",
          "unemployed",
          "1<=X<4",
          "<1",
          "<1",
          "1<=X<4",
          "1<=X<4",
          "unemployed",
          "4<=X<7",
          ">=7",
          "<1",
          "1<=X<4",
          ">=7",
          "1<=X<4",
          "1<=X<4",
          "1<=X<4",
          ">=7",
          "1<=X<4",
          "4<=X<7",
          "<1",
          "4<=X<7",
          "1<=X<4",
          "4<=X<7",
          "4<=X<7",
          "unemployed",
          "1<=X<4",
          "<1",
          "1<=X<4",
          ">=7",
          "<1",
          "<1",
          ">=7",
          "unemployed",
          ">=7",
          "unemployed",
          ">=7",
          "unemployed",
          "1<=X<4",
          "1<=X<4",
          "1<=X<4",
          ">=7",
          "4<=X<7",
          "1<=X<4",
          "1<=X<4",
          "4<=X<7",
          ">=7",
          "4<=X<7",
          ">=7",
          "<1",
          "unemployed",
          "1<=X<4",
          "<1",
          "<1",
          ">=7",
          ">=7",
          "4<=X<7",
          ">=7",
          "<1",
          "1<=X<4",
          "1<=X<4",
          "1<=X<4",
          ">=7",
          "<1",
          "4<=X<7",
          "<1",
          "4<=X<7",
          "4<=X<7",
          ">=7",
          "1<=X<4",
          ">=7",
          "1<=X<4",
          ">=7",
          "1<=X<4",
          ">=7",
          "4<=X<7",
          "1<=X<4",
          "1<=X<4",
          "<1",
          "1<=X<4",
          "4<=X<7",
          ">=7",
          "<1",
          "<1",
          "1<=X<4",
          "1<=X<4",
          "unemployed",
          "1<=X<4",
          "<1",
          "4<=X<7",
          "1<=X<4",
          "1<=X<4",
          "1<=X<4",
          ">=7",
          ">=7",
          "unemployed",
          "1<=X<4",
          "1<=X<4",
          ">=7",
          "1<=X<4",
          "unemployed",
          ">=7",
          ">=7",
          "1<=X<4",
          "1<=X<4",
          ">=7",
          "<1",
          "1<=X<4",
          "<1",
          "<1",
          "1<=X<4",
          "1<=X<4",
          "<1",
          "1<=X<4",
          "4<=X<7"
         ],
         "xaxis": "x3",
         "yaxis": "y3"
        }
       ],
       "layout": {
        "annotations": [
         {
          "font": {
           "size": 16
          },
          "showarrow": false,
          "text": "Good",
          "x": 0.225,
          "xanchor": "center",
          "xref": "paper",
          "y": 1,
          "yanchor": "bottom",
          "yref": "paper"
         },
         {
          "font": {
           "size": 16
          },
          "showarrow": false,
          "text": "Bad",
          "x": 0.775,
          "xanchor": "center",
          "xref": "paper",
          "y": 1,
          "yanchor": "bottom",
          "yref": "paper"
         },
         {
          "font": {
           "size": 16
          },
          "showarrow": false,
          "text": "General Distribution",
          "x": 0.5,
          "xanchor": "center",
          "xref": "paper",
          "y": 0.375,
          "yanchor": "bottom",
          "yref": "paper"
         }
        ],
        "bargap": 0.04,
        "showlegend": true,
        "template": {
         "data": {
          "bar": [
           {
            "error_x": {
             "color": "#2a3f5f"
            },
            "error_y": {
             "color": "#2a3f5f"
            },
            "marker": {
             "line": {
              "color": "#E5ECF6",
              "width": 0.5
             },
             "pattern": {
              "fillmode": "overlay",
              "size": 10,
              "solidity": 0.2
             }
            },
            "type": "bar"
           }
          ],
          "barpolar": [
           {
            "marker": {
             "line": {
              "color": "#E5ECF6",
              "width": 0.5
             },
             "pattern": {
              "fillmode": "overlay",
              "size": 10,
              "solidity": 0.2
             }
            },
            "type": "barpolar"
           }
          ],
          "carpet": [
           {
            "aaxis": {
             "endlinecolor": "#2a3f5f",
             "gridcolor": "white",
             "linecolor": "white",
             "minorgridcolor": "white",
             "startlinecolor": "#2a3f5f"
            },
            "baxis": {
             "endlinecolor": "#2a3f5f",
             "gridcolor": "white",
             "linecolor": "white",
             "minorgridcolor": "white",
             "startlinecolor": "#2a3f5f"
            },
            "type": "carpet"
           }
          ],
          "choropleth": [
           {
            "colorbar": {
             "outlinewidth": 0,
             "ticks": ""
            },
            "type": "choropleth"
           }
          ],
          "contour": [
           {
            "colorbar": {
             "outlinewidth": 0,
             "ticks": ""
            },
            "colorscale": [
             [
              0,
              "#0d0887"
             ],
             [
              0.1111111111111111,
              "#46039f"
             ],
             [
              0.2222222222222222,
              "#7201a8"
             ],
             [
              0.3333333333333333,
              "#9c179e"
             ],
             [
              0.4444444444444444,
              "#bd3786"
             ],
             [
              0.5555555555555556,
              "#d8576b"
             ],
             [
              0.6666666666666666,
              "#ed7953"
             ],
             [
              0.7777777777777778,
              "#fb9f3a"
             ],
             [
              0.8888888888888888,
              "#fdca26"
             ],
             [
              1,
              "#f0f921"
             ]
            ],
            "type": "contour"
           }
          ],
          "contourcarpet": [
           {
            "colorbar": {
             "outlinewidth": 0,
             "ticks": ""
            },
            "type": "contourcarpet"
           }
          ],
          "heatmap": [
           {
            "colorbar": {
             "outlinewidth": 0,
             "ticks": ""
            },
            "colorscale": [
             [
              0,
              "#0d0887"
             ],
             [
              0.1111111111111111,
              "#46039f"
             ],
             [
              0.2222222222222222,
              "#7201a8"
             ],
             [
              0.3333333333333333,
              "#9c179e"
             ],
             [
              0.4444444444444444,
              "#bd3786"
             ],
             [
              0.5555555555555556,
              "#d8576b"
             ],
             [
              0.6666666666666666,
              "#ed7953"
             ],
             [
              0.7777777777777778,
              "#fb9f3a"
             ],
             [
              0.8888888888888888,
              "#fdca26"
             ],
             [
              1,
              "#f0f921"
             ]
            ],
            "type": "heatmap"
           }
          ],
          "heatmapgl": [
           {
            "colorbar": {
             "outlinewidth": 0,
             "ticks": ""
            },
            "colorscale": [
             [
              0,
              "#0d0887"
             ],
             [
              0.1111111111111111,
              "#46039f"
             ],
             [
              0.2222222222222222,
              "#7201a8"
             ],
             [
              0.3333333333333333,
              "#9c179e"
             ],
             [
              0.4444444444444444,
              "#bd3786"
             ],
             [
              0.5555555555555556,
              "#d8576b"
             ],
             [
              0.6666666666666666,
              "#ed7953"
             ],
             [
              0.7777777777777778,
              "#fb9f3a"
             ],
             [
              0.8888888888888888,
              "#fdca26"
             ],
             [
              1,
              "#f0f921"
             ]
            ],
            "type": "heatmapgl"
           }
          ],
          "histogram": [
           {
            "marker": {
             "pattern": {
              "fillmode": "overlay",
              "size": 10,
              "solidity": 0.2
             }
            },
            "type": "histogram"
           }
          ],
          "histogram2d": [
           {
            "colorbar": {
             "outlinewidth": 0,
             "ticks": ""
            },
            "colorscale": [
             [
              0,
              "#0d0887"
             ],
             [
              0.1111111111111111,
              "#46039f"
             ],
             [
              0.2222222222222222,
              "#7201a8"
             ],
             [
              0.3333333333333333,
              "#9c179e"
             ],
             [
              0.4444444444444444,
              "#bd3786"
             ],
             [
              0.5555555555555556,
              "#d8576b"
             ],
             [
              0.6666666666666666,
              "#ed7953"
             ],
             [
              0.7777777777777778,
              "#fb9f3a"
             ],
             [
              0.8888888888888888,
              "#fdca26"
             ],
             [
              1,
              "#f0f921"
             ]
            ],
            "type": "histogram2d"
           }
          ],
          "histogram2dcontour": [
           {
            "colorbar": {
             "outlinewidth": 0,
             "ticks": ""
            },
            "colorscale": [
             [
              0,
              "#0d0887"
             ],
             [
              0.1111111111111111,
              "#46039f"
             ],
             [
              0.2222222222222222,
              "#7201a8"
             ],
             [
              0.3333333333333333,
              "#9c179e"
             ],
             [
              0.4444444444444444,
              "#bd3786"
             ],
             [
              0.5555555555555556,
              "#d8576b"
             ],
             [
              0.6666666666666666,
              "#ed7953"
             ],
             [
              0.7777777777777778,
              "#fb9f3a"
             ],
             [
              0.8888888888888888,
              "#fdca26"
             ],
             [
              1,
              "#f0f921"
             ]
            ],
            "type": "histogram2dcontour"
           }
          ],
          "mesh3d": [
           {
            "colorbar": {
             "outlinewidth": 0,
             "ticks": ""
            },
            "type": "mesh3d"
           }
          ],
          "parcoords": [
           {
            "line": {
             "colorbar": {
              "outlinewidth": 0,
              "ticks": ""
             }
            },
            "type": "parcoords"
           }
          ],
          "pie": [
           {
            "automargin": true,
            "type": "pie"
           }
          ],
          "scatter": [
           {
            "fillpattern": {
             "fillmode": "overlay",
             "size": 10,
             "solidity": 0.2
            },
            "type": "scatter"
           }
          ],
          "scatter3d": [
           {
            "line": {
             "colorbar": {
              "outlinewidth": 0,
              "ticks": ""
             }
            },
            "marker": {
             "colorbar": {
              "outlinewidth": 0,
              "ticks": ""
             }
            },
            "type": "scatter3d"
           }
          ],
          "scattercarpet": [
           {
            "marker": {
             "colorbar": {
              "outlinewidth": 0,
              "ticks": ""
             }
            },
            "type": "scattercarpet"
           }
          ],
          "scattergeo": [
           {
            "marker": {
             "colorbar": {
              "outlinewidth": 0,
              "ticks": ""
             }
            },
            "type": "scattergeo"
           }
          ],
          "scattergl": [
           {
            "marker": {
             "colorbar": {
              "outlinewidth": 0,
              "ticks": ""
             }
            },
            "type": "scattergl"
           }
          ],
          "scattermapbox": [
           {
            "marker": {
             "colorbar": {
              "outlinewidth": 0,
              "ticks": ""
             }
            },
            "type": "scattermapbox"
           }
          ],
          "scatterpolar": [
           {
            "marker": {
             "colorbar": {
              "outlinewidth": 0,
              "ticks": ""
             }
            },
            "type": "scatterpolar"
           }
          ],
          "scatterpolargl": [
           {
            "marker": {
             "colorbar": {
              "outlinewidth": 0,
              "ticks": ""
             }
            },
            "type": "scatterpolargl"
           }
          ],
          "scatterternary": [
           {
            "marker": {
             "colorbar": {
              "outlinewidth": 0,
              "ticks": ""
             }
            },
            "type": "scatterternary"
           }
          ],
          "surface": [
           {
            "colorbar": {
             "outlinewidth": 0,
             "ticks": ""
            },
            "colorscale": [
             [
              0,
              "#0d0887"
             ],
             [
              0.1111111111111111,
              "#46039f"
             ],
             [
              0.2222222222222222,
              "#7201a8"
             ],
             [
              0.3333333333333333,
              "#9c179e"
             ],
             [
              0.4444444444444444,
              "#bd3786"
             ],
             [
              0.5555555555555556,
              "#d8576b"
             ],
             [
              0.6666666666666666,
              "#ed7953"
             ],
             [
              0.7777777777777778,
              "#fb9f3a"
             ],
             [
              0.8888888888888888,
              "#fdca26"
             ],
             [
              1,
              "#f0f921"
             ]
            ],
            "type": "surface"
           }
          ],
          "table": [
           {
            "cells": {
             "fill": {
              "color": "#EBF0F8"
             },
             "line": {
              "color": "white"
             }
            },
            "header": {
             "fill": {
              "color": "#C8D4E3"
             },
             "line": {
              "color": "white"
             }
            },
            "type": "table"
           }
          ]
         },
         "layout": {
          "annotationdefaults": {
           "arrowcolor": "#2a3f5f",
           "arrowhead": 0,
           "arrowwidth": 1
          },
          "autotypenumbers": "strict",
          "coloraxis": {
           "colorbar": {
            "outlinewidth": 0,
            "ticks": ""
           }
          },
          "colorscale": {
           "diverging": [
            [
             0,
             "#8e0152"
            ],
            [
             0.1,
             "#c51b7d"
            ],
            [
             0.2,
             "#de77ae"
            ],
            [
             0.3,
             "#f1b6da"
            ],
            [
             0.4,
             "#fde0ef"
            ],
            [
             0.5,
             "#f7f7f7"
            ],
            [
             0.6,
             "#e6f5d0"
            ],
            [
             0.7,
             "#b8e186"
            ],
            [
             0.8,
             "#7fbc41"
            ],
            [
             0.9,
             "#4d9221"
            ],
            [
             1,
             "#276419"
            ]
           ],
           "sequential": [
            [
             0,
             "#0d0887"
            ],
            [
             0.1111111111111111,
             "#46039f"
            ],
            [
             0.2222222222222222,
             "#7201a8"
            ],
            [
             0.3333333333333333,
             "#9c179e"
            ],
            [
             0.4444444444444444,
             "#bd3786"
            ],
            [
             0.5555555555555556,
             "#d8576b"
            ],
            [
             0.6666666666666666,
             "#ed7953"
            ],
            [
             0.7777777777777778,
             "#fb9f3a"
            ],
            [
             0.8888888888888888,
             "#fdca26"
            ],
            [
             1,
             "#f0f921"
            ]
           ],
           "sequentialminus": [
            [
             0,
             "#0d0887"
            ],
            [
             0.1111111111111111,
             "#46039f"
            ],
            [
             0.2222222222222222,
             "#7201a8"
            ],
            [
             0.3333333333333333,
             "#9c179e"
            ],
            [
             0.4444444444444444,
             "#bd3786"
            ],
            [
             0.5555555555555556,
             "#d8576b"
            ],
            [
             0.6666666666666666,
             "#ed7953"
            ],
            [
             0.7777777777777778,
             "#fb9f3a"
            ],
            [
             0.8888888888888888,
             "#fdca26"
            ],
            [
             1,
             "#f0f921"
            ]
           ]
          },
          "colorway": [
           "#636efa",
           "#EF553B",
           "#00cc96",
           "#ab63fa",
           "#FFA15A",
           "#19d3f3",
           "#FF6692",
           "#B6E880",
           "#FF97FF",
           "#FECB52"
          ],
          "font": {
           "color": "#2a3f5f"
          },
          "geo": {
           "bgcolor": "white",
           "lakecolor": "white",
           "landcolor": "#E5ECF6",
           "showlakes": true,
           "showland": true,
           "subunitcolor": "white"
          },
          "hoverlabel": {
           "align": "left"
          },
          "hovermode": "closest",
          "mapbox": {
           "style": "light"
          },
          "paper_bgcolor": "white",
          "plot_bgcolor": "#E5ECF6",
          "polar": {
           "angularaxis": {
            "gridcolor": "white",
            "linecolor": "white",
            "ticks": ""
           },
           "bgcolor": "#E5ECF6",
           "radialaxis": {
            "gridcolor": "white",
            "linecolor": "white",
            "ticks": ""
           }
          },
          "scene": {
           "xaxis": {
            "backgroundcolor": "#E5ECF6",
            "gridcolor": "white",
            "gridwidth": 2,
            "linecolor": "white",
            "showbackground": true,
            "ticks": "",
            "zerolinecolor": "white"
           },
           "yaxis": {
            "backgroundcolor": "#E5ECF6",
            "gridcolor": "white",
            "gridwidth": 2,
            "linecolor": "white",
            "showbackground": true,
            "ticks": "",
            "zerolinecolor": "white"
           },
           "zaxis": {
            "backgroundcolor": "#E5ECF6",
            "gridcolor": "white",
            "gridwidth": 2,
            "linecolor": "white",
            "showbackground": true,
            "ticks": "",
            "zerolinecolor": "white"
           }
          },
          "shapedefaults": {
           "line": {
            "color": "#2a3f5f"
           }
          },
          "ternary": {
           "aaxis": {
            "gridcolor": "white",
            "linecolor": "white",
            "ticks": ""
           },
           "baxis": {
            "gridcolor": "white",
            "linecolor": "white",
            "ticks": ""
           },
           "bgcolor": "#E5ECF6",
           "caxis": {
            "gridcolor": "white",
            "linecolor": "white",
            "ticks": ""
           }
          },
          "title": {
           "x": 0.05
          },
          "xaxis": {
           "automargin": true,
           "gridcolor": "white",
           "linecolor": "white",
           "ticks": "",
           "title": {
            "standoff": 15
           },
           "zerolinecolor": "white",
           "zerolinewidth": 2
          },
          "yaxis": {
           "automargin": true,
           "gridcolor": "white",
           "linecolor": "white",
           "ticks": "",
           "title": {
            "standoff": 15
           },
           "zerolinecolor": "white",
           "zerolinewidth": 2
          }
         }
        },
        "title": {
         "text": "Employment Distribution"
        },
        "xaxis": {
         "anchor": "y",
         "domain": [
          0,
          0.45
         ]
        },
        "xaxis2": {
         "anchor": "y2",
         "domain": [
          0.55,
          1
         ]
        },
        "xaxis3": {
         "anchor": "y3",
         "domain": [
          0,
          1
         ]
        },
        "yaxis": {
         "anchor": "x",
         "domain": [
          0.625,
          1
         ]
        },
        "yaxis2": {
         "anchor": "x2",
         "domain": [
          0.625,
          1
         ]
        },
        "yaxis3": {
         "anchor": "x3",
         "domain": [
          0,
          0.375
         ]
        }
       }
      },
      "text/html": [
       "<div>                            <div id=\"18001c0b-5cc0-4922-ae12-e6acb9b8d6be\" class=\"plotly-graph-div\" style=\"height:525px; width:100%;\"></div>            <script type=\"text/javascript\">                require([\"plotly\"], function(Plotly) {                    window.PLOTLYENV=window.PLOTLYENV || {};                                    if (document.getElementById(\"18001c0b-5cc0-4922-ae12-e6acb9b8d6be\")) {                    Plotly.newPlot(                        \"18001c0b-5cc0-4922-ae12-e6acb9b8d6be\",                        [{\"histnorm\":\"probability\",\"marker\":{\"color\":\"turquoise\"},\"name\":\"Good Credit\",\"x\":[\"1<=X<4\",\">=7\",\">=7\",\">=7\",\">=7\",\">=7\",\"<1\",\"<1\",\">=7\",\"4<=X<7\",\"1<=X<4\",\"1<=X<4\",\">=7\",\"4<=X<7\",\">=7\",\"<1\",\"1<=X<4\",\">=7\",\">=7\",\">=7\",\">=7\",\">=7\",\"4<=X<7\",\">=7\",\"1<=X<4\",\"1<=X<4\",\">=7\",\"<1\",\"4<=X<7\",\"unemployed\",\"1<=X<4\",\"4<=X<7\",\"4<=X<7\",\"1<=X<4\",\">=7\",\"<1\",\"4<=X<7\",\"1<=X<4\",\"<1\",\"1<=X<4\",\"1<=X<4\",\"1<=X<4\",\">=7\",\">=7\",\"<1\",\"1<=X<4\",\"1<=X<4\",\"1<=X<4\",\">=7\",\">=7\",\"<1\",\"<1\",\"1<=X<4\",\"1<=X<4\",\">=7\",\"1<=X<4\",\"4<=X<7\",\"1<=X<4\",\">=7\",\"4<=X<7\",\">=7\",\">=7\",\"1<=X<4\",\">=7\",\">=7\",\"1<=X<4\",\"1<=X<4\",\"1<=X<4\",\">=7\",\"4<=X<7\",\"unemployed\",\"4<=X<7\",\">=7\",\"1<=X<4\",\"1<=X<4\",\">=7\",\">=7\",\">=7\",\"unemployed\",\"unemployed\",\"4<=X<7\",\">=7\",\"unemployed\",\"<1\",\">=7\",\"1<=X<4\",\">=7\",\"unemployed\",\"4<=X<7\",\"1<=X<4\",\"4<=X<7\",\">=7\",\">=7\",\"1<=X<4\",\"<1\",\"4<=X<7\",\"1<=X<4\",\"4<=X<7\",\">=7\",\"4<=X<7\",\"1<=X<4\",\">=7\",\"1<=X<4\",\"1<=X<4\",\"4<=X<7\",\"4<=X<7\",\"1<=X<4\",\"1<=X<4\",\"1<=X<4\",\"4<=X<7\",\"1<=X<4\",\">=7\",\">=7\",\">=7\",\">=7\",\"1<=X<4\",\"1<=X<4\",\"1<=X<4\",\">=7\",\"1<=X<4\",\"1<=X<4\",\"unemployed\",\"<1\",\">=7\",\"<1\",\"1<=X<4\",\"<1\",\">=7\",\">=7\",\"1<=X<4\",\"1<=X<4\",\"<1\",\"<1\",\">=7\",\">=7\",\"1<=X<4\",\"<1\",\"4<=X<7\",\"1<=X<4\",\">=7\",\"unemployed\",\"4<=X<7\",\"<1\",\"4<=X<7\",\"1<=X<4\",\"1<=X<4\",\"<1\",\">=7\",\"<1\",\">=7\",\"1<=X<4\",\"1<=X<4\",\"1<=X<4\",\"4<=X<7\",\"<1\",\"1<=X<4\",\"4<=X<7\",\">=7\",\">=7\",\"1<=X<4\",\"<1\",\">=7\",\">=7\",\"<1\",\"4<=X<7\",\">=7\",\">=7\",\"1<=X<4\",\"1<=X<4\",\">=7\",\"1<=X<4\",\"<1\",\">=7\",\"<1\",\"1<=X<4\",\"1<=X<4\",\"<1\",\"1<=X<4\",\"<1\",\"4<=X<7\",\">=7\",\">=7\",\"4<=X<7\",\"4<=X<7\",\">=7\",\">=7\",\"1<=X<4\",\"<1\",\">=7\",\"<1\",\"4<=X<7\",\"<1\",\"<1\",\">=7\",\"1<=X<4\",\"unemployed\",\"<1\",\">=7\",\"unemployed\",\"1<=X<4\",\">=7\",\"1<=X<4\",\"4<=X<7\",\"1<=X<4\",\"1<=X<4\",\"1<=X<4\",\">=7\",\"1<=X<4\",\">=7\",\"4<=X<7\",\"unemployed\",\"unemployed\",\"1<=X<4\",\">=7\",\"1<=X<4\",\"4<=X<7\",\"1<=X<4\",\"<1\",\"1<=X<4\",\"unemployed\",\"<1\",\"1<=X<4\",\"1<=X<4\",\">=7\",\"1<=X<4\",\"4<=X<7\",\"1<=X<4\",\"4<=X<7\",\"1<=X<4\",\"4<=X<7\",\"1<=X<4\",\"4<=X<7\",\"<1\",\"1<=X<4\",\"1<=X<4\",\">=7\",\">=7\",\">=7\",\"4<=X<7\",\"<1\",\">=7\",\"1<=X<4\",\"1<=X<4\",\"<1\",\"4<=X<7\",\"1<=X<4\",\"1<=X<4\",\"unemployed\",\">=7\",\"1<=X<4\",\"1<=X<4\",\"1<=X<4\",\"1<=X<4\",\"1<=X<4\",\"1<=X<4\",\">=7\",\"4<=X<7\",\"unemployed\",\"unemployed\",\">=7\",\"1<=X<4\",\"<1\",\"1<=X<4\",\"4<=X<7\",\"<1\",\"1<=X<4\",\"<1\",\"4<=X<7\",\"1<=X<4\",\"<1\",\"4<=X<7\",\">=7\",\">=7\",\">=7\",\">=7\",\"1<=X<4\",\"1<=X<4\",\"4<=X<7\",\"1<=X<4\",\"1<=X<4\",\"1<=X<4\",\"1<=X<4\",\"<1\",\"4<=X<7\",\">=7\",\"1<=X<4\",\"1<=X<4\",\"4<=X<7\",\"1<=X<4\",\"<1\",\">=7\",\"<1\",\"1<=X<4\",\"4<=X<7\",\"1<=X<4\",\"1<=X<4\",\"<1\",\"<1\",\"4<=X<7\",\">=7\",\"4<=X<7\",\"4<=X<7\",\"4<=X<7\",\"1<=X<4\",\"4<=X<7\",\"<1\",\"<1\",\"4<=X<7\",\">=7\",\"1<=X<4\",\"<1\",\"1<=X<4\",\">=7\",\">=7\",\"1<=X<4\",\"<1\",\"4<=X<7\",\"4<=X<7\",\"unemployed\",\"1<=X<4\",\"1<=X<4\",\"1<=X<4\",\">=7\",\">=7\",\">=7\",\">=7\",\">=7\",\">=7\",\"4<=X<7\",\"4<=X<7\",\">=7\",\"1<=X<4\",\"1<=X<4\",\"4<=X<7\",\"1<=X<4\",\"1<=X<4\",\"4<=X<7\",\"4<=X<7\",\"1<=X<4\",\"4<=X<7\",\"<1\",\"4<=X<7\",\"<1\",\"4<=X<7\",\"4<=X<7\",\">=7\",\">=7\",\"<1\",\"1<=X<4\",\"4<=X<7\",\">=7\",\"unemployed\",\"4<=X<7\",\">=7\",\"1<=X<4\",\"<1\",\"1<=X<4\",\"1<=X<4\",\"1<=X<4\",\"<1\",\"<1\",\"4<=X<7\",\"4<=X<7\",\"1<=X<4\",\"4<=X<7\",\">=7\",\"1<=X<4\",\"4<=X<7\",\"4<=X<7\",\"1<=X<4\",\"1<=X<4\",\"unemployed\",\"1<=X<4\",\"unemployed\",\"unemployed\",\"<1\",\">=7\",\"<1\",\"4<=X<7\",\"4<=X<7\",\"1<=X<4\",\">=7\",\"1<=X<4\",\">=7\",\"4<=X<7\",\"1<=X<4\",\"1<=X<4\",\">=7\",\">=7\",\">=7\",\"1<=X<4\",\"1<=X<4\",\">=7\",\">=7\",\"4<=X<7\",\">=7\",\"1<=X<4\",\"4<=X<7\",\"4<=X<7\",\">=7\",\"unemployed\",\"1<=X<4\",\"unemployed\",\">=7\",\"4<=X<7\",\"<1\",\">=7\",\"4<=X<7\",\">=7\",\">=7\",\">=7\",\">=7\",\"1<=X<4\",\"<1\",\"1<=X<4\",\">=7\",\"4<=X<7\",\">=7\",\"4<=X<7\",\"4<=X<7\",\"1<=X<4\",\"<1\",\"<1\",\">=7\",\"1<=X<4\",\"1<=X<4\",\"<1\",\"<1\",\"4<=X<7\",\"4<=X<7\",\"4<=X<7\",\"4<=X<7\",\"4<=X<7\",\"1<=X<4\",\"<1\",\">=7\",\"1<=X<4\",\"unemployed\",\"4<=X<7\",\"1<=X<4\",\"4<=X<7\",\"<1\",\">=7\",\"4<=X<7\",\"1<=X<4\",\">=7\",\"1<=X<4\",\"<1\",\">=7\",\"1<=X<4\",\">=7\",\"<1\",\"1<=X<4\",\"1<=X<4\",\">=7\",\">=7\",\">=7\",\"1<=X<4\",\"<1\",\">=7\",\"unemployed\",\"<1\",\"<1\",\"4<=X<7\",\"1<=X<4\",\"4<=X<7\",\"4<=X<7\",\">=7\",\"unemployed\",\">=7\",\">=7\",\"1<=X<4\",\"4<=X<7\",\">=7\",\"1<=X<4\",\"4<=X<7\",\"<1\",\"1<=X<4\",\"4<=X<7\",\"<1\",\"1<=X<4\",\"1<=X<4\",\"4<=X<7\",\"unemployed\",\"1<=X<4\",\"1<=X<4\",\"1<=X<4\",\"1<=X<4\",\"1<=X<4\",\"<1\",\"<1\",\"1<=X<4\",\">=7\",\"4<=X<7\",\">=7\",\"<1\",\"1<=X<4\",\"1<=X<4\",\">=7\",\"1<=X<4\",\"1<=X<4\",\"1<=X<4\",\"1<=X<4\",\"4<=X<7\",\"1<=X<4\",\"4<=X<7\",\"4<=X<7\",\"1<=X<4\",\">=7\",\"unemployed\",\"<1\",\">=7\",\">=7\",\"1<=X<4\",\">=7\",\">=7\",\"4<=X<7\",\"1<=X<4\",\">=7\",\"1<=X<4\",\"4<=X<7\",\">=7\",\"1<=X<4\",\"4<=X<7\",\"<1\",\"1<=X<4\",\"1<=X<4\",\">=7\",\">=7\",\"1<=X<4\",\"4<=X<7\",\">=7\",\">=7\",\"<1\",\"1<=X<4\",\">=7\",\"<1\",\"1<=X<4\",\"1<=X<4\",\"1<=X<4\",\"<1\",\">=7\",\">=7\",\"4<=X<7\",\"<1\",\"unemployed\",\"4<=X<7\",\"<1\",\"4<=X<7\",\"unemployed\",\"4<=X<7\",\">=7\",\">=7\",\"<1\",\"4<=X<7\",\">=7\",\"<1\",\">=7\",\">=7\",\">=7\",\"1<=X<4\",\">=7\",\">=7\",\">=7\",\"4<=X<7\",\"1<=X<4\",\">=7\",\"<1\",\"1<=X<4\",\">=7\",\"<1\",\"1<=X<4\",\"1<=X<4\",\">=7\",\"4<=X<7\",\">=7\",\"1<=X<4\",\"1<=X<4\",\"1<=X<4\",\"unemployed\",\"1<=X<4\",\"4<=X<7\",\"<1\",\"1<=X<4\",\"unemployed\",\"4<=X<7\",\"4<=X<7\",\">=7\",\"1<=X<4\",\"1<=X<4\",\"<1\",\"4<=X<7\",\">=7\",\"1<=X<4\",\"<1\",\"4<=X<7\",\">=7\",\">=7\",\"unemployed\",\"<1\",\"1<=X<4\",\"4<=X<7\",\"4<=X<7\",\"<1\",\">=7\",\"1<=X<4\",\"4<=X<7\",\">=7\",\"1<=X<4\",\"4<=X<7\",\">=7\",\"1<=X<4\",\"4<=X<7\",\">=7\",\"1<=X<4\",\">=7\",\"1<=X<4\",\"1<=X<4\",\"1<=X<4\",\"1<=X<4\",\"1<=X<4\",\">=7\",\"4<=X<7\",\"4<=X<7\",\">=7\",\"1<=X<4\",\"4<=X<7\",\"<1\",\"1<=X<4\",\"unemployed\",\"1<=X<4\",\"<1\",\"<1\",\"1<=X<4\",\"1<=X<4\",\"unemployed\",\">=7\",\"<1\",\"1<=X<4\",\"1<=X<4\",\"4<=X<7\",\"4<=X<7\",\"1<=X<4\",\"1<=X<4\",\"<1\",\"unemployed\",\">=7\",\"unemployed\",\">=7\",\"1<=X<4\",\"1<=X<4\",\"1<=X<4\",\">=7\",\"4<=X<7\",\"1<=X<4\",\"1<=X<4\",\"4<=X<7\",\">=7\",\"<1\",\"unemployed\",\"1<=X<4\",\">=7\",\">=7\",\"4<=X<7\",\">=7\",\"1<=X<4\",\"1<=X<4\",\"<1\",\"4<=X<7\",\"<1\",\"4<=X<7\",\">=7\",\"1<=X<4\",\">=7\",\"1<=X<4\",\"1<=X<4\",\">=7\",\"4<=X<7\",\"1<=X<4\",\"1<=X<4\",\"4<=X<7\",\">=7\",\"<1\",\"<1\",\"1<=X<4\",\"1<=X<4\",\"4<=X<7\",\">=7\",\">=7\",\"unemployed\",\"1<=X<4\",\"1<=X<4\",\"1<=X<4\",\">=7\",\">=7\",\"1<=X<4\",\"1<=X<4\",\"1<=X<4\",\"1<=X<4\",\"1<=X<4\"],\"xaxis\":\"x\",\"yaxis\":\"y\",\"type\":\"histogram\"},{\"histnorm\":\"probability\",\"marker\":{\"color\":\"#FF4365\"},\"name\":\"Bad Credit\",\"x\":[\"1<=X<4\",\"1<=X<4\",\"1<=X<4\",\"<1\",\"1<=X<4\",\"<1\",\"1<=X<4\",\"1<=X<4\",\"1<=X<4\",\">=7\",\"4<=X<7\",\"1<=X<4\",\"4<=X<7\",\"1<=X<4\",\"<1\",\"1<=X<4\",\"4<=X<7\",\">=7\",\"1<=X<4\",\"<1\",\"1<=X<4\",\">=7\",\">=7\",\">=7\",\">=7\",\"1<=X<4\",\"4<=X<7\",\">=7\",\"1<=X<4\",\"1<=X<4\",\"4<=X<7\",\"1<=X<4\",\"<1\",\"unemployed\",\"<1\",\"1<=X<4\",\"1<=X<4\",\"<1\",\">=7\",\"<1\",\"<1\",\"1<=X<4\",\"<1\",\"1<=X<4\",\"1<=X<4\",\">=7\",\"1<=X<4\",\"1<=X<4\",\"1<=X<4\",\"<1\",\"unemployed\",\"4<=X<7\",\"1<=X<4\",\"<1\",\"1<=X<4\",\"4<=X<7\",\"1<=X<4\",\"1<=X<4\",\">=7\",\">=7\",\"4<=X<7\",\"4<=X<7\",\"1<=X<4\",\"unemployed\",\"1<=X<4\",\"4<=X<7\",\"<1\",\"<1\",\"unemployed\",\"4<=X<7\",\"1<=X<4\",\"unemployed\",\">=7\",\"4<=X<7\",\"<1\",\">=7\",\"unemployed\",\"4<=X<7\",\"1<=X<4\",\"1<=X<4\",\"1<=X<4\",\">=7\",\"4<=X<7\",\"1<=X<4\",\">=7\",\">=7\",\"<1\",\">=7\",\"unemployed\",\"unemployed\",\"<1\",\"<1\",\"<1\",\"unemployed\",\"1<=X<4\",\"4<=X<7\",\"unemployed\",\"4<=X<7\",\"<1\",\"1<=X<4\",\"<1\",\">=7\",\"<1\",\">=7\",\"4<=X<7\",\">=7\",\">=7\",\"1<=X<4\",\"1<=X<4\",\"1<=X<4\",\">=7\",\">=7\",\"1<=X<4\",\"1<=X<4\",\"<1\",\"1<=X<4\",\"1<=X<4\",\"<1\",\"4<=X<7\",\"<1\",\"1<=X<4\",\"<1\",\">=7\",\"<1\",\"1<=X<4\",\"1<=X<4\",\"<1\",\"1<=X<4\",\"1<=X<4\",\"1<=X<4\",\">=7\",\"1<=X<4\",\">=7\",\"<1\",\"4<=X<7\",\"<1\",\"<1\",\"1<=X<4\",\"1<=X<4\",\"<1\",\"1<=X<4\",\"<1\",\">=7\",\">=7\",\"1<=X<4\",\"<1\",\"unemployed\",\"unemployed\",\">=7\",\"4<=X<7\",\"1<=X<4\",\"1<=X<4\",\"1<=X<4\",\">=7\",\"1<=X<4\",\">=7\",\"<1\",\"unemployed\",\"1<=X<4\",\"1<=X<4\",\"4<=X<7\",\">=7\",\"<1\",\"1<=X<4\",\"1<=X<4\",\">=7\",\"<1\",\">=7\",\"unemployed\",\">=7\",\"1<=X<4\",\">=7\",\"1<=X<4\",\"1<=X<4\",\"<1\",\">=7\",\"<1\",\"<1\",\"<1\",\"1<=X<4\",\"<1\",\"<1\",\">=7\",\"<1\",\"1<=X<4\",\"<1\",\"1<=X<4\",\"unemployed\",\"1<=X<4\",\"<1\",\"4<=X<7\",\"<1\",\"1<=X<4\",\"<1\",\"1<=X<4\",\"1<=X<4\",\"<1\",\"1<=X<4\",\">=7\",\"4<=X<7\",\"1<=X<4\",\"unemployed\",\"unemployed\",\">=7\",\">=7\",\"4<=X<7\",\">=7\",\"4<=X<7\",\"unemployed\",\"unemployed\",\"4<=X<7\",\">=7\",\"1<=X<4\",\"4<=X<7\",\"4<=X<7\",\"1<=X<4\",\">=7\",\"4<=X<7\",\"1<=X<4\",\"<1\",\"1<=X<4\",\">=7\",\">=7\",\"1<=X<4\",\"4<=X<7\",\"1<=X<4\",\">=7\",\"1<=X<4\",\">=7\",\">=7\",\"1<=X<4\",\"<1\",\"1<=X<4\",\"1<=X<4\",\"1<=X<4\",\">=7\",\">=7\",\"1<=X<4\",\"1<=X<4\",\"<1\",\"<1\",\">=7\",\"4<=X<7\",\"<1\",\"1<=X<4\",\"1<=X<4\",\"4<=X<7\",\"1<=X<4\",\"4<=X<7\",\">=7\",\"<1\",\"<1\",\"<1\",\"1<=X<4\",\"<1\",\"1<=X<4\",\">=7\",\">=7\",\"4<=X<7\",\">=7\",\"1<=X<4\",\"1<=X<4\",\">=7\",\"1<=X<4\",\"<1\",\"4<=X<7\",\"1<=X<4\",\"4<=X<7\",\"unemployed\",\"<1\",\">=7\",\"<1\",\">=7\",\"unemployed\",\">=7\",\"4<=X<7\",\"<1\",\"<1\",\"<1\",\"1<=X<4\",\">=7\",\"4<=X<7\",\">=7\",\"1<=X<4\",\"<1\",\"1<=X<4\",\"unemployed\",\"<1\",\"1<=X<4\",\"1<=X<4\",\"1<=X<4\",\">=7\",\"unemployed\",\">=7\",\"<1\",\"<1\",\"<1\",\"1<=X<4\",\"<1\",\"4<=X<7\"],\"xaxis\":\"x2\",\"yaxis\":\"y2\",\"type\":\"histogram\"},{\"histnorm\":\"probability\",\"marker\":{\"color\":\"darkblue\"},\"name\":\"Overall Age\",\"x\":[\"1<=X<4\",\"1<=X<4\",\"1<=X<4\",\">=7\",\">=7\",\">=7\",\">=7\",\">=7\",\"<1\",\"<1\",\">=7\",\"4<=X<7\",\"1<=X<4\",\"1<=X<4\",\">=7\",\"1<=X<4\",\"4<=X<7\",\"<1\",\"1<=X<4\",\">=7\",\"<1\",\"1<=X<4\",\"1<=X<4\",\"<1\",\"1<=X<4\",\">=7\",\">=7\",\">=7\",\">=7\",\">=7\",\"1<=X<4\",\"4<=X<7\",\">=7\",\"1<=X<4\",\"1<=X<4\",\">=7\",\">=7\",\"<1\",\"4<=X<7\",\"unemployed\",\"4<=X<7\",\"1<=X<4\",\"1<=X<4\",\"4<=X<7\",\"4<=X<7\",\"1<=X<4\",\">=7\",\"<1\",\"4<=X<7\",\"4<=X<7\",\"1<=X<4\",\"1<=X<4\",\"<1\",\"<1\",\"1<=X<4\",\"1<=X<4\",\"1<=X<4\",\"1<=X<4\",\"4<=X<7\",\">=7\",\">=7\",\"1<=X<4\",\"<1\",\"1<=X<4\",\">=7\",\">=7\",\"<1\",\">=7\",\"1<=X<4\",\"1<=X<4\",\"1<=X<4\",\">=7\",\">=7\",\">=7\",\"<1\",\"<1\",\"1<=X<4\",\"1<=X<4\",\">=7\",\">=7\",\"1<=X<4\",\"4<=X<7\",\"1<=X<4\",\">=7\",\"4<=X<7\",\"1<=X<4\",\"4<=X<7\",\">=7\",\">=7\",\"1<=X<4\",\">=7\",\">=7\",\">=7\",\"1<=X<4\",\"1<=X<4\",\"1<=X<4\",\"1<=X<4\",\"1<=X<4\",\"4<=X<7\",\">=7\",\"4<=X<7\",\"unemployed\",\"1<=X<4\",\"4<=X<7\",\"<1\",\">=7\",\"1<=X<4\",\"1<=X<4\",\"unemployed\",\"<1\",\"1<=X<4\",\">=7\",\">=7\",\">=7\",\"unemployed\",\"1<=X<4\",\"unemployed\",\"4<=X<7\",\"<1\",\">=7\",\"<1\",\">=7\",\"<1\",\"unemployed\",\"<1\",\"1<=X<4\",\">=7\",\"1<=X<4\",\">=7\",\"unemployed\",\"<1\",\"4<=X<7\",\"1<=X<4\",\"4<=X<7\",\">=7\",\">=7\",\"1<=X<4\",\"1<=X<4\",\"1<=X<4\",\">=7\",\"<1\",\"1<=X<4\",\"1<=X<4\",\"4<=X<7\",\"1<=X<4\",\"4<=X<7\",\">=7\",\"1<=X<4\",\"<1\",\"4<=X<7\",\"1<=X<4\",\">=7\",\"1<=X<4\",\"1<=X<4\",\"4<=X<7\",\"4<=X<7\",\"1<=X<4\",\"1<=X<4\",\"unemployed\",\"1<=X<4\",\"4<=X<7\",\"1<=X<4\",\">=7\",\">=7\",\">=7\",\"4<=X<7\",\">=7\",\"1<=X<4\",\"1<=X<4\",\"1<=X<4\",\"1<=X<4\",\">=7\",\"<1\",\"1<=X<4\",\"1<=X<4\",\"unemployed\",\"<1\",\"1<=X<4\",\">=7\",\"<1\",\"1<=X<4\",\"4<=X<7\",\"1<=X<4\",\"1<=X<4\",\">=7\",\"<1\",\">=7\",\">=7\",\"1<=X<4\",\"1<=X<4\",\"<1\",\"<1\",\">=7\",\"4<=X<7\",\">=7\",\"4<=X<7\",\">=7\",\"1<=X<4\",\"<1\",\"4<=X<7\",\"1<=X<4\",\">=7\",\"unemployed\",\"4<=X<7\",\"1<=X<4\",\"<1\",\"4<=X<7\",\"1<=X<4\",\"1<=X<4\",\"<1\",\"unemployed\",\">=7\",\"<1\",\">=7\",\"1<=X<4\",\"1<=X<4\",\"1<=X<4\",\"1<=X<4\",\"4<=X<7\",\"4<=X<7\",\"<1\",\"<1\",\"<1\",\"1<=X<4\",\"4<=X<7\",\">=7\",\">=7\",\"1<=X<4\",\"unemployed\",\"4<=X<7\",\"1<=X<4\",\"<1\",\">=7\",\"unemployed\",\">=7\",\"<1\",\"4<=X<7\",\">=7\",\"4<=X<7\",\">=7\",\">=7\",\"1<=X<4\",\"1<=X<4\",\">=7\",\"1<=X<4\",\"<1\",\">=7\",\"<1\",\"1<=X<4\",\"<1\",\"1<=X<4\",\"<1\",\">=7\",\"unemployed\",\"4<=X<7\",\"1<=X<4\",\"<1\",\"4<=X<7\",\">=7\",\">=7\",\"4<=X<7\",\"1<=X<4\",\"4<=X<7\",\"1<=X<4\",\">=7\",\">=7\",\"1<=X<4\",\"1<=X<4\",\"<1\",\">=7\",\">=7\",\"4<=X<7\",\"<1\",\"1<=X<4\",\"4<=X<7\",\"<1\",\">=7\",\"<1\",\">=7\",\"1<=X<4\",\"unemployed\",\"<1\",\">=7\",\">=7\",\"<1\",\"unemployed\",\"1<=X<4\",\">=7\",\">=7\",\"1<=X<4\",\"4<=X<7\",\"1<=X<4\",\"1<=X<4\",\"1<=X<4\",\">=7\",\"1<=X<4\",\">=7\",\"4<=X<7\",\"unemployed\",\"unemployed\",\"unemployed\",\"1<=X<4\",\">=7\",\"unemployed\",\"1<=X<4\",\"<1\",\"4<=X<7\",\"<1\",\"1<=X<4\",\"<1\",\"1<=X<4\",\"<1\",\"unemployed\",\"<1\",\"unemployed\",\"1<=X<4\",\"1<=X<4\",\">=7\",\"1<=X<4\",\"4<=X<7\",\"1<=X<4\",\"1<=X<4\",\"4<=X<7\",\"1<=X<4\",\"4<=X<7\",\"1<=X<4\",\"4<=X<7\",\"<1\",\"4<=X<7\",\"unemployed\",\"4<=X<7\",\"<1\",\"1<=X<4\",\"1<=X<4\",\">=7\",\">=7\",\"1<=X<4\",\">=7\",\"4<=X<7\",\"<1\",\">=7\",\"<1\",\"1<=X<4\",\"1<=X<4\",\"<1\",\"4<=X<7\",\">=7\",\"1<=X<4\",\"<1\",\"1<=X<4\",\"unemployed\",\">=7\",\"1<=X<4\",\">=7\",\"1<=X<4\",\"1<=X<4\",\"1<=X<4\",\"4<=X<7\",\"1<=X<4\",\">=7\",\">=7\",\"1<=X<4\",\"1<=X<4\",\">=7\",\"1<=X<4\",\"4<=X<7\",\"1<=X<4\",\"unemployed\",\">=7\",\">=7\",\"unemployed\",\">=7\",\"1<=X<4\",\"<1\",\"1<=X<4\",\"1<=X<4\",\"4<=X<7\",\"<1\",\"1<=X<4\",\"1<=X<4\",\"<1\",\"<1\",\"4<=X<7\",\"1<=X<4\",\"<1\",\"4<=X<7\",\">=7\",\">=7\",\">=7\",\">=7\",\"1<=X<4\",\"1<=X<4\",\"1<=X<4\",\"4<=X<7\",\"1<=X<4\",\"1<=X<4\",\"1<=X<4\",\"1<=X<4\",\"1<=X<4\",\"<1\",\"4<=X<7\",\">=7\",\"<1\",\"1<=X<4\",\"4<=X<7\",\"1<=X<4\",\"4<=X<7\",\"<1\",\"1<=X<4\",\"<1\",\"1<=X<4\",\"<1\",\">=7\",\"<1\",\"1<=X<4\",\"4<=X<7\",\">=7\",\"1<=X<4\",\"1<=X<4\",\"<1\",\"<1\",\"<1\",\"4<=X<7\",\">=7\",\"4<=X<7\",\"4<=X<7\",\"4<=X<7\",\"1<=X<4\",\"1<=X<4\",\"1<=X<4\",\"4<=X<7\",\"<1\",\"<1\",\"<1\",\"1<=X<4\",\"4<=X<7\",\"1<=X<4\",\">=7\",\"1<=X<4\",\"<1\",\"1<=X<4\",\">=7\",\"1<=X<4\",\">=7\",\"1<=X<4\",\"<1\",\">=7\",\"4<=X<7\",\"4<=X<7\",\"1<=X<4\",\"unemployed\",\"1<=X<4\",\"1<=X<4\",\"1<=X<4\",\">=7\",\">=7\",\">=7\",\">=7\",\">=7\",\"<1\",\"4<=X<7\",\">=7\",\">=7\",\"4<=X<7\",\"4<=X<7\",\"<1\",\">=7\",\"1<=X<4\",\"1<=X<4\",\"4<=X<7\",\"1<=X<4\",\"<1\",\"1<=X<4\",\"4<=X<7\",\"4<=X<7\",\"1<=X<4\",\"1<=X<4\",\"4<=X<7\",\"<1\",\"4<=X<7\",\"1<=X<4\",\"<1\",\"4<=X<7\",\"4<=X<7\",\"<1\",\">=7\",\">=7\",\"<1\",\"1<=X<4\",\"4<=X<7\",\"1<=X<4\",\">=7\",\"unemployed\",\"4<=X<7\",\">=7\",\"1<=X<4\",\"<1\",\"1<=X<4\",\"1<=X<4\",\"<1\",\"1<=X<4\",\"<1\",\"<1\",\"4<=X<7\",\">=7\",\">=7\",\"4<=X<7\",\"1<=X<4\",\"1<=X<4\",\"4<=X<7\",\"<1\",\"unemployed\",\">=7\",\"1<=X<4\",\"4<=X<7\",\"4<=X<7\",\"1<=X<4\",\"unemployed\",\">=7\",\"1<=X<4\",\"unemployed\",\"1<=X<4\",\"4<=X<7\",\"unemployed\",\"unemployed\",\"<1\",\">=7\",\"<1\",\"1<=X<4\",\"4<=X<7\",\"4<=X<7\",\"1<=X<4\",\"1<=X<4\",\">=7\",\"1<=X<4\",\">=7\",\"1<=X<4\",\"4<=X<7\",\"1<=X<4\",\"1<=X<4\",\">=7\",\">=7\",\"1<=X<4\",\">=7\",\">=7\",\">=7\",\"<1\",\"unemployed\",\"1<=X<4\",\"1<=X<4\",\"1<=X<4\",\">=7\",\">=7\",\"4<=X<7\",\"1<=X<4\",\"4<=X<7\",\">=7\",\"1<=X<4\",\"4<=X<7\",\">=7\",\"4<=X<7\",\">=7\",\"unemployed\",\"<1\",\"1<=X<4\",\"unemployed\",\"1<=X<4\",\"1<=X<4\",\">=7\",\">=7\",\"<1\",\"4<=X<7\",\"<1\",\">=7\",\">=7\",\"4<=X<7\",\">=7\",\"unemployed\",\">=7\",\">=7\",\">=7\",\">=7\",\"1<=X<4\",\"<1\",\"1<=X<4\",\">=7\",\"1<=X<4\",\"4<=X<7\",\">=7\",\"4<=X<7\",\"4<=X<7\",\"1<=X<4\",\">=7\",\"1<=X<4\",\"<1\",\"<1\",\">=7\",\"1<=X<4\",\"1<=X<4\",\"1<=X<4\",\"<1\",\"<1\",\"4<=X<7\",\"<1\",\"4<=X<7\",\">=7\",\"<1\",\"4<=X<7\",\"4<=X<7\",\"4<=X<7\",\"<1\",\"1<=X<4\",\"<1\",\">=7\",\"1<=X<4\",\"unemployed\",\"<1\",\"4<=X<7\",\"1<=X<4\",\"1<=X<4\",\"4<=X<7\",\"<1\",\"<1\",\">=7\",\"4<=X<7\",\"<1\",\"1<=X<4\",\">=7\",\"1<=X<4\",\">=7\",\"<1\",\">=7\",\"1<=X<4\",\">=7\",\"<1\",\"<1\",\"1<=X<4\",\"1<=X<4\",\">=7\",\"1<=X<4\",\">=7\",\">=7\",\"1<=X<4\",\"<1\",\">=7\",\"unemployed\",\"<1\",\"<1\",\"4<=X<7\",\"1<=X<4\",\"4<=X<7\",\"4<=X<7\",\">=7\",\"<1\",\"1<=X<4\",\"unemployed\",\">=7\",\"unemployed\",\">=7\",\"1<=X<4\",\"4<=X<7\",\"1<=X<4\",\">=7\",\"1<=X<4\",\"<1\",\"4<=X<7\",\"<1\",\"1<=X<4\",\"4<=X<7\",\"<1\",\"4<=X<7\",\"<1\",\"1<=X<4\",\"<1\",\"1<=X<4\",\"1<=X<4\",\"4<=X<7\",\"unemployed\",\"1<=X<4\",\"1<=X<4\",\"1<=X<4\",\"1<=X<4\",\"1<=X<4\",\"1<=X<4\",\"<1\",\"1<=X<4\",\"<1\",\"<1\",\"1<=X<4\",\"1<=X<4\",\">=7\",\">=7\",\"4<=X<7\",\">=7\",\"<1\",\"1<=X<4\",\"4<=X<7\",\"1<=X<4\",\"unemployed\",\"1<=X<4\",\">=7\",\"1<=X<4\",\"1<=X<4\",\"1<=X<4\",\"unemployed\",\">=7\",\"1<=X<4\",\">=7\",\"4<=X<7\",\"1<=X<4\",\"4<=X<7\",\"4<=X<7\",\"4<=X<7\",\"1<=X<4\",\">=7\",\"unemployed\",\"<1\",\">=7\",\">=7\",\"1<=X<4\",\">=7\",\">=7\",\"4<=X<7\",\">=7\",\"4<=X<7\",\"unemployed\",\"1<=X<4\",\"unemployed\",\">=7\",\"1<=X<4\",\"4<=X<7\",\">=7\",\"4<=X<7\",\"1<=X<4\",\"4<=X<7\",\">=7\",\"1<=X<4\",\"4<=X<7\",\"<1\",\"1<=X<4\",\"4<=X<7\",\"1<=X<4\",\"1<=X<4\",\">=7\",\">=7\",\">=7\",\"4<=X<7\",\"1<=X<4\",\"4<=X<7\",\">=7\",\"1<=X<4\",\">=7\",\"<1\",\"1<=X<4\",\">=7\",\"<1\",\"1<=X<4\",\"<1\",\">=7\",\">=7\",\"1<=X<4\",\"1<=X<4\",\"1<=X<4\",\"1<=X<4\",\"<1\",\">=7\",\"4<=X<7\",\">=7\",\"4<=X<7\",\"1<=X<4\",\"<1\",\"unemployed\",\"4<=X<7\",\">=7\",\"1<=X<4\",\">=7\",\"<1\",\"4<=X<7\",\"unemployed\",\"4<=X<7\",\">=7\",\">=7\",\"<1\",\"4<=X<7\",\">=7\",\">=7\",\"<1\",\">=7\",\"1<=X<4\",\">=7\",\">=7\",\"1<=X<4\",\"<1\",\">=7\",\"1<=X<4\",\">=7\",\">=7\",\"4<=X<7\",\"1<=X<4\",\"1<=X<4\",\">=7\",\"1<=X<4\",\"<1\",\"1<=X<4\",\">=7\",\">=7\",\">=7\",\"<1\",\"1<=X<4\",\"1<=X<4\",\"1<=X<4\",\">=7\",\"4<=X<7\",\"1<=X<4\",\">=7\",\"<1\",\"1<=X<4\",\"<1\",\"1<=X<4\",\">=7\",\"4<=X<7\",\"1<=X<4\",\"unemployed\",\"1<=X<4\",\"4<=X<7\",\"<1\",\"1<=X<4\",\"unemployed\",\"4<=X<7\",\"4<=X<7\",\">=7\",\"1<=X<4\",\"1<=X<4\",\"<1\",\"4<=X<7\",\">=7\",\"1<=X<4\",\"<1\",\"<1\",\"1<=X<4\",\"1<=X<4\",\"4<=X<7\",\"4<=X<7\",\"1<=X<4\",\">=7\",\">=7\",\"unemployed\",\"<1\",\"1<=X<4\",\"4<=X<7\",\"4<=X<7\",\"4<=X<7\",\"<1\",\">=7\",\"1<=X<4\",\"4<=X<7\",\">=7\",\">=7\",\"1<=X<4\",\"4<=X<7\",\"<1\",\">=7\",\"1<=X<4\",\"<1\",\"4<=X<7\",\">=7\",\"<1\",\"1<=X<4\",\">=7\",\"1<=X<4\",\"1<=X<4\",\"1<=X<4\",\"1<=X<4\",\"1<=X<4\",\"1<=X<4\",\">=7\",\"4<=X<7\",\"4<=X<7\",\">=7\",\"<1\",\"1<=X<4\",\"4<=X<7\",\"1<=X<4\",\">=7\",\"<1\",\">=7\",\"1<=X<4\",\"unemployed\",\"1<=X<4\",\"<1\",\"<1\",\"1<=X<4\",\"1<=X<4\",\"unemployed\",\"4<=X<7\",\">=7\",\"<1\",\"1<=X<4\",\">=7\",\"1<=X<4\",\"1<=X<4\",\"1<=X<4\",\">=7\",\"1<=X<4\",\"4<=X<7\",\"<1\",\"4<=X<7\",\"1<=X<4\",\"4<=X<7\",\"4<=X<7\",\"unemployed\",\"1<=X<4\",\"<1\",\"1<=X<4\",\">=7\",\"<1\",\"<1\",\">=7\",\"unemployed\",\">=7\",\"unemployed\",\">=7\",\"unemployed\",\"1<=X<4\",\"1<=X<4\",\"1<=X<4\",\">=7\",\"4<=X<7\",\"1<=X<4\",\"1<=X<4\",\"4<=X<7\",\">=7\",\"4<=X<7\",\">=7\",\"<1\",\"unemployed\",\"1<=X<4\",\"<1\",\"<1\",\">=7\",\">=7\",\"4<=X<7\",\">=7\",\"<1\",\"1<=X<4\",\"1<=X<4\",\"1<=X<4\",\">=7\",\"<1\",\"4<=X<7\",\"<1\",\"4<=X<7\",\"4<=X<7\",\">=7\",\"1<=X<4\",\">=7\",\"1<=X<4\",\">=7\",\"1<=X<4\",\">=7\",\"4<=X<7\",\"1<=X<4\",\"1<=X<4\",\"<1\",\"1<=X<4\",\"4<=X<7\",\">=7\",\"<1\",\"<1\",\"1<=X<4\",\"1<=X<4\",\"unemployed\",\"1<=X<4\",\"<1\",\"4<=X<7\",\"1<=X<4\",\"1<=X<4\",\"1<=X<4\",\">=7\",\">=7\",\"unemployed\",\"1<=X<4\",\"1<=X<4\",\">=7\",\"1<=X<4\",\"unemployed\",\">=7\",\">=7\",\"1<=X<4\",\"1<=X<4\",\">=7\",\"<1\",\"1<=X<4\",\"<1\",\"<1\",\"1<=X<4\",\"1<=X<4\",\"<1\",\"1<=X<4\",\"4<=X<7\"],\"xaxis\":\"x3\",\"yaxis\":\"y3\",\"type\":\"histogram\"}],                        {\"annotations\":[{\"font\":{\"size\":16},\"showarrow\":false,\"text\":\"Good\",\"x\":0.225,\"xanchor\":\"center\",\"xref\":\"paper\",\"y\":1.0,\"yanchor\":\"bottom\",\"yref\":\"paper\"},{\"font\":{\"size\":16},\"showarrow\":false,\"text\":\"Bad\",\"x\":0.775,\"xanchor\":\"center\",\"xref\":\"paper\",\"y\":1.0,\"yanchor\":\"bottom\",\"yref\":\"paper\"},{\"font\":{\"size\":16},\"showarrow\":false,\"text\":\"General Distribution\",\"x\":0.5,\"xanchor\":\"center\",\"xref\":\"paper\",\"y\":0.375,\"yanchor\":\"bottom\",\"yref\":\"paper\"}],\"bargap\":0.04,\"showlegend\":true,\"template\":{\"data\":{\"barpolar\":[{\"marker\":{\"line\":{\"color\":\"#E5ECF6\",\"width\":0.5},\"pattern\":{\"fillmode\":\"overlay\",\"size\":10,\"solidity\":0.2}},\"type\":\"barpolar\"}],\"bar\":[{\"error_x\":{\"color\":\"#2a3f5f\"},\"error_y\":{\"color\":\"#2a3f5f\"},\"marker\":{\"line\":{\"color\":\"#E5ECF6\",\"width\":0.5},\"pattern\":{\"fillmode\":\"overlay\",\"size\":10,\"solidity\":0.2}},\"type\":\"bar\"}],\"carpet\":[{\"aaxis\":{\"endlinecolor\":\"#2a3f5f\",\"gridcolor\":\"white\",\"linecolor\":\"white\",\"minorgridcolor\":\"white\",\"startlinecolor\":\"#2a3f5f\"},\"baxis\":{\"endlinecolor\":\"#2a3f5f\",\"gridcolor\":\"white\",\"linecolor\":\"white\",\"minorgridcolor\":\"white\",\"startlinecolor\":\"#2a3f5f\"},\"type\":\"carpet\"}],\"choropleth\":[{\"colorbar\":{\"outlinewidth\":0,\"ticks\":\"\"},\"type\":\"choropleth\"}],\"contourcarpet\":[{\"colorbar\":{\"outlinewidth\":0,\"ticks\":\"\"},\"type\":\"contourcarpet\"}],\"contour\":[{\"colorbar\":{\"outlinewidth\":0,\"ticks\":\"\"},\"colorscale\":[[0.0,\"#0d0887\"],[0.1111111111111111,\"#46039f\"],[0.2222222222222222,\"#7201a8\"],[0.3333333333333333,\"#9c179e\"],[0.4444444444444444,\"#bd3786\"],[0.5555555555555556,\"#d8576b\"],[0.6666666666666666,\"#ed7953\"],[0.7777777777777778,\"#fb9f3a\"],[0.8888888888888888,\"#fdca26\"],[1.0,\"#f0f921\"]],\"type\":\"contour\"}],\"heatmapgl\":[{\"colorbar\":{\"outlinewidth\":0,\"ticks\":\"\"},\"colorscale\":[[0.0,\"#0d0887\"],[0.1111111111111111,\"#46039f\"],[0.2222222222222222,\"#7201a8\"],[0.3333333333333333,\"#9c179e\"],[0.4444444444444444,\"#bd3786\"],[0.5555555555555556,\"#d8576b\"],[0.6666666666666666,\"#ed7953\"],[0.7777777777777778,\"#fb9f3a\"],[0.8888888888888888,\"#fdca26\"],[1.0,\"#f0f921\"]],\"type\":\"heatmapgl\"}],\"heatmap\":[{\"colorbar\":{\"outlinewidth\":0,\"ticks\":\"\"},\"colorscale\":[[0.0,\"#0d0887\"],[0.1111111111111111,\"#46039f\"],[0.2222222222222222,\"#7201a8\"],[0.3333333333333333,\"#9c179e\"],[0.4444444444444444,\"#bd3786\"],[0.5555555555555556,\"#d8576b\"],[0.6666666666666666,\"#ed7953\"],[0.7777777777777778,\"#fb9f3a\"],[0.8888888888888888,\"#fdca26\"],[1.0,\"#f0f921\"]],\"type\":\"heatmap\"}],\"histogram2dcontour\":[{\"colorbar\":{\"outlinewidth\":0,\"ticks\":\"\"},\"colorscale\":[[0.0,\"#0d0887\"],[0.1111111111111111,\"#46039f\"],[0.2222222222222222,\"#7201a8\"],[0.3333333333333333,\"#9c179e\"],[0.4444444444444444,\"#bd3786\"],[0.5555555555555556,\"#d8576b\"],[0.6666666666666666,\"#ed7953\"],[0.7777777777777778,\"#fb9f3a\"],[0.8888888888888888,\"#fdca26\"],[1.0,\"#f0f921\"]],\"type\":\"histogram2dcontour\"}],\"histogram2d\":[{\"colorbar\":{\"outlinewidth\":0,\"ticks\":\"\"},\"colorscale\":[[0.0,\"#0d0887\"],[0.1111111111111111,\"#46039f\"],[0.2222222222222222,\"#7201a8\"],[0.3333333333333333,\"#9c179e\"],[0.4444444444444444,\"#bd3786\"],[0.5555555555555556,\"#d8576b\"],[0.6666666666666666,\"#ed7953\"],[0.7777777777777778,\"#fb9f3a\"],[0.8888888888888888,\"#fdca26\"],[1.0,\"#f0f921\"]],\"type\":\"histogram2d\"}],\"histogram\":[{\"marker\":{\"pattern\":{\"fillmode\":\"overlay\",\"size\":10,\"solidity\":0.2}},\"type\":\"histogram\"}],\"mesh3d\":[{\"colorbar\":{\"outlinewidth\":0,\"ticks\":\"\"},\"type\":\"mesh3d\"}],\"parcoords\":[{\"line\":{\"colorbar\":{\"outlinewidth\":0,\"ticks\":\"\"}},\"type\":\"parcoords\"}],\"pie\":[{\"automargin\":true,\"type\":\"pie\"}],\"scatter3d\":[{\"line\":{\"colorbar\":{\"outlinewidth\":0,\"ticks\":\"\"}},\"marker\":{\"colorbar\":{\"outlinewidth\":0,\"ticks\":\"\"}},\"type\":\"scatter3d\"}],\"scattercarpet\":[{\"marker\":{\"colorbar\":{\"outlinewidth\":0,\"ticks\":\"\"}},\"type\":\"scattercarpet\"}],\"scattergeo\":[{\"marker\":{\"colorbar\":{\"outlinewidth\":0,\"ticks\":\"\"}},\"type\":\"scattergeo\"}],\"scattergl\":[{\"marker\":{\"colorbar\":{\"outlinewidth\":0,\"ticks\":\"\"}},\"type\":\"scattergl\"}],\"scattermapbox\":[{\"marker\":{\"colorbar\":{\"outlinewidth\":0,\"ticks\":\"\"}},\"type\":\"scattermapbox\"}],\"scatterpolargl\":[{\"marker\":{\"colorbar\":{\"outlinewidth\":0,\"ticks\":\"\"}},\"type\":\"scatterpolargl\"}],\"scatterpolar\":[{\"marker\":{\"colorbar\":{\"outlinewidth\":0,\"ticks\":\"\"}},\"type\":\"scatterpolar\"}],\"scatter\":[{\"fillpattern\":{\"fillmode\":\"overlay\",\"size\":10,\"solidity\":0.2},\"type\":\"scatter\"}],\"scatterternary\":[{\"marker\":{\"colorbar\":{\"outlinewidth\":0,\"ticks\":\"\"}},\"type\":\"scatterternary\"}],\"surface\":[{\"colorbar\":{\"outlinewidth\":0,\"ticks\":\"\"},\"colorscale\":[[0.0,\"#0d0887\"],[0.1111111111111111,\"#46039f\"],[0.2222222222222222,\"#7201a8\"],[0.3333333333333333,\"#9c179e\"],[0.4444444444444444,\"#bd3786\"],[0.5555555555555556,\"#d8576b\"],[0.6666666666666666,\"#ed7953\"],[0.7777777777777778,\"#fb9f3a\"],[0.8888888888888888,\"#fdca26\"],[1.0,\"#f0f921\"]],\"type\":\"surface\"}],\"table\":[{\"cells\":{\"fill\":{\"color\":\"#EBF0F8\"},\"line\":{\"color\":\"white\"}},\"header\":{\"fill\":{\"color\":\"#C8D4E3\"},\"line\":{\"color\":\"white\"}},\"type\":\"table\"}]},\"layout\":{\"annotationdefaults\":{\"arrowcolor\":\"#2a3f5f\",\"arrowhead\":0,\"arrowwidth\":1},\"autotypenumbers\":\"strict\",\"coloraxis\":{\"colorbar\":{\"outlinewidth\":0,\"ticks\":\"\"}},\"colorscale\":{\"diverging\":[[0,\"#8e0152\"],[0.1,\"#c51b7d\"],[0.2,\"#de77ae\"],[0.3,\"#f1b6da\"],[0.4,\"#fde0ef\"],[0.5,\"#f7f7f7\"],[0.6,\"#e6f5d0\"],[0.7,\"#b8e186\"],[0.8,\"#7fbc41\"],[0.9,\"#4d9221\"],[1,\"#276419\"]],\"sequential\":[[0.0,\"#0d0887\"],[0.1111111111111111,\"#46039f\"],[0.2222222222222222,\"#7201a8\"],[0.3333333333333333,\"#9c179e\"],[0.4444444444444444,\"#bd3786\"],[0.5555555555555556,\"#d8576b\"],[0.6666666666666666,\"#ed7953\"],[0.7777777777777778,\"#fb9f3a\"],[0.8888888888888888,\"#fdca26\"],[1.0,\"#f0f921\"]],\"sequentialminus\":[[0.0,\"#0d0887\"],[0.1111111111111111,\"#46039f\"],[0.2222222222222222,\"#7201a8\"],[0.3333333333333333,\"#9c179e\"],[0.4444444444444444,\"#bd3786\"],[0.5555555555555556,\"#d8576b\"],[0.6666666666666666,\"#ed7953\"],[0.7777777777777778,\"#fb9f3a\"],[0.8888888888888888,\"#fdca26\"],[1.0,\"#f0f921\"]]},\"colorway\":[\"#636efa\",\"#EF553B\",\"#00cc96\",\"#ab63fa\",\"#FFA15A\",\"#19d3f3\",\"#FF6692\",\"#B6E880\",\"#FF97FF\",\"#FECB52\"],\"font\":{\"color\":\"#2a3f5f\"},\"geo\":{\"bgcolor\":\"white\",\"lakecolor\":\"white\",\"landcolor\":\"#E5ECF6\",\"showlakes\":true,\"showland\":true,\"subunitcolor\":\"white\"},\"hoverlabel\":{\"align\":\"left\"},\"hovermode\":\"closest\",\"mapbox\":{\"style\":\"light\"},\"paper_bgcolor\":\"white\",\"plot_bgcolor\":\"#E5ECF6\",\"polar\":{\"angularaxis\":{\"gridcolor\":\"white\",\"linecolor\":\"white\",\"ticks\":\"\"},\"bgcolor\":\"#E5ECF6\",\"radialaxis\":{\"gridcolor\":\"white\",\"linecolor\":\"white\",\"ticks\":\"\"}},\"scene\":{\"xaxis\":{\"backgroundcolor\":\"#E5ECF6\",\"gridcolor\":\"white\",\"gridwidth\":2,\"linecolor\":\"white\",\"showbackground\":true,\"ticks\":\"\",\"zerolinecolor\":\"white\"},\"yaxis\":{\"backgroundcolor\":\"#E5ECF6\",\"gridcolor\":\"white\",\"gridwidth\":2,\"linecolor\":\"white\",\"showbackground\":true,\"ticks\":\"\",\"zerolinecolor\":\"white\"},\"zaxis\":{\"backgroundcolor\":\"#E5ECF6\",\"gridcolor\":\"white\",\"gridwidth\":2,\"linecolor\":\"white\",\"showbackground\":true,\"ticks\":\"\",\"zerolinecolor\":\"white\"}},\"shapedefaults\":{\"line\":{\"color\":\"#2a3f5f\"}},\"ternary\":{\"aaxis\":{\"gridcolor\":\"white\",\"linecolor\":\"white\",\"ticks\":\"\"},\"baxis\":{\"gridcolor\":\"white\",\"linecolor\":\"white\",\"ticks\":\"\"},\"bgcolor\":\"#E5ECF6\",\"caxis\":{\"gridcolor\":\"white\",\"linecolor\":\"white\",\"ticks\":\"\"}},\"title\":{\"x\":0.05},\"xaxis\":{\"automargin\":true,\"gridcolor\":\"white\",\"linecolor\":\"white\",\"ticks\":\"\",\"title\":{\"standoff\":15},\"zerolinecolor\":\"white\",\"zerolinewidth\":2},\"yaxis\":{\"automargin\":true,\"gridcolor\":\"white\",\"linecolor\":\"white\",\"ticks\":\"\",\"title\":{\"standoff\":15},\"zerolinecolor\":\"white\",\"zerolinewidth\":2}}},\"title\":{\"text\":\"Employment Distribution\"},\"xaxis\":{\"anchor\":\"y\",\"domain\":[0.0,0.45]},\"yaxis\":{\"anchor\":\"x\",\"domain\":[0.625,1.0]},\"xaxis2\":{\"anchor\":\"y2\",\"domain\":[0.55,1.0]},\"yaxis2\":{\"anchor\":\"x2\",\"domain\":[0.625,1.0]},\"xaxis3\":{\"anchor\":\"y3\",\"domain\":[0.0,1.0]},\"yaxis3\":{\"anchor\":\"x3\",\"domain\":[0.0,0.375]}},                        {\"responsive\": true}                    ).then(function(){\n",
       "                            \n",
       "var gd = document.getElementById('18001c0b-5cc0-4922-ae12-e6acb9b8d6be');\n",
       "var x = new MutationObserver(function (mutations, observer) {{\n",
       "        var display = window.getComputedStyle(gd).display;\n",
       "        if (!display || display === 'none') {{\n",
       "            console.log([gd, 'removed!']);\n",
       "            Plotly.purge(gd);\n",
       "            observer.disconnect();\n",
       "        }}\n",
       "}});\n",
       "\n",
       "// Listen for the removal of the full notebook cells\n",
       "var notebookContainer = gd.closest('#notebook-container');\n",
       "if (notebookContainer) {{\n",
       "    x.observe(notebookContainer, {childList: true});\n",
       "}}\n",
       "\n",
       "// Listen for the clearing of the current output cell\n",
       "var outputEl = gd.closest('.output');\n",
       "if (outputEl) {{\n",
       "    x.observe(outputEl, {childList: true});\n",
       "}}\n",
       "\n",
       "                        })                };                });            </script>        </div>"
      ]
     },
     "metadata": {},
     "output_type": "display_data"
    }
   ],
   "source": [
    "df_good = all_data.loc[all_data[\"class\"] == 'good']['employment'].values.tolist()\n",
    "df_bad = all_data.loc[all_data[\"class\"] == 'bad']['employment'].values.tolist()\n",
    "df_age = all_data['employment'].values.tolist()\n",
    "\n",
    "# Plot Good Credit\n",
    "trace0 = go.Histogram(\n",
    "    x=df_good,\n",
    "    histnorm='probability',\n",
    "    marker_color='turquoise',\n",
    "    name=\"Good Credit\")\n",
    "\n",
    "# Plot Bad Credit\n",
    "trace1 = go.Histogram(\n",
    "    x=df_bad,\n",
    "    histnorm='probability',\n",
    "    marker_color='#FF4365', # Radical Red\n",
    "    name=\"Bad Credit\",)\n",
    "\n",
    "# Plot General Distribution\n",
    "trace2 = go.Histogram(\n",
    "    x=df_age,\n",
    "    histnorm='probability',\n",
    "    name=\"Overall Age\",\n",
    "    marker_color='darkblue'   \n",
    ")\n",
    "\n",
    "#Creating the grid\n",
    "fig = tls.make_subplots(rows=2, cols=2, specs=[[{}, {}], [{'colspan': 2}, None]],\n",
    "                          subplot_titles=('Good','Bad', 'General Distribution'))\n",
    "\n",
    "#setting the figs\n",
    "fig.append_trace(trace0, 1, 1)\n",
    "fig.append_trace(trace1, 1, 2)\n",
    "fig.append_trace(trace2, 2, 1)\n",
    "\n",
    "fig['layout'].update(showlegend=True, title='Employment Distribution', bargap=0.04)\n",
    "py.iplot(fig, filename='custom-sized-subplot-with-subplot-titles')"
   ]
  },
  {
   "cell_type": "code",
   "execution_count": 173,
   "id": "f4c63aba",
   "metadata": {},
   "outputs": [
    {
     "data": {
      "application/vnd.plotly.v1+json": {
       "config": {
        "linkText": "Export to plot.ly",
        "plotlyServerURL": "https://plot.ly",
        "showLink": false
       },
       "data": [
        {
         "marker": {
          "color": "turquoise"
         },
         "name": "Good Credit",
         "type": "bar",
         "x": [
          "own",
          "rent",
          "for free"
         ],
         "y": [
          527,
          109,
          64
         ]
        },
        {
         "marker": {
          "color": "#FF4365"
         },
         "name": "Bad Credit",
         "type": "bar",
         "x": [
          "own",
          "rent",
          "for free"
         ],
         "y": [
          186,
          70,
          44
         ]
        }
       ],
       "layout": {
        "template": {
         "data": {
          "bar": [
           {
            "error_x": {
             "color": "#2a3f5f"
            },
            "error_y": {
             "color": "#2a3f5f"
            },
            "marker": {
             "line": {
              "color": "#E5ECF6",
              "width": 0.5
             },
             "pattern": {
              "fillmode": "overlay",
              "size": 10,
              "solidity": 0.2
             }
            },
            "type": "bar"
           }
          ],
          "barpolar": [
           {
            "marker": {
             "line": {
              "color": "#E5ECF6",
              "width": 0.5
             },
             "pattern": {
              "fillmode": "overlay",
              "size": 10,
              "solidity": 0.2
             }
            },
            "type": "barpolar"
           }
          ],
          "carpet": [
           {
            "aaxis": {
             "endlinecolor": "#2a3f5f",
             "gridcolor": "white",
             "linecolor": "white",
             "minorgridcolor": "white",
             "startlinecolor": "#2a3f5f"
            },
            "baxis": {
             "endlinecolor": "#2a3f5f",
             "gridcolor": "white",
             "linecolor": "white",
             "minorgridcolor": "white",
             "startlinecolor": "#2a3f5f"
            },
            "type": "carpet"
           }
          ],
          "choropleth": [
           {
            "colorbar": {
             "outlinewidth": 0,
             "ticks": ""
            },
            "type": "choropleth"
           }
          ],
          "contour": [
           {
            "colorbar": {
             "outlinewidth": 0,
             "ticks": ""
            },
            "colorscale": [
             [
              0,
              "#0d0887"
             ],
             [
              0.1111111111111111,
              "#46039f"
             ],
             [
              0.2222222222222222,
              "#7201a8"
             ],
             [
              0.3333333333333333,
              "#9c179e"
             ],
             [
              0.4444444444444444,
              "#bd3786"
             ],
             [
              0.5555555555555556,
              "#d8576b"
             ],
             [
              0.6666666666666666,
              "#ed7953"
             ],
             [
              0.7777777777777778,
              "#fb9f3a"
             ],
             [
              0.8888888888888888,
              "#fdca26"
             ],
             [
              1,
              "#f0f921"
             ]
            ],
            "type": "contour"
           }
          ],
          "contourcarpet": [
           {
            "colorbar": {
             "outlinewidth": 0,
             "ticks": ""
            },
            "type": "contourcarpet"
           }
          ],
          "heatmap": [
           {
            "colorbar": {
             "outlinewidth": 0,
             "ticks": ""
            },
            "colorscale": [
             [
              0,
              "#0d0887"
             ],
             [
              0.1111111111111111,
              "#46039f"
             ],
             [
              0.2222222222222222,
              "#7201a8"
             ],
             [
              0.3333333333333333,
              "#9c179e"
             ],
             [
              0.4444444444444444,
              "#bd3786"
             ],
             [
              0.5555555555555556,
              "#d8576b"
             ],
             [
              0.6666666666666666,
              "#ed7953"
             ],
             [
              0.7777777777777778,
              "#fb9f3a"
             ],
             [
              0.8888888888888888,
              "#fdca26"
             ],
             [
              1,
              "#f0f921"
             ]
            ],
            "type": "heatmap"
           }
          ],
          "heatmapgl": [
           {
            "colorbar": {
             "outlinewidth": 0,
             "ticks": ""
            },
            "colorscale": [
             [
              0,
              "#0d0887"
             ],
             [
              0.1111111111111111,
              "#46039f"
             ],
             [
              0.2222222222222222,
              "#7201a8"
             ],
             [
              0.3333333333333333,
              "#9c179e"
             ],
             [
              0.4444444444444444,
              "#bd3786"
             ],
             [
              0.5555555555555556,
              "#d8576b"
             ],
             [
              0.6666666666666666,
              "#ed7953"
             ],
             [
              0.7777777777777778,
              "#fb9f3a"
             ],
             [
              0.8888888888888888,
              "#fdca26"
             ],
             [
              1,
              "#f0f921"
             ]
            ],
            "type": "heatmapgl"
           }
          ],
          "histogram": [
           {
            "marker": {
             "pattern": {
              "fillmode": "overlay",
              "size": 10,
              "solidity": 0.2
             }
            },
            "type": "histogram"
           }
          ],
          "histogram2d": [
           {
            "colorbar": {
             "outlinewidth": 0,
             "ticks": ""
            },
            "colorscale": [
             [
              0,
              "#0d0887"
             ],
             [
              0.1111111111111111,
              "#46039f"
             ],
             [
              0.2222222222222222,
              "#7201a8"
             ],
             [
              0.3333333333333333,
              "#9c179e"
             ],
             [
              0.4444444444444444,
              "#bd3786"
             ],
             [
              0.5555555555555556,
              "#d8576b"
             ],
             [
              0.6666666666666666,
              "#ed7953"
             ],
             [
              0.7777777777777778,
              "#fb9f3a"
             ],
             [
              0.8888888888888888,
              "#fdca26"
             ],
             [
              1,
              "#f0f921"
             ]
            ],
            "type": "histogram2d"
           }
          ],
          "histogram2dcontour": [
           {
            "colorbar": {
             "outlinewidth": 0,
             "ticks": ""
            },
            "colorscale": [
             [
              0,
              "#0d0887"
             ],
             [
              0.1111111111111111,
              "#46039f"
             ],
             [
              0.2222222222222222,
              "#7201a8"
             ],
             [
              0.3333333333333333,
              "#9c179e"
             ],
             [
              0.4444444444444444,
              "#bd3786"
             ],
             [
              0.5555555555555556,
              "#d8576b"
             ],
             [
              0.6666666666666666,
              "#ed7953"
             ],
             [
              0.7777777777777778,
              "#fb9f3a"
             ],
             [
              0.8888888888888888,
              "#fdca26"
             ],
             [
              1,
              "#f0f921"
             ]
            ],
            "type": "histogram2dcontour"
           }
          ],
          "mesh3d": [
           {
            "colorbar": {
             "outlinewidth": 0,
             "ticks": ""
            },
            "type": "mesh3d"
           }
          ],
          "parcoords": [
           {
            "line": {
             "colorbar": {
              "outlinewidth": 0,
              "ticks": ""
             }
            },
            "type": "parcoords"
           }
          ],
          "pie": [
           {
            "automargin": true,
            "type": "pie"
           }
          ],
          "scatter": [
           {
            "fillpattern": {
             "fillmode": "overlay",
             "size": 10,
             "solidity": 0.2
            },
            "type": "scatter"
           }
          ],
          "scatter3d": [
           {
            "line": {
             "colorbar": {
              "outlinewidth": 0,
              "ticks": ""
             }
            },
            "marker": {
             "colorbar": {
              "outlinewidth": 0,
              "ticks": ""
             }
            },
            "type": "scatter3d"
           }
          ],
          "scattercarpet": [
           {
            "marker": {
             "colorbar": {
              "outlinewidth": 0,
              "ticks": ""
             }
            },
            "type": "scattercarpet"
           }
          ],
          "scattergeo": [
           {
            "marker": {
             "colorbar": {
              "outlinewidth": 0,
              "ticks": ""
             }
            },
            "type": "scattergeo"
           }
          ],
          "scattergl": [
           {
            "marker": {
             "colorbar": {
              "outlinewidth": 0,
              "ticks": ""
             }
            },
            "type": "scattergl"
           }
          ],
          "scattermapbox": [
           {
            "marker": {
             "colorbar": {
              "outlinewidth": 0,
              "ticks": ""
             }
            },
            "type": "scattermapbox"
           }
          ],
          "scatterpolar": [
           {
            "marker": {
             "colorbar": {
              "outlinewidth": 0,
              "ticks": ""
             }
            },
            "type": "scatterpolar"
           }
          ],
          "scatterpolargl": [
           {
            "marker": {
             "colorbar": {
              "outlinewidth": 0,
              "ticks": ""
             }
            },
            "type": "scatterpolargl"
           }
          ],
          "scatterternary": [
           {
            "marker": {
             "colorbar": {
              "outlinewidth": 0,
              "ticks": ""
             }
            },
            "type": "scatterternary"
           }
          ],
          "surface": [
           {
            "colorbar": {
             "outlinewidth": 0,
             "ticks": ""
            },
            "colorscale": [
             [
              0,
              "#0d0887"
             ],
             [
              0.1111111111111111,
              "#46039f"
             ],
             [
              0.2222222222222222,
              "#7201a8"
             ],
             [
              0.3333333333333333,
              "#9c179e"
             ],
             [
              0.4444444444444444,
              "#bd3786"
             ],
             [
              0.5555555555555556,
              "#d8576b"
             ],
             [
              0.6666666666666666,
              "#ed7953"
             ],
             [
              0.7777777777777778,
              "#fb9f3a"
             ],
             [
              0.8888888888888888,
              "#fdca26"
             ],
             [
              1,
              "#f0f921"
             ]
            ],
            "type": "surface"
           }
          ],
          "table": [
           {
            "cells": {
             "fill": {
              "color": "#EBF0F8"
             },
             "line": {
              "color": "white"
             }
            },
            "header": {
             "fill": {
              "color": "#C8D4E3"
             },
             "line": {
              "color": "white"
             }
            },
            "type": "table"
           }
          ]
         },
         "layout": {
          "annotationdefaults": {
           "arrowcolor": "#2a3f5f",
           "arrowhead": 0,
           "arrowwidth": 1
          },
          "autotypenumbers": "strict",
          "coloraxis": {
           "colorbar": {
            "outlinewidth": 0,
            "ticks": ""
           }
          },
          "colorscale": {
           "diverging": [
            [
             0,
             "#8e0152"
            ],
            [
             0.1,
             "#c51b7d"
            ],
            [
             0.2,
             "#de77ae"
            ],
            [
             0.3,
             "#f1b6da"
            ],
            [
             0.4,
             "#fde0ef"
            ],
            [
             0.5,
             "#f7f7f7"
            ],
            [
             0.6,
             "#e6f5d0"
            ],
            [
             0.7,
             "#b8e186"
            ],
            [
             0.8,
             "#7fbc41"
            ],
            [
             0.9,
             "#4d9221"
            ],
            [
             1,
             "#276419"
            ]
           ],
           "sequential": [
            [
             0,
             "#0d0887"
            ],
            [
             0.1111111111111111,
             "#46039f"
            ],
            [
             0.2222222222222222,
             "#7201a8"
            ],
            [
             0.3333333333333333,
             "#9c179e"
            ],
            [
             0.4444444444444444,
             "#bd3786"
            ],
            [
             0.5555555555555556,
             "#d8576b"
            ],
            [
             0.6666666666666666,
             "#ed7953"
            ],
            [
             0.7777777777777778,
             "#fb9f3a"
            ],
            [
             0.8888888888888888,
             "#fdca26"
            ],
            [
             1,
             "#f0f921"
            ]
           ],
           "sequentialminus": [
            [
             0,
             "#0d0887"
            ],
            [
             0.1111111111111111,
             "#46039f"
            ],
            [
             0.2222222222222222,
             "#7201a8"
            ],
            [
             0.3333333333333333,
             "#9c179e"
            ],
            [
             0.4444444444444444,
             "#bd3786"
            ],
            [
             0.5555555555555556,
             "#d8576b"
            ],
            [
             0.6666666666666666,
             "#ed7953"
            ],
            [
             0.7777777777777778,
             "#fb9f3a"
            ],
            [
             0.8888888888888888,
             "#fdca26"
            ],
            [
             1,
             "#f0f921"
            ]
           ]
          },
          "colorway": [
           "#636efa",
           "#EF553B",
           "#00cc96",
           "#ab63fa",
           "#FFA15A",
           "#19d3f3",
           "#FF6692",
           "#B6E880",
           "#FF97FF",
           "#FECB52"
          ],
          "font": {
           "color": "#2a3f5f"
          },
          "geo": {
           "bgcolor": "white",
           "lakecolor": "white",
           "landcolor": "#E5ECF6",
           "showlakes": true,
           "showland": true,
           "subunitcolor": "white"
          },
          "hoverlabel": {
           "align": "left"
          },
          "hovermode": "closest",
          "mapbox": {
           "style": "light"
          },
          "paper_bgcolor": "white",
          "plot_bgcolor": "#E5ECF6",
          "polar": {
           "angularaxis": {
            "gridcolor": "white",
            "linecolor": "white",
            "ticks": ""
           },
           "bgcolor": "#E5ECF6",
           "radialaxis": {
            "gridcolor": "white",
            "linecolor": "white",
            "ticks": ""
           }
          },
          "scene": {
           "xaxis": {
            "backgroundcolor": "#E5ECF6",
            "gridcolor": "white",
            "gridwidth": 2,
            "linecolor": "white",
            "showbackground": true,
            "ticks": "",
            "zerolinecolor": "white"
           },
           "yaxis": {
            "backgroundcolor": "#E5ECF6",
            "gridcolor": "white",
            "gridwidth": 2,
            "linecolor": "white",
            "showbackground": true,
            "ticks": "",
            "zerolinecolor": "white"
           },
           "zaxis": {
            "backgroundcolor": "#E5ECF6",
            "gridcolor": "white",
            "gridwidth": 2,
            "linecolor": "white",
            "showbackground": true,
            "ticks": "",
            "zerolinecolor": "white"
           }
          },
          "shapedefaults": {
           "line": {
            "color": "#2a3f5f"
           }
          },
          "ternary": {
           "aaxis": {
            "gridcolor": "white",
            "linecolor": "white",
            "ticks": ""
           },
           "baxis": {
            "gridcolor": "white",
            "linecolor": "white",
            "ticks": ""
           },
           "bgcolor": "#E5ECF6",
           "caxis": {
            "gridcolor": "white",
            "linecolor": "white",
            "ticks": ""
           }
          },
          "title": {
           "x": 0.05
          },
          "xaxis": {
           "automargin": true,
           "gridcolor": "white",
           "linecolor": "white",
           "ticks": "",
           "title": {
            "standoff": 15
           },
           "zerolinecolor": "white",
           "zerolinewidth": 2
          },
          "yaxis": {
           "automargin": true,
           "gridcolor": "white",
           "linecolor": "white",
           "ticks": "",
           "title": {
            "standoff": 15
           },
           "zerolinecolor": "white",
           "zerolinewidth": 2
          }
         }
        },
        "title": {
         "text": "Housing Distribuition"
        }
       }
      },
      "text/html": [
       "<div>                            <div id=\"cfeba932-1958-4633-875f-e82a872e5676\" class=\"plotly-graph-div\" style=\"height:525px; width:100%;\"></div>            <script type=\"text/javascript\">                require([\"plotly\"], function(Plotly) {                    window.PLOTLYENV=window.PLOTLYENV || {};                                    if (document.getElementById(\"cfeba932-1958-4633-875f-e82a872e5676\")) {                    Plotly.newPlot(                        \"cfeba932-1958-4633-875f-e82a872e5676\",                        [{\"marker\":{\"color\":\"turquoise\"},\"name\":\"Good Credit\",\"x\":[\"own\",\"rent\",\"for free\"],\"y\":[527,109,64],\"type\":\"bar\"},{\"marker\":{\"color\":\"#FF4365\"},\"name\":\"Bad Credit\",\"x\":[\"own\",\"rent\",\"for free\"],\"y\":[186,70,44],\"type\":\"bar\"}],                        {\"template\":{\"data\":{\"barpolar\":[{\"marker\":{\"line\":{\"color\":\"#E5ECF6\",\"width\":0.5},\"pattern\":{\"fillmode\":\"overlay\",\"size\":10,\"solidity\":0.2}},\"type\":\"barpolar\"}],\"bar\":[{\"error_x\":{\"color\":\"#2a3f5f\"},\"error_y\":{\"color\":\"#2a3f5f\"},\"marker\":{\"line\":{\"color\":\"#E5ECF6\",\"width\":0.5},\"pattern\":{\"fillmode\":\"overlay\",\"size\":10,\"solidity\":0.2}},\"type\":\"bar\"}],\"carpet\":[{\"aaxis\":{\"endlinecolor\":\"#2a3f5f\",\"gridcolor\":\"white\",\"linecolor\":\"white\",\"minorgridcolor\":\"white\",\"startlinecolor\":\"#2a3f5f\"},\"baxis\":{\"endlinecolor\":\"#2a3f5f\",\"gridcolor\":\"white\",\"linecolor\":\"white\",\"minorgridcolor\":\"white\",\"startlinecolor\":\"#2a3f5f\"},\"type\":\"carpet\"}],\"choropleth\":[{\"colorbar\":{\"outlinewidth\":0,\"ticks\":\"\"},\"type\":\"choropleth\"}],\"contourcarpet\":[{\"colorbar\":{\"outlinewidth\":0,\"ticks\":\"\"},\"type\":\"contourcarpet\"}],\"contour\":[{\"colorbar\":{\"outlinewidth\":0,\"ticks\":\"\"},\"colorscale\":[[0.0,\"#0d0887\"],[0.1111111111111111,\"#46039f\"],[0.2222222222222222,\"#7201a8\"],[0.3333333333333333,\"#9c179e\"],[0.4444444444444444,\"#bd3786\"],[0.5555555555555556,\"#d8576b\"],[0.6666666666666666,\"#ed7953\"],[0.7777777777777778,\"#fb9f3a\"],[0.8888888888888888,\"#fdca26\"],[1.0,\"#f0f921\"]],\"type\":\"contour\"}],\"heatmapgl\":[{\"colorbar\":{\"outlinewidth\":0,\"ticks\":\"\"},\"colorscale\":[[0.0,\"#0d0887\"],[0.1111111111111111,\"#46039f\"],[0.2222222222222222,\"#7201a8\"],[0.3333333333333333,\"#9c179e\"],[0.4444444444444444,\"#bd3786\"],[0.5555555555555556,\"#d8576b\"],[0.6666666666666666,\"#ed7953\"],[0.7777777777777778,\"#fb9f3a\"],[0.8888888888888888,\"#fdca26\"],[1.0,\"#f0f921\"]],\"type\":\"heatmapgl\"}],\"heatmap\":[{\"colorbar\":{\"outlinewidth\":0,\"ticks\":\"\"},\"colorscale\":[[0.0,\"#0d0887\"],[0.1111111111111111,\"#46039f\"],[0.2222222222222222,\"#7201a8\"],[0.3333333333333333,\"#9c179e\"],[0.4444444444444444,\"#bd3786\"],[0.5555555555555556,\"#d8576b\"],[0.6666666666666666,\"#ed7953\"],[0.7777777777777778,\"#fb9f3a\"],[0.8888888888888888,\"#fdca26\"],[1.0,\"#f0f921\"]],\"type\":\"heatmap\"}],\"histogram2dcontour\":[{\"colorbar\":{\"outlinewidth\":0,\"ticks\":\"\"},\"colorscale\":[[0.0,\"#0d0887\"],[0.1111111111111111,\"#46039f\"],[0.2222222222222222,\"#7201a8\"],[0.3333333333333333,\"#9c179e\"],[0.4444444444444444,\"#bd3786\"],[0.5555555555555556,\"#d8576b\"],[0.6666666666666666,\"#ed7953\"],[0.7777777777777778,\"#fb9f3a\"],[0.8888888888888888,\"#fdca26\"],[1.0,\"#f0f921\"]],\"type\":\"histogram2dcontour\"}],\"histogram2d\":[{\"colorbar\":{\"outlinewidth\":0,\"ticks\":\"\"},\"colorscale\":[[0.0,\"#0d0887\"],[0.1111111111111111,\"#46039f\"],[0.2222222222222222,\"#7201a8\"],[0.3333333333333333,\"#9c179e\"],[0.4444444444444444,\"#bd3786\"],[0.5555555555555556,\"#d8576b\"],[0.6666666666666666,\"#ed7953\"],[0.7777777777777778,\"#fb9f3a\"],[0.8888888888888888,\"#fdca26\"],[1.0,\"#f0f921\"]],\"type\":\"histogram2d\"}],\"histogram\":[{\"marker\":{\"pattern\":{\"fillmode\":\"overlay\",\"size\":10,\"solidity\":0.2}},\"type\":\"histogram\"}],\"mesh3d\":[{\"colorbar\":{\"outlinewidth\":0,\"ticks\":\"\"},\"type\":\"mesh3d\"}],\"parcoords\":[{\"line\":{\"colorbar\":{\"outlinewidth\":0,\"ticks\":\"\"}},\"type\":\"parcoords\"}],\"pie\":[{\"automargin\":true,\"type\":\"pie\"}],\"scatter3d\":[{\"line\":{\"colorbar\":{\"outlinewidth\":0,\"ticks\":\"\"}},\"marker\":{\"colorbar\":{\"outlinewidth\":0,\"ticks\":\"\"}},\"type\":\"scatter3d\"}],\"scattercarpet\":[{\"marker\":{\"colorbar\":{\"outlinewidth\":0,\"ticks\":\"\"}},\"type\":\"scattercarpet\"}],\"scattergeo\":[{\"marker\":{\"colorbar\":{\"outlinewidth\":0,\"ticks\":\"\"}},\"type\":\"scattergeo\"}],\"scattergl\":[{\"marker\":{\"colorbar\":{\"outlinewidth\":0,\"ticks\":\"\"}},\"type\":\"scattergl\"}],\"scattermapbox\":[{\"marker\":{\"colorbar\":{\"outlinewidth\":0,\"ticks\":\"\"}},\"type\":\"scattermapbox\"}],\"scatterpolargl\":[{\"marker\":{\"colorbar\":{\"outlinewidth\":0,\"ticks\":\"\"}},\"type\":\"scatterpolargl\"}],\"scatterpolar\":[{\"marker\":{\"colorbar\":{\"outlinewidth\":0,\"ticks\":\"\"}},\"type\":\"scatterpolar\"}],\"scatter\":[{\"fillpattern\":{\"fillmode\":\"overlay\",\"size\":10,\"solidity\":0.2},\"type\":\"scatter\"}],\"scatterternary\":[{\"marker\":{\"colorbar\":{\"outlinewidth\":0,\"ticks\":\"\"}},\"type\":\"scatterternary\"}],\"surface\":[{\"colorbar\":{\"outlinewidth\":0,\"ticks\":\"\"},\"colorscale\":[[0.0,\"#0d0887\"],[0.1111111111111111,\"#46039f\"],[0.2222222222222222,\"#7201a8\"],[0.3333333333333333,\"#9c179e\"],[0.4444444444444444,\"#bd3786\"],[0.5555555555555556,\"#d8576b\"],[0.6666666666666666,\"#ed7953\"],[0.7777777777777778,\"#fb9f3a\"],[0.8888888888888888,\"#fdca26\"],[1.0,\"#f0f921\"]],\"type\":\"surface\"}],\"table\":[{\"cells\":{\"fill\":{\"color\":\"#EBF0F8\"},\"line\":{\"color\":\"white\"}},\"header\":{\"fill\":{\"color\":\"#C8D4E3\"},\"line\":{\"color\":\"white\"}},\"type\":\"table\"}]},\"layout\":{\"annotationdefaults\":{\"arrowcolor\":\"#2a3f5f\",\"arrowhead\":0,\"arrowwidth\":1},\"autotypenumbers\":\"strict\",\"coloraxis\":{\"colorbar\":{\"outlinewidth\":0,\"ticks\":\"\"}},\"colorscale\":{\"diverging\":[[0,\"#8e0152\"],[0.1,\"#c51b7d\"],[0.2,\"#de77ae\"],[0.3,\"#f1b6da\"],[0.4,\"#fde0ef\"],[0.5,\"#f7f7f7\"],[0.6,\"#e6f5d0\"],[0.7,\"#b8e186\"],[0.8,\"#7fbc41\"],[0.9,\"#4d9221\"],[1,\"#276419\"]],\"sequential\":[[0.0,\"#0d0887\"],[0.1111111111111111,\"#46039f\"],[0.2222222222222222,\"#7201a8\"],[0.3333333333333333,\"#9c179e\"],[0.4444444444444444,\"#bd3786\"],[0.5555555555555556,\"#d8576b\"],[0.6666666666666666,\"#ed7953\"],[0.7777777777777778,\"#fb9f3a\"],[0.8888888888888888,\"#fdca26\"],[1.0,\"#f0f921\"]],\"sequentialminus\":[[0.0,\"#0d0887\"],[0.1111111111111111,\"#46039f\"],[0.2222222222222222,\"#7201a8\"],[0.3333333333333333,\"#9c179e\"],[0.4444444444444444,\"#bd3786\"],[0.5555555555555556,\"#d8576b\"],[0.6666666666666666,\"#ed7953\"],[0.7777777777777778,\"#fb9f3a\"],[0.8888888888888888,\"#fdca26\"],[1.0,\"#f0f921\"]]},\"colorway\":[\"#636efa\",\"#EF553B\",\"#00cc96\",\"#ab63fa\",\"#FFA15A\",\"#19d3f3\",\"#FF6692\",\"#B6E880\",\"#FF97FF\",\"#FECB52\"],\"font\":{\"color\":\"#2a3f5f\"},\"geo\":{\"bgcolor\":\"white\",\"lakecolor\":\"white\",\"landcolor\":\"#E5ECF6\",\"showlakes\":true,\"showland\":true,\"subunitcolor\":\"white\"},\"hoverlabel\":{\"align\":\"left\"},\"hovermode\":\"closest\",\"mapbox\":{\"style\":\"light\"},\"paper_bgcolor\":\"white\",\"plot_bgcolor\":\"#E5ECF6\",\"polar\":{\"angularaxis\":{\"gridcolor\":\"white\",\"linecolor\":\"white\",\"ticks\":\"\"},\"bgcolor\":\"#E5ECF6\",\"radialaxis\":{\"gridcolor\":\"white\",\"linecolor\":\"white\",\"ticks\":\"\"}},\"scene\":{\"xaxis\":{\"backgroundcolor\":\"#E5ECF6\",\"gridcolor\":\"white\",\"gridwidth\":2,\"linecolor\":\"white\",\"showbackground\":true,\"ticks\":\"\",\"zerolinecolor\":\"white\"},\"yaxis\":{\"backgroundcolor\":\"#E5ECF6\",\"gridcolor\":\"white\",\"gridwidth\":2,\"linecolor\":\"white\",\"showbackground\":true,\"ticks\":\"\",\"zerolinecolor\":\"white\"},\"zaxis\":{\"backgroundcolor\":\"#E5ECF6\",\"gridcolor\":\"white\",\"gridwidth\":2,\"linecolor\":\"white\",\"showbackground\":true,\"ticks\":\"\",\"zerolinecolor\":\"white\"}},\"shapedefaults\":{\"line\":{\"color\":\"#2a3f5f\"}},\"ternary\":{\"aaxis\":{\"gridcolor\":\"white\",\"linecolor\":\"white\",\"ticks\":\"\"},\"baxis\":{\"gridcolor\":\"white\",\"linecolor\":\"white\",\"ticks\":\"\"},\"bgcolor\":\"#E5ECF6\",\"caxis\":{\"gridcolor\":\"white\",\"linecolor\":\"white\",\"ticks\":\"\"}},\"title\":{\"x\":0.05},\"xaxis\":{\"automargin\":true,\"gridcolor\":\"white\",\"linecolor\":\"white\",\"ticks\":\"\",\"title\":{\"standoff\":15},\"zerolinecolor\":\"white\",\"zerolinewidth\":2},\"yaxis\":{\"automargin\":true,\"gridcolor\":\"white\",\"linecolor\":\"white\",\"ticks\":\"\",\"title\":{\"standoff\":15},\"zerolinecolor\":\"white\",\"zerolinewidth\":2}}},\"title\":{\"text\":\"Housing Distribuition\"}},                        {\"responsive\": true}                    ).then(function(){\n",
       "                            \n",
       "var gd = document.getElementById('cfeba932-1958-4633-875f-e82a872e5676');\n",
       "var x = new MutationObserver(function (mutations, observer) {{\n",
       "        var display = window.getComputedStyle(gd).display;\n",
       "        if (!display || display === 'none') {{\n",
       "            console.log([gd, 'removed!']);\n",
       "            Plotly.purge(gd);\n",
       "            observer.disconnect();\n",
       "        }}\n",
       "}});\n",
       "\n",
       "// Listen for the removal of the full notebook cells\n",
       "var notebookContainer = gd.closest('#notebook-container');\n",
       "if (notebookContainer) {{\n",
       "    x.observe(notebookContainer, {childList: true});\n",
       "}}\n",
       "\n",
       "// Listen for the clearing of the current output cell\n",
       "var outputEl = gd.closest('.output');\n",
       "if (outputEl) {{\n",
       "    x.observe(outputEl, {childList: true});\n",
       "}}\n",
       "\n",
       "                        })                };                });            </script>        </div>"
      ]
     },
     "metadata": {},
     "output_type": "display_data"
    }
   ],
   "source": [
    "# Housing Bar Chart\n",
    "housing_good = all_data[all_data[\"class\"]== 'good'][\"housing\"].value_counts()\n",
    "housing_bad = all_data[all_data[\"class\"]== 'bad'][\"housing\"].value_counts()\n",
    "\n",
    "trace0 = go.Bar(\n",
    "    x = housing_good.index.values,\n",
    "    y = housing_good.values,\n",
    "    marker_color='turquoise',\n",
    "    name='Good Credit'\n",
    ")\n",
    "\n",
    "trace1 = go.Bar(\n",
    "    x = housing_bad.index.values,\n",
    "    y = housing_bad.values,\n",
    "    marker_color='#FF4365', # Radical Red\n",
    "    name=\"Bad Credit\"\n",
    ")\n",
    "\n",
    "data = [trace0, trace1]\n",
    "\n",
    "layout = go.Layout(\n",
    "    title='Housing Distribuition'\n",
    ")\n",
    "\n",
    "fig = go.Figure(data=data, layout=layout)\n",
    "\n",
    "py.iplot(fig, filename='housing-distribuition-bar')\n"
   ]
  },
  {
   "cell_type": "code",
   "execution_count": 174,
   "id": "91eae143",
   "metadata": {},
   "outputs": [
    {
     "data": {
      "application/vnd.plotly.v1+json": {
       "config": {
        "linkText": "Export to plot.ly",
        "plotlyServerURL": "https://plot.ly",
        "showLink": false
       },
       "data": [
        {
         "marker": {
          "color": "turquoise"
         },
         "name": "Good Credit",
         "type": "bar",
         "x": [
          "skilled",
          "unskilled resident",
          "high qualif/self emp/mgmt",
          "unemp/unskilled non res"
         ],
         "y": [
          444,
          144,
          97,
          15
         ]
        },
        {
         "marker": {
          "color": "#FF4365"
         },
         "name": "Bad Credit",
         "type": "bar",
         "x": [
          "skilled",
          "unskilled resident",
          "high qualif/self emp/mgmt",
          "unemp/unskilled non res"
         ],
         "y": [
          186,
          56,
          51,
          7
         ]
        }
       ],
       "layout": {
        "template": {
         "data": {
          "bar": [
           {
            "error_x": {
             "color": "#2a3f5f"
            },
            "error_y": {
             "color": "#2a3f5f"
            },
            "marker": {
             "line": {
              "color": "#E5ECF6",
              "width": 0.5
             },
             "pattern": {
              "fillmode": "overlay",
              "size": 10,
              "solidity": 0.2
             }
            },
            "type": "bar"
           }
          ],
          "barpolar": [
           {
            "marker": {
             "line": {
              "color": "#E5ECF6",
              "width": 0.5
             },
             "pattern": {
              "fillmode": "overlay",
              "size": 10,
              "solidity": 0.2
             }
            },
            "type": "barpolar"
           }
          ],
          "carpet": [
           {
            "aaxis": {
             "endlinecolor": "#2a3f5f",
             "gridcolor": "white",
             "linecolor": "white",
             "minorgridcolor": "white",
             "startlinecolor": "#2a3f5f"
            },
            "baxis": {
             "endlinecolor": "#2a3f5f",
             "gridcolor": "white",
             "linecolor": "white",
             "minorgridcolor": "white",
             "startlinecolor": "#2a3f5f"
            },
            "type": "carpet"
           }
          ],
          "choropleth": [
           {
            "colorbar": {
             "outlinewidth": 0,
             "ticks": ""
            },
            "type": "choropleth"
           }
          ],
          "contour": [
           {
            "colorbar": {
             "outlinewidth": 0,
             "ticks": ""
            },
            "colorscale": [
             [
              0,
              "#0d0887"
             ],
             [
              0.1111111111111111,
              "#46039f"
             ],
             [
              0.2222222222222222,
              "#7201a8"
             ],
             [
              0.3333333333333333,
              "#9c179e"
             ],
             [
              0.4444444444444444,
              "#bd3786"
             ],
             [
              0.5555555555555556,
              "#d8576b"
             ],
             [
              0.6666666666666666,
              "#ed7953"
             ],
             [
              0.7777777777777778,
              "#fb9f3a"
             ],
             [
              0.8888888888888888,
              "#fdca26"
             ],
             [
              1,
              "#f0f921"
             ]
            ],
            "type": "contour"
           }
          ],
          "contourcarpet": [
           {
            "colorbar": {
             "outlinewidth": 0,
             "ticks": ""
            },
            "type": "contourcarpet"
           }
          ],
          "heatmap": [
           {
            "colorbar": {
             "outlinewidth": 0,
             "ticks": ""
            },
            "colorscale": [
             [
              0,
              "#0d0887"
             ],
             [
              0.1111111111111111,
              "#46039f"
             ],
             [
              0.2222222222222222,
              "#7201a8"
             ],
             [
              0.3333333333333333,
              "#9c179e"
             ],
             [
              0.4444444444444444,
              "#bd3786"
             ],
             [
              0.5555555555555556,
              "#d8576b"
             ],
             [
              0.6666666666666666,
              "#ed7953"
             ],
             [
              0.7777777777777778,
              "#fb9f3a"
             ],
             [
              0.8888888888888888,
              "#fdca26"
             ],
             [
              1,
              "#f0f921"
             ]
            ],
            "type": "heatmap"
           }
          ],
          "heatmapgl": [
           {
            "colorbar": {
             "outlinewidth": 0,
             "ticks": ""
            },
            "colorscale": [
             [
              0,
              "#0d0887"
             ],
             [
              0.1111111111111111,
              "#46039f"
             ],
             [
              0.2222222222222222,
              "#7201a8"
             ],
             [
              0.3333333333333333,
              "#9c179e"
             ],
             [
              0.4444444444444444,
              "#bd3786"
             ],
             [
              0.5555555555555556,
              "#d8576b"
             ],
             [
              0.6666666666666666,
              "#ed7953"
             ],
             [
              0.7777777777777778,
              "#fb9f3a"
             ],
             [
              0.8888888888888888,
              "#fdca26"
             ],
             [
              1,
              "#f0f921"
             ]
            ],
            "type": "heatmapgl"
           }
          ],
          "histogram": [
           {
            "marker": {
             "pattern": {
              "fillmode": "overlay",
              "size": 10,
              "solidity": 0.2
             }
            },
            "type": "histogram"
           }
          ],
          "histogram2d": [
           {
            "colorbar": {
             "outlinewidth": 0,
             "ticks": ""
            },
            "colorscale": [
             [
              0,
              "#0d0887"
             ],
             [
              0.1111111111111111,
              "#46039f"
             ],
             [
              0.2222222222222222,
              "#7201a8"
             ],
             [
              0.3333333333333333,
              "#9c179e"
             ],
             [
              0.4444444444444444,
              "#bd3786"
             ],
             [
              0.5555555555555556,
              "#d8576b"
             ],
             [
              0.6666666666666666,
              "#ed7953"
             ],
             [
              0.7777777777777778,
              "#fb9f3a"
             ],
             [
              0.8888888888888888,
              "#fdca26"
             ],
             [
              1,
              "#f0f921"
             ]
            ],
            "type": "histogram2d"
           }
          ],
          "histogram2dcontour": [
           {
            "colorbar": {
             "outlinewidth": 0,
             "ticks": ""
            },
            "colorscale": [
             [
              0,
              "#0d0887"
             ],
             [
              0.1111111111111111,
              "#46039f"
             ],
             [
              0.2222222222222222,
              "#7201a8"
             ],
             [
              0.3333333333333333,
              "#9c179e"
             ],
             [
              0.4444444444444444,
              "#bd3786"
             ],
             [
              0.5555555555555556,
              "#d8576b"
             ],
             [
              0.6666666666666666,
              "#ed7953"
             ],
             [
              0.7777777777777778,
              "#fb9f3a"
             ],
             [
              0.8888888888888888,
              "#fdca26"
             ],
             [
              1,
              "#f0f921"
             ]
            ],
            "type": "histogram2dcontour"
           }
          ],
          "mesh3d": [
           {
            "colorbar": {
             "outlinewidth": 0,
             "ticks": ""
            },
            "type": "mesh3d"
           }
          ],
          "parcoords": [
           {
            "line": {
             "colorbar": {
              "outlinewidth": 0,
              "ticks": ""
             }
            },
            "type": "parcoords"
           }
          ],
          "pie": [
           {
            "automargin": true,
            "type": "pie"
           }
          ],
          "scatter": [
           {
            "fillpattern": {
             "fillmode": "overlay",
             "size": 10,
             "solidity": 0.2
            },
            "type": "scatter"
           }
          ],
          "scatter3d": [
           {
            "line": {
             "colorbar": {
              "outlinewidth": 0,
              "ticks": ""
             }
            },
            "marker": {
             "colorbar": {
              "outlinewidth": 0,
              "ticks": ""
             }
            },
            "type": "scatter3d"
           }
          ],
          "scattercarpet": [
           {
            "marker": {
             "colorbar": {
              "outlinewidth": 0,
              "ticks": ""
             }
            },
            "type": "scattercarpet"
           }
          ],
          "scattergeo": [
           {
            "marker": {
             "colorbar": {
              "outlinewidth": 0,
              "ticks": ""
             }
            },
            "type": "scattergeo"
           }
          ],
          "scattergl": [
           {
            "marker": {
             "colorbar": {
              "outlinewidth": 0,
              "ticks": ""
             }
            },
            "type": "scattergl"
           }
          ],
          "scattermapbox": [
           {
            "marker": {
             "colorbar": {
              "outlinewidth": 0,
              "ticks": ""
             }
            },
            "type": "scattermapbox"
           }
          ],
          "scatterpolar": [
           {
            "marker": {
             "colorbar": {
              "outlinewidth": 0,
              "ticks": ""
             }
            },
            "type": "scatterpolar"
           }
          ],
          "scatterpolargl": [
           {
            "marker": {
             "colorbar": {
              "outlinewidth": 0,
              "ticks": ""
             }
            },
            "type": "scatterpolargl"
           }
          ],
          "scatterternary": [
           {
            "marker": {
             "colorbar": {
              "outlinewidth": 0,
              "ticks": ""
             }
            },
            "type": "scatterternary"
           }
          ],
          "surface": [
           {
            "colorbar": {
             "outlinewidth": 0,
             "ticks": ""
            },
            "colorscale": [
             [
              0,
              "#0d0887"
             ],
             [
              0.1111111111111111,
              "#46039f"
             ],
             [
              0.2222222222222222,
              "#7201a8"
             ],
             [
              0.3333333333333333,
              "#9c179e"
             ],
             [
              0.4444444444444444,
              "#bd3786"
             ],
             [
              0.5555555555555556,
              "#d8576b"
             ],
             [
              0.6666666666666666,
              "#ed7953"
             ],
             [
              0.7777777777777778,
              "#fb9f3a"
             ],
             [
              0.8888888888888888,
              "#fdca26"
             ],
             [
              1,
              "#f0f921"
             ]
            ],
            "type": "surface"
           }
          ],
          "table": [
           {
            "cells": {
             "fill": {
              "color": "#EBF0F8"
             },
             "line": {
              "color": "white"
             }
            },
            "header": {
             "fill": {
              "color": "#C8D4E3"
             },
             "line": {
              "color": "white"
             }
            },
            "type": "table"
           }
          ]
         },
         "layout": {
          "annotationdefaults": {
           "arrowcolor": "#2a3f5f",
           "arrowhead": 0,
           "arrowwidth": 1
          },
          "autotypenumbers": "strict",
          "coloraxis": {
           "colorbar": {
            "outlinewidth": 0,
            "ticks": ""
           }
          },
          "colorscale": {
           "diverging": [
            [
             0,
             "#8e0152"
            ],
            [
             0.1,
             "#c51b7d"
            ],
            [
             0.2,
             "#de77ae"
            ],
            [
             0.3,
             "#f1b6da"
            ],
            [
             0.4,
             "#fde0ef"
            ],
            [
             0.5,
             "#f7f7f7"
            ],
            [
             0.6,
             "#e6f5d0"
            ],
            [
             0.7,
             "#b8e186"
            ],
            [
             0.8,
             "#7fbc41"
            ],
            [
             0.9,
             "#4d9221"
            ],
            [
             1,
             "#276419"
            ]
           ],
           "sequential": [
            [
             0,
             "#0d0887"
            ],
            [
             0.1111111111111111,
             "#46039f"
            ],
            [
             0.2222222222222222,
             "#7201a8"
            ],
            [
             0.3333333333333333,
             "#9c179e"
            ],
            [
             0.4444444444444444,
             "#bd3786"
            ],
            [
             0.5555555555555556,
             "#d8576b"
            ],
            [
             0.6666666666666666,
             "#ed7953"
            ],
            [
             0.7777777777777778,
             "#fb9f3a"
            ],
            [
             0.8888888888888888,
             "#fdca26"
            ],
            [
             1,
             "#f0f921"
            ]
           ],
           "sequentialminus": [
            [
             0,
             "#0d0887"
            ],
            [
             0.1111111111111111,
             "#46039f"
            ],
            [
             0.2222222222222222,
             "#7201a8"
            ],
            [
             0.3333333333333333,
             "#9c179e"
            ],
            [
             0.4444444444444444,
             "#bd3786"
            ],
            [
             0.5555555555555556,
             "#d8576b"
            ],
            [
             0.6666666666666666,
             "#ed7953"
            ],
            [
             0.7777777777777778,
             "#fb9f3a"
            ],
            [
             0.8888888888888888,
             "#fdca26"
            ],
            [
             1,
             "#f0f921"
            ]
           ]
          },
          "colorway": [
           "#636efa",
           "#EF553B",
           "#00cc96",
           "#ab63fa",
           "#FFA15A",
           "#19d3f3",
           "#FF6692",
           "#B6E880",
           "#FF97FF",
           "#FECB52"
          ],
          "font": {
           "color": "#2a3f5f"
          },
          "geo": {
           "bgcolor": "white",
           "lakecolor": "white",
           "landcolor": "#E5ECF6",
           "showlakes": true,
           "showland": true,
           "subunitcolor": "white"
          },
          "hoverlabel": {
           "align": "left"
          },
          "hovermode": "closest",
          "mapbox": {
           "style": "light"
          },
          "paper_bgcolor": "white",
          "plot_bgcolor": "#E5ECF6",
          "polar": {
           "angularaxis": {
            "gridcolor": "white",
            "linecolor": "white",
            "ticks": ""
           },
           "bgcolor": "#E5ECF6",
           "radialaxis": {
            "gridcolor": "white",
            "linecolor": "white",
            "ticks": ""
           }
          },
          "scene": {
           "xaxis": {
            "backgroundcolor": "#E5ECF6",
            "gridcolor": "white",
            "gridwidth": 2,
            "linecolor": "white",
            "showbackground": true,
            "ticks": "",
            "zerolinecolor": "white"
           },
           "yaxis": {
            "backgroundcolor": "#E5ECF6",
            "gridcolor": "white",
            "gridwidth": 2,
            "linecolor": "white",
            "showbackground": true,
            "ticks": "",
            "zerolinecolor": "white"
           },
           "zaxis": {
            "backgroundcolor": "#E5ECF6",
            "gridcolor": "white",
            "gridwidth": 2,
            "linecolor": "white",
            "showbackground": true,
            "ticks": "",
            "zerolinecolor": "white"
           }
          },
          "shapedefaults": {
           "line": {
            "color": "#2a3f5f"
           }
          },
          "ternary": {
           "aaxis": {
            "gridcolor": "white",
            "linecolor": "white",
            "ticks": ""
           },
           "baxis": {
            "gridcolor": "white",
            "linecolor": "white",
            "ticks": ""
           },
           "bgcolor": "#E5ECF6",
           "caxis": {
            "gridcolor": "white",
            "linecolor": "white",
            "ticks": ""
           }
          },
          "title": {
           "x": 0.05
          },
          "xaxis": {
           "automargin": true,
           "gridcolor": "white",
           "linecolor": "white",
           "ticks": "",
           "title": {
            "standoff": 15
           },
           "zerolinecolor": "white",
           "zerolinewidth": 2
          },
          "yaxis": {
           "automargin": true,
           "gridcolor": "white",
           "linecolor": "white",
           "ticks": "",
           "title": {
            "standoff": 15
           },
           "zerolinecolor": "white",
           "zerolinewidth": 2
          }
         }
        },
        "title": {
         "text": "Job Distribution"
        }
       }
      },
      "text/html": [
       "<div>                            <div id=\"a616bafc-94c5-49b8-93c6-303f32980916\" class=\"plotly-graph-div\" style=\"height:525px; width:100%;\"></div>            <script type=\"text/javascript\">                require([\"plotly\"], function(Plotly) {                    window.PLOTLYENV=window.PLOTLYENV || {};                                    if (document.getElementById(\"a616bafc-94c5-49b8-93c6-303f32980916\")) {                    Plotly.newPlot(                        \"a616bafc-94c5-49b8-93c6-303f32980916\",                        [{\"marker\":{\"color\":\"turquoise\"},\"name\":\"Good Credit\",\"x\":[\"skilled\",\"unskilled resident\",\"high qualif/self emp/mgmt\",\"unemp/unskilled non res\"],\"y\":[444,144,97,15],\"type\":\"bar\"},{\"marker\":{\"color\":\"#FF4365\"},\"name\":\"Bad Credit\",\"x\":[\"skilled\",\"unskilled resident\",\"high qualif/self emp/mgmt\",\"unemp/unskilled non res\"],\"y\":[186,56,51,7],\"type\":\"bar\"}],                        {\"template\":{\"data\":{\"barpolar\":[{\"marker\":{\"line\":{\"color\":\"#E5ECF6\",\"width\":0.5},\"pattern\":{\"fillmode\":\"overlay\",\"size\":10,\"solidity\":0.2}},\"type\":\"barpolar\"}],\"bar\":[{\"error_x\":{\"color\":\"#2a3f5f\"},\"error_y\":{\"color\":\"#2a3f5f\"},\"marker\":{\"line\":{\"color\":\"#E5ECF6\",\"width\":0.5},\"pattern\":{\"fillmode\":\"overlay\",\"size\":10,\"solidity\":0.2}},\"type\":\"bar\"}],\"carpet\":[{\"aaxis\":{\"endlinecolor\":\"#2a3f5f\",\"gridcolor\":\"white\",\"linecolor\":\"white\",\"minorgridcolor\":\"white\",\"startlinecolor\":\"#2a3f5f\"},\"baxis\":{\"endlinecolor\":\"#2a3f5f\",\"gridcolor\":\"white\",\"linecolor\":\"white\",\"minorgridcolor\":\"white\",\"startlinecolor\":\"#2a3f5f\"},\"type\":\"carpet\"}],\"choropleth\":[{\"colorbar\":{\"outlinewidth\":0,\"ticks\":\"\"},\"type\":\"choropleth\"}],\"contourcarpet\":[{\"colorbar\":{\"outlinewidth\":0,\"ticks\":\"\"},\"type\":\"contourcarpet\"}],\"contour\":[{\"colorbar\":{\"outlinewidth\":0,\"ticks\":\"\"},\"colorscale\":[[0.0,\"#0d0887\"],[0.1111111111111111,\"#46039f\"],[0.2222222222222222,\"#7201a8\"],[0.3333333333333333,\"#9c179e\"],[0.4444444444444444,\"#bd3786\"],[0.5555555555555556,\"#d8576b\"],[0.6666666666666666,\"#ed7953\"],[0.7777777777777778,\"#fb9f3a\"],[0.8888888888888888,\"#fdca26\"],[1.0,\"#f0f921\"]],\"type\":\"contour\"}],\"heatmapgl\":[{\"colorbar\":{\"outlinewidth\":0,\"ticks\":\"\"},\"colorscale\":[[0.0,\"#0d0887\"],[0.1111111111111111,\"#46039f\"],[0.2222222222222222,\"#7201a8\"],[0.3333333333333333,\"#9c179e\"],[0.4444444444444444,\"#bd3786\"],[0.5555555555555556,\"#d8576b\"],[0.6666666666666666,\"#ed7953\"],[0.7777777777777778,\"#fb9f3a\"],[0.8888888888888888,\"#fdca26\"],[1.0,\"#f0f921\"]],\"type\":\"heatmapgl\"}],\"heatmap\":[{\"colorbar\":{\"outlinewidth\":0,\"ticks\":\"\"},\"colorscale\":[[0.0,\"#0d0887\"],[0.1111111111111111,\"#46039f\"],[0.2222222222222222,\"#7201a8\"],[0.3333333333333333,\"#9c179e\"],[0.4444444444444444,\"#bd3786\"],[0.5555555555555556,\"#d8576b\"],[0.6666666666666666,\"#ed7953\"],[0.7777777777777778,\"#fb9f3a\"],[0.8888888888888888,\"#fdca26\"],[1.0,\"#f0f921\"]],\"type\":\"heatmap\"}],\"histogram2dcontour\":[{\"colorbar\":{\"outlinewidth\":0,\"ticks\":\"\"},\"colorscale\":[[0.0,\"#0d0887\"],[0.1111111111111111,\"#46039f\"],[0.2222222222222222,\"#7201a8\"],[0.3333333333333333,\"#9c179e\"],[0.4444444444444444,\"#bd3786\"],[0.5555555555555556,\"#d8576b\"],[0.6666666666666666,\"#ed7953\"],[0.7777777777777778,\"#fb9f3a\"],[0.8888888888888888,\"#fdca26\"],[1.0,\"#f0f921\"]],\"type\":\"histogram2dcontour\"}],\"histogram2d\":[{\"colorbar\":{\"outlinewidth\":0,\"ticks\":\"\"},\"colorscale\":[[0.0,\"#0d0887\"],[0.1111111111111111,\"#46039f\"],[0.2222222222222222,\"#7201a8\"],[0.3333333333333333,\"#9c179e\"],[0.4444444444444444,\"#bd3786\"],[0.5555555555555556,\"#d8576b\"],[0.6666666666666666,\"#ed7953\"],[0.7777777777777778,\"#fb9f3a\"],[0.8888888888888888,\"#fdca26\"],[1.0,\"#f0f921\"]],\"type\":\"histogram2d\"}],\"histogram\":[{\"marker\":{\"pattern\":{\"fillmode\":\"overlay\",\"size\":10,\"solidity\":0.2}},\"type\":\"histogram\"}],\"mesh3d\":[{\"colorbar\":{\"outlinewidth\":0,\"ticks\":\"\"},\"type\":\"mesh3d\"}],\"parcoords\":[{\"line\":{\"colorbar\":{\"outlinewidth\":0,\"ticks\":\"\"}},\"type\":\"parcoords\"}],\"pie\":[{\"automargin\":true,\"type\":\"pie\"}],\"scatter3d\":[{\"line\":{\"colorbar\":{\"outlinewidth\":0,\"ticks\":\"\"}},\"marker\":{\"colorbar\":{\"outlinewidth\":0,\"ticks\":\"\"}},\"type\":\"scatter3d\"}],\"scattercarpet\":[{\"marker\":{\"colorbar\":{\"outlinewidth\":0,\"ticks\":\"\"}},\"type\":\"scattercarpet\"}],\"scattergeo\":[{\"marker\":{\"colorbar\":{\"outlinewidth\":0,\"ticks\":\"\"}},\"type\":\"scattergeo\"}],\"scattergl\":[{\"marker\":{\"colorbar\":{\"outlinewidth\":0,\"ticks\":\"\"}},\"type\":\"scattergl\"}],\"scattermapbox\":[{\"marker\":{\"colorbar\":{\"outlinewidth\":0,\"ticks\":\"\"}},\"type\":\"scattermapbox\"}],\"scatterpolargl\":[{\"marker\":{\"colorbar\":{\"outlinewidth\":0,\"ticks\":\"\"}},\"type\":\"scatterpolargl\"}],\"scatterpolar\":[{\"marker\":{\"colorbar\":{\"outlinewidth\":0,\"ticks\":\"\"}},\"type\":\"scatterpolar\"}],\"scatter\":[{\"fillpattern\":{\"fillmode\":\"overlay\",\"size\":10,\"solidity\":0.2},\"type\":\"scatter\"}],\"scatterternary\":[{\"marker\":{\"colorbar\":{\"outlinewidth\":0,\"ticks\":\"\"}},\"type\":\"scatterternary\"}],\"surface\":[{\"colorbar\":{\"outlinewidth\":0,\"ticks\":\"\"},\"colorscale\":[[0.0,\"#0d0887\"],[0.1111111111111111,\"#46039f\"],[0.2222222222222222,\"#7201a8\"],[0.3333333333333333,\"#9c179e\"],[0.4444444444444444,\"#bd3786\"],[0.5555555555555556,\"#d8576b\"],[0.6666666666666666,\"#ed7953\"],[0.7777777777777778,\"#fb9f3a\"],[0.8888888888888888,\"#fdca26\"],[1.0,\"#f0f921\"]],\"type\":\"surface\"}],\"table\":[{\"cells\":{\"fill\":{\"color\":\"#EBF0F8\"},\"line\":{\"color\":\"white\"}},\"header\":{\"fill\":{\"color\":\"#C8D4E3\"},\"line\":{\"color\":\"white\"}},\"type\":\"table\"}]},\"layout\":{\"annotationdefaults\":{\"arrowcolor\":\"#2a3f5f\",\"arrowhead\":0,\"arrowwidth\":1},\"autotypenumbers\":\"strict\",\"coloraxis\":{\"colorbar\":{\"outlinewidth\":0,\"ticks\":\"\"}},\"colorscale\":{\"diverging\":[[0,\"#8e0152\"],[0.1,\"#c51b7d\"],[0.2,\"#de77ae\"],[0.3,\"#f1b6da\"],[0.4,\"#fde0ef\"],[0.5,\"#f7f7f7\"],[0.6,\"#e6f5d0\"],[0.7,\"#b8e186\"],[0.8,\"#7fbc41\"],[0.9,\"#4d9221\"],[1,\"#276419\"]],\"sequential\":[[0.0,\"#0d0887\"],[0.1111111111111111,\"#46039f\"],[0.2222222222222222,\"#7201a8\"],[0.3333333333333333,\"#9c179e\"],[0.4444444444444444,\"#bd3786\"],[0.5555555555555556,\"#d8576b\"],[0.6666666666666666,\"#ed7953\"],[0.7777777777777778,\"#fb9f3a\"],[0.8888888888888888,\"#fdca26\"],[1.0,\"#f0f921\"]],\"sequentialminus\":[[0.0,\"#0d0887\"],[0.1111111111111111,\"#46039f\"],[0.2222222222222222,\"#7201a8\"],[0.3333333333333333,\"#9c179e\"],[0.4444444444444444,\"#bd3786\"],[0.5555555555555556,\"#d8576b\"],[0.6666666666666666,\"#ed7953\"],[0.7777777777777778,\"#fb9f3a\"],[0.8888888888888888,\"#fdca26\"],[1.0,\"#f0f921\"]]},\"colorway\":[\"#636efa\",\"#EF553B\",\"#00cc96\",\"#ab63fa\",\"#FFA15A\",\"#19d3f3\",\"#FF6692\",\"#B6E880\",\"#FF97FF\",\"#FECB52\"],\"font\":{\"color\":\"#2a3f5f\"},\"geo\":{\"bgcolor\":\"white\",\"lakecolor\":\"white\",\"landcolor\":\"#E5ECF6\",\"showlakes\":true,\"showland\":true,\"subunitcolor\":\"white\"},\"hoverlabel\":{\"align\":\"left\"},\"hovermode\":\"closest\",\"mapbox\":{\"style\":\"light\"},\"paper_bgcolor\":\"white\",\"plot_bgcolor\":\"#E5ECF6\",\"polar\":{\"angularaxis\":{\"gridcolor\":\"white\",\"linecolor\":\"white\",\"ticks\":\"\"},\"bgcolor\":\"#E5ECF6\",\"radialaxis\":{\"gridcolor\":\"white\",\"linecolor\":\"white\",\"ticks\":\"\"}},\"scene\":{\"xaxis\":{\"backgroundcolor\":\"#E5ECF6\",\"gridcolor\":\"white\",\"gridwidth\":2,\"linecolor\":\"white\",\"showbackground\":true,\"ticks\":\"\",\"zerolinecolor\":\"white\"},\"yaxis\":{\"backgroundcolor\":\"#E5ECF6\",\"gridcolor\":\"white\",\"gridwidth\":2,\"linecolor\":\"white\",\"showbackground\":true,\"ticks\":\"\",\"zerolinecolor\":\"white\"},\"zaxis\":{\"backgroundcolor\":\"#E5ECF6\",\"gridcolor\":\"white\",\"gridwidth\":2,\"linecolor\":\"white\",\"showbackground\":true,\"ticks\":\"\",\"zerolinecolor\":\"white\"}},\"shapedefaults\":{\"line\":{\"color\":\"#2a3f5f\"}},\"ternary\":{\"aaxis\":{\"gridcolor\":\"white\",\"linecolor\":\"white\",\"ticks\":\"\"},\"baxis\":{\"gridcolor\":\"white\",\"linecolor\":\"white\",\"ticks\":\"\"},\"bgcolor\":\"#E5ECF6\",\"caxis\":{\"gridcolor\":\"white\",\"linecolor\":\"white\",\"ticks\":\"\"}},\"title\":{\"x\":0.05},\"xaxis\":{\"automargin\":true,\"gridcolor\":\"white\",\"linecolor\":\"white\",\"ticks\":\"\",\"title\":{\"standoff\":15},\"zerolinecolor\":\"white\",\"zerolinewidth\":2},\"yaxis\":{\"automargin\":true,\"gridcolor\":\"white\",\"linecolor\":\"white\",\"ticks\":\"\",\"title\":{\"standoff\":15},\"zerolinecolor\":\"white\",\"zerolinewidth\":2}}},\"title\":{\"text\":\"Job Distribution\"}},                        {\"responsive\": true}                    ).then(function(){\n",
       "                            \n",
       "var gd = document.getElementById('a616bafc-94c5-49b8-93c6-303f32980916');\n",
       "var x = new MutationObserver(function (mutations, observer) {{\n",
       "        var display = window.getComputedStyle(gd).display;\n",
       "        if (!display || display === 'none') {{\n",
       "            console.log([gd, 'removed!']);\n",
       "            Plotly.purge(gd);\n",
       "            observer.disconnect();\n",
       "        }}\n",
       "}});\n",
       "\n",
       "// Listen for the removal of the full notebook cells\n",
       "var notebookContainer = gd.closest('#notebook-container');\n",
       "if (notebookContainer) {{\n",
       "    x.observe(notebookContainer, {childList: true});\n",
       "}}\n",
       "\n",
       "// Listen for the clearing of the current output cell\n",
       "var outputEl = gd.closest('.output');\n",
       "if (outputEl) {{\n",
       "    x.observe(outputEl, {childList: true});\n",
       "}}\n",
       "\n",
       "                        })                };                });            </script>        </div>"
      ]
     },
     "metadata": {},
     "output_type": "display_data"
    }
   ],
   "source": [
    "# Job Bar Chart\n",
    "\n",
    "job_good_counts = all_data[all_data['class']== 'good']['job'].value_counts()\n",
    "job_bad_counts = all_data[all_data['class']== 'bad']['job'].value_counts()\n",
    "\n",
    "trace0 = go.Bar(\n",
    "    x = job_good_counts.index.values,\n",
    "    y = job_good_counts.values,\n",
    "    marker_color='turquoise',\n",
    "    name='Good Credit')\n",
    "\n",
    "trace1 = go.Bar(\n",
    "    x = job_bad_counts.index.values,\n",
    "    y = job_bad_counts.values,\n",
    "    marker_color='#FF4365', # Radical Red\n",
    "    name='Bad Credit')\n",
    "\n",
    "data = [trace0, trace1]\n",
    "\n",
    "layout = go.Layout(title='Job Distribution')\n",
    "\n",
    "fig = go.Figure(data=data, layout=layout)\n",
    "py.iplot(fig, filename='job-distribution-bar')"
   ]
  },
  {
   "cell_type": "code",
   "execution_count": 156,
   "id": "c9be46a6",
   "metadata": {},
   "outputs": [],
   "source": [
    "## Data Preprocessing and Feature Engineering"
   ]
  },
  {
   "cell_type": "code",
   "execution_count": 192,
   "id": "73525f82",
   "metadata": {},
   "outputs": [],
   "source": [
    "try:\n",
    "    train_y = encoded_train_data['class']\n",
    "    test_y = encoded_test_data['class']\n",
    "    del encoded_train_data['class']\n",
    "    del encoded_test_data['class']\n",
    "    train_X = encoded_train_data\n",
    "    test_X = encoded_test_data\n",
    "    del encoded_train_data\n",
    "    del encoded_test_data\n",
    "except KeyError:\n",
    "    pass"
   ]
  },
  {
   "cell_type": "code",
   "execution_count": 195,
   "id": "509533f7",
   "metadata": {},
   "outputs": [
    {
     "data": {
      "application/vnd.jupyter.widget-view+json": {
       "model_id": "d6b7d93c34c84c67b6dc76b61240a30d",
       "version_major": 2,
       "version_minor": 0
      },
      "text/plain": [
       "  0%|          | 0/663 [00:00<?, ?it/s]"
      ]
     },
     "metadata": {},
     "output_type": "display_data"
    }
   ],
   "source": [
    "# Predict Train Data\n",
    "train_data_predictions = model.predict(train_X)"
   ]
  },
  {
   "cell_type": "code",
   "execution_count": 196,
   "id": "46d4913e",
   "metadata": {},
   "outputs": [
    {
     "name": "stdout",
     "output_type": "stream",
     "text": [
      "              precision    recall  f1-score   support\n",
      "\n",
      "           0       0.34      0.62      0.44       128\n",
      "           1       0.92      0.77      0.84       672\n",
      "\n",
      "    accuracy                           0.75       800\n",
      "   macro avg       0.63      0.70      0.64       800\n",
      "weighted avg       0.82      0.75      0.77       800\n",
      "\n"
     ]
    }
   ],
   "source": [
    "print(metrics.classification_report(train_data_predictions, train_y))"
   ]
  },
  {
   "cell_type": "code",
   "execution_count": 32,
   "id": "bf78d9a4",
   "metadata": {},
   "outputs": [
    {
     "name": "stdout",
     "output_type": "stream",
     "text": [
      "              precision    recall  f1-score   support\n",
      "\n",
      "           0       0.37      0.50      0.43       174\n",
      "           1       0.85      0.77      0.80       626\n",
      "\n",
      "    accuracy                           0.71       800\n",
      "   macro avg       0.61      0.63      0.62       800\n",
      "weighted avg       0.74      0.71      0.72       800\n",
      "\n"
     ]
    }
   ],
   "source": [
    "model.fit(test_X, test_y)\n",
    "train_data_predictions = model.predict(train_X)\n",
    "print(metrics.classification_report(train_data_predictions, train_y))"
   ]
  },
  {
   "cell_type": "code",
   "execution_count": 35,
   "id": "9a436ae9",
   "metadata": {
    "scrolled": false
   },
   "outputs": [
    {
     "name": "stdout",
     "output_type": "stream",
     "text": [
      "LGR: 0.987657 (0.008952)\n",
      "LDA: 0.985887 (0.006998)\n",
      "KNN: 0.883419 (0.016949)\n",
      "CART: 0.712141 (0.054158)\n",
      "CNB: 0.906397 (0.025850)\n",
      "GNB: 0.948797 (0.011535)\n",
      "CNB: 0.906397 (0.025850)\n",
      "RF: 0.842788 (0.015857)\n",
      "SVM: 0.985918 (0.015278)\n",
      "XGBM: 0.789924 (0.058701)\n",
      "LGBM: 0.812840 (0.042419)\n"
     ]
    },
    {
     "data": {
      "image/png": "[encoded data removed]",
      "text/plain": [
       "<Figure size 792x432 with 1 Axes>"
      ]
     },
     "metadata": {
      "needs_background": "light"
     },
     "output_type": "display_data"
    }
   ],
   "source": [
    "seed = 7\n",
    "\n",
    "# prepare models\n",
    "models = []\n",
    "\n",
    "models.append(('LGR', LogisticRegression()))\n",
    "models.append(('LDA', LinearDiscriminantAnalysis()))\n",
    "models.append(('KNN', KNeighborsClassifier()))\n",
    "models.append(('CART', DecisionTreeClassifier()))\n",
    "models.append(('CNB', CategoricalNB()))\n",
    "models.append(('GNB', GaussianNB()))\n",
    "models.append(('CNB', CategoricalNB()))\n",
    "models.append(('RF', RandomForestClassifier()))\n",
    "models.append(('SVM', SVC(gamma='auto')))\n",
    "models.append(('XGBM', XGBClassifier()))\n",
    "models.append(('LGBM', LGBMClassifier()))\n",
    "\n",
    "\n",
    "# Evaluating each model\n",
    "results = []\n",
    "names = []\n",
    "scoring = 'recall'\n",
    "\n",
    "for name, model in models:\n",
    "        kfold = KFold(n_splits=10, shuffle=True, random_state=seed)\n",
    "        cv_results = cross_val_score(model, train_X, train_y, cv=kfold, scoring=scoring)\n",
    "        results.append(cv_results)\n",
    "        names.append(name)\n",
    "        msg = \"%s: %f (%f)\" % (name, cv_results.mean(), cv_results.std())\n",
    "        print(msg)\n",
    "        \n",
    "# boxplot algorithm comparison\n",
    "fig = plt.figure(figsize=(11,6))\n",
    "fig.suptitle('Algorithms Comparison')\n",
    "ax = fig.add_subplot(111)\n",
    "green_diamond = dict(markerfacecolor='g', marker='D')\n",
    "plt.boxplot(results, flierprops=green_diamond, patch_artist=True)\n",
    "ax.set_xticklabels(names)\n",
    "plt.show()"
   ]
  },
  {
   "cell_type": "code",
   "execution_count": 137,
   "id": "5704afaf",
   "metadata": {
    "scrolled": false
   },
   "outputs": [
    {
     "name": "stdout",
     "output_type": "stream",
     "text": [
      "CNB: 0.720295 (0.111263)\n",
      "CART: 0.715513 (0.095344)\n",
      "GNB: 0.708432 (0.123203)\n",
      "KNN: 0.696764 (0.123660)\n",
      "LGBM: 0.733876 (0.124176)\n",
      "LDA: 0.712713 (0.103181)\n",
      "LGR: 0.705675 (0.102721)\n",
      "RF: 0.703120 (0.129184)\n",
      "SVM: 0.707671 (0.124680)\n",
      "XGBM: 0.713457 (0.137880)\n"
     ]
    },
    {
     "data": {
      "image/png": "[encoded data removed]",
      "text/plain": [
       "<Figure size 792x432 with 1 Axes>"
      ]
     },
     "metadata": {
      "needs_background": "light"
     },
     "output_type": "display_data"
    },
    {
     "name": "stdout",
     "output_type": "stream",
     "text": [
      "CNB: 0.827155 (0.133413)\n",
      "CART: 0.663600 (0.135043)\n",
      "GNB: 0.847711 (0.144095)\n",
      "KNN: 0.814832 (0.144443)\n",
      "LGBM: 0.807091 (0.132212)\n",
      "LDA: 0.870239 (0.108025)\n",
      "LGR: 0.877931 (0.114082)\n",
      "RF: 0.823785 (0.187876)\n",
      "SVM: 0.913783 (0.082964)\n",
      "XGBM: 0.740631 (0.153480)\n"
     ]
    },
    {
     "data": {
      "image/png": "[encoded data removed]",
      "text/plain": [
       "<Figure size 792x432 with 1 Axes>"
      ]
     },
     "metadata": {
      "needs_background": "light"
     },
     "output_type": "display_data"
    },
    {
     "name": "stdout",
     "output_type": "stream",
     "text": [
      "CNB: 0.665000 (0.114127)\n",
      "CART: 0.605000 (0.101119)\n",
      "GNB: 0.665000 (0.122577)\n",
      "KNN: 0.645000 (0.129325)\n",
      "LGBM: 0.675000 (0.130863)\n",
      "LDA: 0.675000 (0.090139)\n",
      "LGR: 0.670000 (0.095394)\n",
      "RF: 0.660000 (0.135647)\n",
      "SVM: 0.685000 (0.111915)\n",
      "XGBM: 0.625000 (0.134629)\n"
     ]
    },
    {
     "data": {
      "image/png": "[encoded data removed]",
      "text/plain": [
       "<Figure size 792x432 with 1 Axes>"
      ]
     },
     "metadata": {
      "needs_background": "light"
     },
     "output_type": "display_data"
    },
    {
     "name": "stdout",
     "output_type": "stream",
     "text": [
      "CNB: 0.760238 (0.094101)\n",
      "CART: 0.661535 (0.091643)\n",
      "GNB: 0.762014 (0.108727)\n",
      "KNN: 0.743911 (0.113688)\n",
      "LGBM: 0.760119 (0.110058)\n",
      "LDA: 0.775252 (0.078988)\n",
      "LGR: 0.773983 (0.081549)\n",
      "RF: 0.741093 (0.139765)\n",
      "SVM: 0.789234 (0.087380)\n",
      "XGBM: 0.714353 (0.121071)\n"
     ]
    },
    {
     "data": {
      "image/png": "[encoded data removed]",
      "text/plain": [
       "<Figure size 792x432 with 1 Axes>"
      ]
     },
     "metadata": {
      "needs_background": "light"
     },
     "output_type": "display_data"
    },
    {
     "name": "stdout",
     "output_type": "stream",
     "text": [
      "CNB: 0.639079 (0.131952)\n",
      "CART: 0.563987 (0.090058)\n",
      "GNB: 0.609525 (0.160346)\n",
      "KNN: 0.606919 (0.135082)\n",
      "LGBM: 0.638326 (0.147745)\n",
      "LDA: 0.608510 (0.117194)\n",
      "LGR: 0.603875 (0.117500)\n",
      "RF: 0.616598 (0.150783)\n",
      "SVM: 0.627723 (0.148297)\n",
      "XGBM: 0.648795 (0.133012)\n"
     ]
    },
    {
     "data": {
      "image/png": "[encoded data removed]",
      "text/plain": [
       "<Figure size 792x432 with 1 Axes>"
      ]
     },
     "metadata": {
      "needs_background": "light"
     },
     "output_type": "display_data"
    }
   ],
   "source": [
    "seed = 7\n",
    "\n",
    "# prepare models\n",
    "models = []\n",
    "\n",
    "models.append(('CNB', CategoricalNB()))\n",
    "models.append(('CART', DecisionTreeClassifier()))\n",
    "models.append(('GNB', GaussianNB()))\n",
    "models.append(('KNN', KNeighborsClassifier()))\n",
    "models.append(('LGBM', LGBMClassifier()))\n",
    "models.append(('LDA', LinearDiscriminantAnalysis()))\n",
    "models.append(('LGR', LogisticRegression()))\n",
    "models.append(('RF', RandomForestClassifier()))\n",
    "models.append(('SVM', SVC(gamma='auto')))\n",
    "models.append(('XGBM', XGBClassifier()))\n",
    "\n",
    "\n",
    "# Evaluating each model\n",
    "\n",
    "scorings = ['precision', 'recall', 'accuracy', 'f1', 'roc_auc']\n",
    "\n",
    "for plot_index, scoring in enumerate(scorings):\n",
    "    \n",
    "    results = []\n",
    "    names = []\n",
    "    for name, model in models:\n",
    "\n",
    "            kfold = KFold(n_splits=10, shuffle=True, random_state=seed)\n",
    "            cv_results = cross_val_score(model, test_X, test_y, cv=kfold, scoring=scoring)\n",
    "            results.append(cv_results)\n",
    "            names.append(name)\n",
    "            msg = \"%s: %f (%f)\" % (name, cv_results.mean(), cv_results.std())\n",
    "            print(msg)\n",
    "\n",
    "    # boxplot algorithm comparison\n",
    "    fig = plt.figure(figsize=(11,6))\n",
    "    fig.suptitle('Algorithms Comparison ' + scoring.capitalize())\n",
    "    ax = fig.add_subplot(111)\n",
    "    green_diamond = dict(markerfacecolor='g', marker='D')\n",
    "    plt.boxplot(results, flierprops=green_diamond, patch_artist=True)\n",
    "    ax.set_xticklabels(names)\n",
    "    plt.show()"
   ]
  },
  {
   "cell_type": "code",
   "execution_count": 124,
   "id": "571463ae",
   "metadata": {},
   "outputs": [],
   "source": [
    "# SVM, LGR, LDA, Naive Bayes seems to be best for the primitive comparison."
   ]
  },
  {
   "cell_type": "code",
   "execution_count": 129,
   "id": "86537caf",
   "metadata": {
    "scrolled": false
   },
   "outputs": [
    {
     "name": "stdout",
     "output_type": "stream",
     "text": [
      "Primitive error evaluation accuracy score: 0.7025\n",
      "Test predict accuracy score:  0.705 \n",
      "\n",
      "Confusion Matrix: \n",
      " [[  9  57]\n",
      " [  2 132]] \n",
      "\n",
      "Classification report according to Test prediction: \n",
      "               precision    recall  f1-score   support\n",
      "\n",
      "           0       0.82      0.14      0.23        66\n",
      "           1       0.70      0.99      0.82       134\n",
      "\n",
      "    accuracy                           0.70       200\n",
      "   macro avg       0.76      0.56      0.53       200\n",
      "weighted avg       0.74      0.70      0.62       200\n",
      "\n"
     ]
    },
    {
     "data": {
      "image/png": "[encoded data removed]",
      "text/plain": [
       "<Figure size 432x288 with 1 Axes>"
      ]
     },
     "metadata": {
      "needs_background": "light"
     },
     "output_type": "display_data"
    }
   ],
   "source": [
    "from sklearn.utils import resample\n",
    "from sklearn.metrics import roc_curve\n",
    "\n",
    "gnb = GaussianNB()\n",
    "\n",
    "# Training with data\n",
    "model = gnb.fit(train_X, train_y)\n",
    "\n",
    "print(\"Primitive error evaluation accuracy score:\", model.score(train_X, train_y))\n",
    "\n",
    "y_predictions = model.predict(test_X)\n",
    "\n",
    "print(\"Test predict accuracy score: \", accuracy_score(test_y, y_predictions),\"\\n\")\n",
    "\n",
    "print(\"Confusion Matrix: \\n\", confusion_matrix(test_y, y_predictions),\"\\n\")\n",
    "\n",
    "print(\"Classification report according to Test prediction: \\n\", classification_report(test_y, y_predictions))\n",
    "\n",
    "\n",
    "# Proba\n",
    "y_pred_prob = model.predict_proba(test_X)[:,1]\n",
    "\n",
    "# ROC values: fpr, tpr, thresholds\n",
    "fpr, tpr, thresholds = roc_curve(test_y, y_pred_prob)\n",
    "\n",
    "# ROC Plot\n",
    "plt.plot([0, 1], [0, 1], 'k--')\n",
    "plt.plot(fpr, tpr)\n",
    "plt.xlabel('False Positive Rate', color=\"r\")\n",
    "plt.ylabel('True Positive Rate', color=\"g\")\n",
    "plt.title('ROC Curve')\n",
    "plt.show()"
   ]
  },
  {
   "cell_type": "code",
   "execution_count": 136,
   "id": "a346ee66",
   "metadata": {},
   "outputs": [
    {
     "name": "stdout",
     "output_type": "stream",
     "text": [
      "Train mean results: 0.70875\n",
      "Test mean results: 0.635\n"
     ]
    }
   ],
   "source": [
    "from sklearn.pipeline import Pipeline\n",
    "from sklearn.pipeline import FeatureUnion\n",
    "from sklearn.feature_selection import SelectKBest\n",
    "from sklearn.decomposition import PCA\n",
    "\n",
    "\n",
    "features = []\n",
    "features.append(('PCA', PCA(n_components=2)))\n",
    "features.append(('select_best', SelectKBest(k=6)))\n",
    "feature_union = FeatureUnion(features)\n",
    "\n",
    "# Pipeline\n",
    "estimators = []\n",
    "estimators.append(('feature_union', feature_union))\n",
    "estimators.append(('logistic_regression', LogisticRegression()))\n",
    "model = Pipeline(estimators)\n",
    "\n",
    "# Evaluate pipeline\n",
    "seed = 7\n",
    "kfold = KFold(n_splits=10, shuffle=True, random_state=seed)\n",
    "results = cross_val_score(model, train_X, train_y, cv=kfold)\n",
    "print('Train mean results:', results.mean())\n",
    "\n",
    "results = cross_val_score(model, test_X, test_y, cv=kfold)\n",
    "print('Test mean results:', results.mean())"
   ]
  },
  {
   "cell_type": "code",
   "execution_count": 190,
   "id": "f877e79d",
   "metadata": {},
   "outputs": [
    {
     "data": {
      "application/vnd.jupyter.widget-view+json": {
       "model_id": "21a1b4e8f5594411905f213020e0142d",
       "version_major": 2,
       "version_minor": 0
      },
      "text/plain": [
       "  0%|          | 0/663 [00:00<?, ?it/s]"
      ]
     },
     "metadata": {},
     "output_type": "display_data"
    },
    {
     "data": {
      "application/vnd.jupyter.widget-view+json": {
       "model_id": "6d84900414c24b4197c9ff145ea95cea",
       "version_major": 2,
       "version_minor": 0
      },
      "text/plain": [
       "  0%|          | 0/188 [00:00<?, ?it/s]"
      ]
     },
     "metadata": {},
     "output_type": "display_data"
    },
    {
     "name": "stdout",
     "output_type": "stream",
     "text": [
      "Bayesian Network TRAIN Data Classification Report:               precision    recall  f1-score   support\n",
      "\n",
      "           0       0.62      0.34      0.44       234\n",
      "           1       0.77      0.92      0.84       566\n",
      "\n",
      "    accuracy                           0.75       800\n",
      "   macro avg       0.70      0.63      0.64       800\n",
      "weighted avg       0.73      0.75      0.72       800\n",
      " \n",
      "\n",
      "              precision    recall  f1-score   support\n",
      "\n",
      "           0       0.70      0.35      0.46        66\n",
      "           1       0.74      0.93      0.82       134\n",
      "\n",
      "    accuracy                           0.73       200\n",
      "   macro avg       0.72      0.64      0.64       200\n",
      "weighted avg       0.73      0.73      0.71       200\n",
      "\n",
      "Bayesian Network TEST Data Classification Report:\n"
     ]
    },
    {
     "data": {
      "text/plain": [
       "0.735"
      ]
     },
     "execution_count": 190,
     "metadata": {},
     "output_type": "execute_result"
    }
   ],
   "source": [
    "# Bayesian Network\n",
    "\n",
    "\n",
    "from sklearn import preprocessing\n",
    "label = preprocessing.LabelEncoder()\n",
    "train_data_encoded = pd.DataFrame()\n",
    "\n",
    "for i in train_data.columns :\n",
    "  train_data_encoded[i]=label.fit_transform(train_data[i])\n",
    "\n",
    "\n",
    "model = BayesianNetwork()\n",
    "\n",
    "for node in train_data.columns:\n",
    "    model.add_node(node)\n",
    "\n",
    "for node in train_data.columns:\n",
    "    if node != 'class':\n",
    "        model.add_edge('class', node)\n",
    "\n",
    "model.add_edge('property_magnitude', 'housing')\n",
    "model.add_edge('property_magnitude', 'job')\n",
    "model.add_edge('housing', 'purpose')\n",
    "#model.add_edge('housing', 'personal_status')\n",
    "model.add_edge('job', 'employment')\n",
    "model.add_edge('job', 'own_telephone')\n",
    "model.add_edge('own_telephone', 'credit_history')\n",
    "\n",
    "# Learning CPD\n",
    "model.fit(train_data_encoded)\n",
    "\n",
    "# Checking model and it's dependencies\n",
    "model.check_model()\n",
    "\n",
    "# Predictions\n",
    "train_predictions = model.predict(train_X)\n",
    "test_predictions = model.predict(test_X)\n",
    "\n",
    "\n",
    "print('Bayesian Network TRAIN Data Classification Report:'\n",
    "print('metrics.classification_report(train_y, train_predictions), '\\n')\n",
    "print(metrics.classification_report(test_y, test_predictions))\n",
    "\n",
    "print('Bayesian Network TEST Data Classification Report:')\n",
    "metrics.accuracy_score(test_y, test_predictions)"
   ]
  },
  {
   "cell_type": "markdown",
   "id": "f65895eb",
   "metadata": {},
   "source": [
    "# Conclusion\n",
    "<br>\n",
    "\n",
    "Many classifications algorithms have been tested.\n",
    "<br>\n",
    "\n",
    "Best test accuracy has been obtained by bayesian network approach with 73%.\n",
    "<br>\n",
    "Removing of (Housing - personal) status node improved the test accuracy by 2%."
   ]
  },
  {
   "cell_type": "code",
   "execution_count": null,
   "id": "77bccc2a",
   "metadata": {},
   "outputs": [],
   "source": []
  }
 ],
 "metadata": {
  "kernelspec": {
   "display_name": "Python 3 (ipykernel)",
   "language": "python",
   "name": "python3"
  },
  "language_info": {
   "codemirror_mode": {
    "name": "ipython",
    "version": 3
   },
   "file_extension": ".py",
   "mimetype": "text/x-python",
   "name": "python",
   "nbconvert_exporter": "python",
   "pygments_lexer": "ipython3",
   "version": "3.9.2"
  }
 },
 "nbformat": 4,
 "nbformat_minor": 5
}
